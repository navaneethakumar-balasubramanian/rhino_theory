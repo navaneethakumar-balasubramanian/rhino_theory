{
 "cells": [
  {
   "cell_type": "code",
   "execution_count": 1,
   "metadata": {},
   "outputs": [],
   "source": [
    "import numpy as np\n",
    "import pandas as pd\n",
    "import seaborn as sns\n",
    "import os\n",
    "from matplotlib import pyplot as plt\n",
    "\n",
    "os.chdir('/home/bruno/datacloud')\n",
    "\n",
    "plt.style.use('seaborn-dark')\n",
    "\n",
    "plt.rcParams['axes.grid'] = True\n",
    "plt.rcParams['figure.figsize'] = (15, 5)"
   ]
  },
  {
   "cell_type": "code",
   "execution_count": 2,
   "metadata": {},
   "outputs": [],
   "source": [
    "from dcrhino3.feature_extraction.feature_extractor_j2 import FeatureExtractorJ2\n",
    "from dcrhino3.helpers.general_helper_functions import dict_to_object"
   ]
  },
  {
   "cell_type": "markdown",
   "metadata": {},
   "source": [
    "# Define Picks and Window Widths \n",
    "\n",
    "I copied this from a process flow"
   ]
  },
  {
   "cell_type": "code",
   "execution_count": 12,
   "metadata": {},
   "outputs": [],
   "source": [
    "transformed_args = {\n",
    "        \"additional_pick_based_amplitude_windows\": {\n",
    "          \"axial\": {\n",
    "            \"multiple_1\": {\n",
    "              \"left_upper_bound_offset\": -0.002,\n",
    "              \"left_lower_bound_offset\": -0.006,\n",
    "              \"right_upper_bound_offset\": 0.006,\n",
    "              \"right_lower_bound_offset\": 0.002\n",
    "            },\n",
    "            \"primary\": {\n",
    "              \"left_upper_bound_offset\": -0.002,\n",
    "              \"left_lower_bound_offset\": -0.006,\n",
    "              \"right_upper_bound_offset\": 0.006,\n",
    "              \"right_lower_bound_offset\": 0.002\n",
    "            }\n",
    "          },\n",
    "          \"tangential\": {\n",
    "            \"multiple_1\": {\n",
    "              \"left_upper_bound_offset\": -0.002,\n",
    "              \"left_lower_bound_offset\": -0.006,\n",
    "              \"right_upper_bound_offset\": 0.006,\n",
    "              \"right_lower_bound_offset\": 0.002\n",
    "            },\n",
    "            \"primary\": {\n",
    "              \"left_upper_bound_offset\": -0.002,\n",
    "              \"left_lower_bound_offset\": -0.006,\n",
    "              \"right_upper_bound_offset\": 0.006,\n",
    "              \"right_lower_bound_offset\": 0.002\n",
    "            }\n",
    "          }\n",
    "        },\n",
    "        \"ACOUSTIC_VELOCITY\": 4755.,\n",
    "        \"amplitude_half_widths\": {\n",
    "          \"axial\": {\n",
    "            \"multiple_3\": 0.00105,\n",
    "            \"multiple_2\": 0.00105,\n",
    "            \"multiple_1\": 0.00105,\n",
    "            \"primary\": 0.00105\n",
    "          },\n",
    "          \"tangential\": {\n",
    "            \"multiple_3\": 0.00105,\n",
    "            \"multiple_2\": 0.00105,\n",
    "            \"multiple_1\": 0.00105,\n",
    "            \"primary\": 0.00105\n",
    "          }\n",
    "        },\n",
    "        \"sensor_saturation_g\": 1000,\n",
    "        \"manual_time_windows\": {\n",
    "          \"axial\": {\n",
    "            \"multiple_3\": [-0.004, 0.005],\n",
    "            \"multiple_2\": [-0.004, 0.005],\n",
    "            \"multiple_1\": [-0.004, 0.005],\n",
    "            \"primary\": [-0.004,0.005]\n",
    "          },\n",
    "          \"tangential\": {\n",
    "            \"multiple_3\": [-0.004, 0.005],\n",
    "            \"multiple_2\": [-0.004, 0.005],\n",
    "            \"multiple_1\": [-0.004, 0.005],\n",
    "            \"primary\": [-0.004,0.005]\n",
    "          }\n",
    "        },\n",
    "        \"sensor_distance_to_shocksub\": 1,\n",
    "        \"upsample_sampling_rate\": 10000,\n",
    "        \"SHEAR_VELOCITY\": 2654.,\n",
    "        \"time_picks\": {\n",
    "          \"axial\": {\n",
    "            \"multiple_3\": \"maximum\",\n",
    "            \"multiple_2\": \"maximum\",\n",
    "            \"multiple_1\": \"maximum\",\n",
    "            \"primary\": \"maximum\"\n",
    "          },\n",
    "          \"tangential\": {\n",
    "            \"multiple_3\": \"maximum\",\n",
    "            \"multiple_2\": \"maximum\",\n",
    "            \"multiple_1\": \"maximum\",\n",
    "            \"primary\": \"maximum\"\n",
    "          }\n",
    "        },\n",
    "        \"amplitude_picks\": {\n",
    "          \"axial\": {\n",
    "            \"multiple_3\": \"integrated_absolute_amplitude\",\n",
    "            \"multiple_2\": \"integrated_absolute_amplitude\",\n",
    "            \"multiple_1\": \"integrated_absolute_amplitude\",\n",
    "            \"primary\": \"integrated_absolute_amplitude\"\n",
    "          },\n",
    "          \"tangential\": {\n",
    "            \"multiple_3\": \"integrated_absolute_amplitude\",\n",
    "            \"multiple_2\": \"integrated_absolute_amplitude\",\n",
    "            \"multiple_1\": \"integrated_absolute_amplitude\",\n",
    "            \"primary\": \"integrated_absolute_amplitude\"\n",
    "          }\n",
    "        }\n",
    "      }"
   ]
  },
  {
   "cell_type": "markdown",
   "metadata": {},
   "source": [
    "Here we need to convert the dictionary to dictionary object. "
   ]
  },
  {
   "cell_type": "code",
   "execution_count": 13,
   "metadata": {},
   "outputs": [],
   "source": [
    "def _dict_to_object(obj):\n",
    "    for k, v in obj.items():\n",
    "        if isinstance(v, dict):\n",
    "            item = _dict_to_object(v)\n",
    "            obj[k] = dict_to_object(v)\n",
    "    return dict_to_object(obj)"
   ]
  },
  {
   "cell_type": "code",
   "execution_count": 14,
   "metadata": {},
   "outputs": [],
   "source": [
    "transformed_args = _dict_to_object(transformed_args)"
   ]
  },
  {
   "cell_type": "markdown",
   "metadata": {},
   "source": [
    "# Define a wavelet "
   ]
  },
  {
   "cell_type": "code",
   "execution_count": 15,
   "metadata": {},
   "outputs": [],
   "source": [
    "import numpy as np"
   ]
  },
  {
   "cell_type": "code",
   "execution_count": 16,
   "metadata": {},
   "outputs": [],
   "source": [
    "from theory.core import TheoreticalWavelet, Pipe, Rock"
   ]
  },
  {
   "cell_type": "code",
   "execution_count": 17,
   "metadata": {},
   "outputs": [],
   "source": [
    "pipe = Pipe()\n",
    "\n",
    "rock = Rock(2000, 2000)\n",
    "\n",
    "theoretical = TheoreticalWavelet(pipe, rock, )"
   ]
  },
  {
   "cell_type": "code",
   "execution_count": 18,
   "metadata": {},
   "outputs": [],
   "source": [
    "wavelet = theoretical.primary_in_time_domain(500, filtered=True)\n",
    "timestamp = theoretical.get_time_range_for_window(500) / 1000"
   ]
  },
  {
   "cell_type": "code",
   "execution_count": 19,
   "metadata": {},
   "outputs": [
    {
     "data": {
      "text/plain": [
       "10000"
      ]
     },
     "execution_count": 19,
     "metadata": {},
     "output_type": "execute_result"
    }
   ],
   "source": [
    "theoretical.sampling_rate"
   ]
  },
  {
   "cell_type": "code",
   "execution_count": 20,
   "metadata": {},
   "outputs": [
    {
     "data": {
      "text/plain": [
       "[<matplotlib.lines.Line2D at 0x7f18a15dd048>]"
      ]
     },
     "execution_count": 20,
     "metadata": {},
     "output_type": "execute_result"
    },
    {
     "data": {
      "image/png": "[encoded data removed]",
      "text/plain": [
       "<Figure size 432x288 with 1 Axes>"
      ]
     },
     "metadata": {
      "needs_background": "light"
     },
     "output_type": "display_data"
    }
   ],
   "source": [
    "plt.plot(timestamp, wavelet)"
   ]
  },
  {
   "cell_type": "markdown",
   "metadata": {},
   "source": [
    "# Call feature extractor "
   ]
  },
  {
   "cell_type": "code",
   "execution_count": 22,
   "metadata": {},
   "outputs": [],
   "source": [
    "fej2 = FeatureExtractorJ2('axial', trimmed_trace=wavelet, timestamp=timestamp/1000, transformed_args=transformed_args, sampling_rate=10000)"
   ]
  },
  {
   "cell_type": "code",
   "execution_count": 23,
   "metadata": {},
   "outputs": [],
   "source": [
    "ef = fej2.extract_features()"
   ]
  },
  {
   "cell_type": "markdown",
   "metadata": {},
   "source": [
    "Seems to work, but I think the features are not correct. Ignore everything below, lets jam tmr."
   ]
  },
  {
   "cell_type": "code",
   "execution_count": 130,
   "metadata": {},
   "outputs": [
    {
     "data": {
      "text/plain": [
       "(-10, 10)"
      ]
     },
     "execution_count": 130,
     "metadata": {},
     "output_type": "execute_result"
    },
    {
     "data": {
      "image/png": "[encoded data removed]",
      "text/plain": [
       "<Figure size 1080x360 with 1 Axes>"
      ]
     },
     "metadata": {},
     "output_type": "display_data"
    }
   ],
   "source": [
    "plt.plot(timestamp, wavelet)\n",
    "plt.vlines(-1.90, -30000, 50000)\n",
    "plt.vlines(2.95, -30000, 50000)\n",
    "plt.vlines(4.70, -30000, 50000, colors='r')\n",
    "plt.xlim(-10, 10)"
   ]
  },
  {
   "cell_type": "code",
   "execution_count": 26,
   "metadata": {},
   "outputs": [
    {
     "data": {
      "text/plain": [
       "159983.49564337666"
      ]
     },
     "execution_count": 26,
     "metadata": {},
     "output_type": "execute_result"
    }
   ],
   "source": [
    "np.trapz(wavelet[(timestamp>=-1.9) & (timestamp<=2.95)])"
   ]
  },
  {
   "cell_type": "code",
   "execution_count": 25,
   "metadata": {},
   "outputs": [
    {
     "data": {
      "text/plain": [
       "{'J2-axial-primary-maximum_time': 0.0006000000000000001,\n",
       " 'J2-axial-multiple_1-maximum_time': 0.0006000000000000001,\n",
       " 'J2-axial-multiple_2-maximum_time': 0.0006000000000000001,\n",
       " 'J2-axial-multiple_3-maximum_time': 0.0006000000000000001,\n",
       " 'J2-axial-multiple_1-jazz1_left_integrated_amplitude': -17171.822540878402,\n",
       " 'J2-axial-multiple_1-jazz1_left_integrated_absolute_amplitude': 18288.25846916468,\n",
       " 'J2-axial-multiple_1-jazz1_right_integrated_amplitude': -16164.012126904032,\n",
       " 'J2-axial-multiple_1-jazz1_right_integrated_absolute_amplitude': 17801.825684174626,\n",
       " 'J2-axial-multiple_1-jazz1_center_integrated_amplitude': 37564.06307846206,\n",
       " 'J2-axial-multiple_1-jazz1_center_integrated_absolute_amplitude': 37564.06307846206,\n",
       " 'J2-axial-primary-jazz1_left_integrated_amplitude': -17171.822540878402,\n",
       " 'J2-axial-primary-jazz1_left_integrated_absolute_amplitude': 18288.25846916468,\n",
       " 'J2-axial-primary-jazz1_right_integrated_amplitude': -16164.012126904032,\n",
       " 'J2-axial-primary-jazz1_right_integrated_absolute_amplitude': 17801.825684174626,\n",
       " 'J2-axial-primary-jazz1_center_integrated_amplitude': 37564.06307846206,\n",
       " 'J2-axial-primary-jazz1_center_integrated_absolute_amplitude': 37564.06307846206,\n",
       " 'J2-axial-primary-integrated_absolute_amplitude': 48663.958445887096,\n",
       " 'J2-axial-multiple_1-integrated_absolute_amplitude': 48663.958445887096,\n",
       " 'J2-axial-multiple_2-integrated_absolute_amplitude': 48663.958445887096,\n",
       " 'J2-axial-multiple_3-integrated_absolute_amplitude': 48663.958445887096,\n",
       " 'J2-pseudo_ucs': 220.59908985734074,\n",
       " 'J2-axial-pseudo_velocity_1': inf,\n",
       " 'J2-pseudo_density': 0.0,\n",
       " 'J2-axial-reflection_coefficient_1': 0.0,\n",
       " 'J2-axial-reflection_coefficient_2': 0.0,\n",
       " 'J2-axial-delay_1': 0.0}"
      ]
     },
     "execution_count": 25,
     "metadata": {},
     "output_type": "execute_result"
    }
   ],
   "source": [
    "ef"
   ]
  },
  {
   "cell_type": "code",
   "execution_count": null,
   "metadata": {},
   "outputs": [],
   "source": []
  }
 ],
 "metadata": {
  "kernelspec": {
   "display_name": "Python 3",
   "language": "python",
   "name": "python3"
  },
  "language_info": {
   "codemirror_mode": {
    "name": "ipython",
    "version": 3
   },
   "file_extension": ".py",
   "mimetype": "text/x-python",
   "name": "python",
   "nbconvert_exporter": "python",
   "pygments_lexer": "ipython3",
   "version": "3.6.8"
  }
 },
 "nbformat": 4,
 "nbformat_minor": 4
}
