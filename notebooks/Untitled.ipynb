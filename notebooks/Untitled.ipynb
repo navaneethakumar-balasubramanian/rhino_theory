{
 "cells": [
  {
   "cell_type": "code",
   "execution_count": null,
   "metadata": {},
   "outputs": [],
   "source": [
    "import plotly.plotly as py\n",
    "import plotly.graph_objs as go\n",
    "\n",
    "\n",
    "from plotly import tools\n",
    "from plotly.offline import download_plotlyjs, init_notebook_mode, plot, iplot\n",
    "\n",
    "init_notebook_mode()\n",
    "\n",
    "trace1 = go.Scatter(x=[1, 2, 3], y=[4, 5, 6])\n",
    "trace2 = go.Scatter(x=[20, 30, 40], y=[50, 60, 70])\n",
    "trace3 = go.Scatter(x=[300, 400, 500], y=[600, 700, 800])\n",
    "trace4 = go.Scatter(x=[4000, 5000, 6000], y=[7000, 8000, 9000])\n",
    "\n",
    "fig = tools.make_subplots(rows=7, cols=7, specs=[                              \n",
    "    [None, {'colspan': 4, 'rowspan':2}, None, None, None, None, None],         \n",
    "    [None, None, None, None, None, None, None],                                \n",
    "    [{'colspan': 3}, None, None, {'colspan': 3}, None, None, {'colspan': 1}],\n",
    "    [{'colspan': 3}, None, None, {'colspan': 3}, None, None, {'colspan': 1}],\n",
    "    [{'colspan': 2, 'rowspan':1}, None, {'colspan': 2, 'rowspan':1}, None, {'colspan': 2, 'rowspan': 1}, None, None],\n",
    "    [{'colspan': 2, 'rowspan':2}, None, {'colspan': 2, 'rowspan':2}, None, {'colspan': 2, 'rowspan': 2}, None, None],\n",
    "    [None, None, None, None, None, None, None],                                                                                                                                              \n",
    "], subplot_titles=('Frequency Plot',                                           \n",
    "                   'Primary - Real (freq)', 'Primary - Imag (freq)', 'Primary - Nyquist',\n",
    "                   'Reflected - Real (freq)', 'Reflected - Imag (freq)', 'Reflected - Nyquist',\n",
    "                   'Primary Wavelet (time)', 'Reflected Wavelet (time)', 'Multiple Wavelet'\n",
    "                   ))       \n",
    "\n",
    "fig.append_trace(trace1, 1, 2)\n",
    "fig.append_trace(trace2, 3, 1)\n",
    "fig.append_trace(trace3, 4, 1)\n",
    "fig.append_trace(trace4, 5, 1)\n",
    "\n",
    "fig['layout'].update(height=800, width=1000, title='Multiple Subplots' +\n",
    "                                              ' with Titles')\n",
    "\n",
    "iplot(fig)"
   ]
  },
  {
   "cell_type": "code",
   "execution_count": null,
   "metadata": {},
   "outputs": [],
   "source": [
    "fig['layout']['xaxis11']['dtick'] = wavelet.time_sampling"
   ]
  },
  {
   "cell_type": "code",
   "execution_count": null,
   "metadata": {},
   "outputs": [],
   "source": []
  }
 ],
 "metadata": {
  "kernelspec": {
   "display_name": "Python 3",
   "language": "python",
   "name": "python3"
  },
  "language_info": {
   "codemirror_mode": {
    "name": "ipython",
    "version": 3
   },
   "file_extension": ".py",
   "mimetype": "text/x-python",
   "name": "python",
   "nbconvert_exporter": "python",
   "pygments_lexer": "ipython3",
   "version": "3.6.8"
  }
 },
 "nbformat": 4,
 "nbformat_minor": 2
}
