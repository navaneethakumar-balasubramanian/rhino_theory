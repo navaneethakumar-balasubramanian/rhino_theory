{
 "cells": [
  {
   "cell_type": "markdown",
   "metadata": {},
   "source": [
    "# Exploring the wavelets\n",
    "\n",
    "A quick debugging notebook to look at the waveletes given some specific set of rock/pipe params."
   ]
  },
  {
   "cell_type": "code",
   "execution_count": null,
   "metadata": {},
   "outputs": [],
   "source": [
    "import numpy as np\n",
    "import pandas as pd\n",
    "import seaborn as sns\n",
    "import os\n",
    "from matplotlib import pyplot as plt\n",
    "import matplotlib\n",
    "from matplotlib.cm import get_cmap\n",
    "\n",
    "cmap = get_cmap('bwr')\n",
    "\n",
    "plt.style.use('seaborn-dark')\n",
    "\n",
    "plt.rcParams['axes.grid'] = True\n",
    "plt.rcParams['figure.figsize'] = (15, 5)\n",
    "\n",
    "from scipy import signal\n",
    "from itertools import product\n",
    "\n",
    "import warnings\n",
    "warnings.filterwarnings(\"ignore\")\n",
    "\n",
    "from tqdm import tqdm"
   ]
  },
  {
   "cell_type": "code",
   "execution_count": null,
   "metadata": {},
   "outputs": [],
   "source": [
    "from theory.core import TheoreticalWavelet, Pipe, Rock"
   ]
  },
  {
   "cell_type": "code",
   "execution_count": null,
   "metadata": {},
   "outputs": [],
   "source": [
    "pipe = Pipe(Rb=.16, alpha=4875, rho=7200)\n",
    "rock = Rock(2000, 1500)\n",
    "wavelet = TheoreticalWavelet(pipe, rock, filter_duration=.1)\n",
    "\n",
    "primary = wavelet.primary_in_time_domain(200, None, filtered=True)\n",
    "reflected = wavelet.reflected_in_time_domain(200, None, filtered=True)\n",
    "multiple = wavelet.multiple_in_time_domain(200, None, filtered=True)\n",
    "\n",
    "time = wavelet.get_time_range_for_window(200)\n",
    "\n",
    "fig, axes = plt.subplots(1, 3, figsize=(15,7.5/2.5), sharey=False)\n",
    "axes[0].plot(time, primary, label='primary', color='green')\n",
    "axes[0].set_title('Primary in Time Domain')\n",
    "axes[0].legend()\n",
    "axes[1].plot(time, reflected)\n",
    "axes[1].set_title('Reflected in Time Domain')\n",
    "axes[2].plot(time, multiple, color='salmon')\n",
    "axes[2].set_title('Multiple in Time Domain')\n",
    "for ax in axes.ravel():\n",
    "    ax.set_xlabel('Time (ms)')\n",
    "fig.suptitle('Rock_alpha: {} - Rock_rho: {} - Pipe_Rb: {}'.format(rock.alpha, rock.rho, pipe.Rb), y=1.05)\n",
    "fig.tight_layout()"
   ]
  },
  {
   "cell_type": "code",
   "execution_count": null,
   "metadata": {},
   "outputs": [],
   "source": [
    "wavelet.sampling_rate"
   ]
  },
  {
   "cell_type": "code",
   "execution_count": null,
   "metadata": {},
   "outputs": [],
   "source": [
    "wavelet.sampling_interval*1000"
   ]
  },
  {
   "cell_type": "code",
   "execution_count": null,
   "metadata": {},
   "outputs": [],
   "source": [
    "p = wavelet.primary_in_time_domain(None, None, filtered=True)"
   ]
  },
  {
   "cell_type": "code",
   "execution_count": null,
   "metadata": {},
   "outputs": [],
   "source": [
    "pd.Series(p).describe()"
   ]
  },
  {
   "cell_type": "code",
   "execution_count": null,
   "metadata": {},
   "outputs": [],
   "source": [
    "pacorr = signal.correlate(p, p, method='fft')\n",
    "h = int(len(pacorr)/2)\n",
    "W = pacorr[h:h+4000]\n",
    "W[0] = W[0]+1"
   ]
  },
  {
   "cell_type": "code",
   "execution_count": null,
   "metadata": {},
   "outputs": [],
   "source": [
    "from scipy.linalg import toeplitz, inv"
   ]
  },
  {
   "cell_type": "code",
   "execution_count": null,
   "metadata": {},
   "outputs": [],
   "source": [
    "A = toeplitz(pacorr)"
   ]
  },
  {
   "cell_type": "code",
   "execution_count": null,
   "metadata": {},
   "outputs": [],
   "source": [
    "b = np.r_[1, [0] * 3999]"
   ]
  },
  {
   "cell_type": "code",
   "execution_count": null,
   "metadata": {},
   "outputs": [],
   "source": [
    "c = inv(A)"
   ]
  },
  {
   "cell_type": "code",
   "execution_count": null,
   "metadata": {},
   "outputs": [],
   "source": [
    "W.shape"
   ]
  },
  {
   "cell_type": "code",
   "execution_count": null,
   "metadata": {},
   "outputs": [],
   "source": [
    "c.shape"
   ]
  },
  {
   "cell_type": "code",
   "execution_count": null,
   "metadata": {},
   "outputs": [],
   "source": [
    "W"
   ]
  },
  {
   "cell_type": "code",
   "execution_count": null,
   "metadata": {},
   "outputs": [],
   "source": [
    "np.dot(W/1e6, c)"
   ]
  },
  {
   "cell_type": "code",
   "execution_count": null,
   "metadata": {},
   "outputs": [],
   "source": [
    "W[:, None] c"
   ]
  },
  {
   "cell_type": "code",
   "execution_count": null,
   "metadata": {},
   "outputs": [],
   "source": [
    "b.shape"
   ]
  },
  {
   "cell_type": "code",
   "execution_count": null,
   "metadata": {},
   "outputs": [],
   "source": [
    "ax = plt.axes()\n",
    "ax.matshow(np.log(c))"
   ]
  },
  {
   "cell_type": "code",
   "execution_count": null,
   "metadata": {},
   "outputs": [],
   "source": [
    "ax = plt.axes()\n",
    "ax.plot(pacorr[h:h+4000])\n",
    "ax.figure.set_size_inches(35, 10)"
   ]
  }
 ],
 "metadata": {
  "kernelspec": {
   "display_name": "Python 3",
   "language": "python",
   "name": "python3"
  },
  "language_info": {
   "codemirror_mode": {
    "name": "ipython",
    "version": 3
   },
   "file_extension": ".py",
   "mimetype": "text/x-python",
   "name": "python",
   "nbconvert_exporter": "python",
   "pygments_lexer": "ipython3",
   "version": "3.6.12"
  }
 },
 "nbformat": 4,
 "nbformat_minor": 4
}
