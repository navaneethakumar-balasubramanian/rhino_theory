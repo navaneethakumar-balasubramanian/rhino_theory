{
 "cells": [
  {
   "cell_type": "markdown",
   "metadata": {},
   "source": [
    "Prototyping the wiggle plot."
   ]
  },
  {
   "cell_type": "code",
   "execution_count": 1,
   "metadata": {},
   "outputs": [],
   "source": [
    "import numpy as np\n",
    "import pandas as pd\n",
    "import seaborn as sns\n",
    "import os\n",
    "from matplotlib import pyplot as plt\n",
    "\n",
    "os.chdir('/home/bruno/datacloud')\n",
    "\n",
    "plt.style.use('seaborn-dark')\n",
    "\n",
    "plt.rcParams['axes.grid'] = True\n",
    "plt.rcParams['figure.figsize'] = (7.5, 5)"
   ]
  },
  {
   "cell_type": "code",
   "execution_count": 2,
   "metadata": {},
   "outputs": [],
   "source": [
    "offsets_range = 200"
   ]
  },
  {
   "cell_type": "code",
   "execution_count": 3,
   "metadata": {},
   "outputs": [],
   "source": [
    "wavelets = [\n",
    "    np.cos(10041*np.arange(100)) + np.sin(284*(np.arange(100)+51)),\n",
    "    np.cos(1000*np.arange(100)) + np.sin(6000*np.arange(100)),\n",
    "    np.cos(253*np.arange(100))+68 + np.sin(9945*np.arange(100))-511,\n",
    "           ]"
   ]
  },
  {
   "cell_type": "code",
   "execution_count": 4,
   "metadata": {},
   "outputs": [],
   "source": [
    "import numpy as np\n",
    "import matplotlib.pyplot as plt\n",
    "    \n",
    "def wiggle_plot(wavelets, offsets, time_range, gain=20, color='k', ax=None):\n",
    "\n",
    "    if not ax:\n",
    "        fig, ax = plt.subplots()\n",
    "\n",
    "    y = time_range\n",
    "\n",
    "    for offset, wavelet in zip(offsets,wavelets):\n",
    "        x = ((wavelet) / wavelet.std()) * gain + offset\n",
    "        ax.plot(x, y ,'-', color=color)\n",
    "        ax.fill_betweenx(y, offset, x, where=(x>=offset), color=color, interpolate=True)\n",
    "        \n",
    "    return fig, ax"
   ]
  },
  {
   "cell_type": "code",
   "execution_count": 5,
   "metadata": {},
   "outputs": [],
   "source": [
    "from theory.core import Pipe, Rock, TheoreticalWavelet, MultipleWavelets"
   ]
  },
  {
   "cell_type": "code",
   "execution_count": 6,
   "metadata": {},
   "outputs": [],
   "source": [
    "from scipy import signal"
   ]
  },
  {
   "cell_type": "code",
   "execution_count": 7,
   "metadata": {},
   "outputs": [],
   "source": [
    "from dask import delayed, compute"
   ]
  },
  {
   "cell_type": "code",
   "execution_count": 8,
   "metadata": {},
   "outputs": [
    {
     "name": "stdout",
     "output_type": "stream",
     "text": [
      "CPU times: user 1.53 s, sys: 2.39 s, total: 3.92 s\n",
      "Wall time: 596 ms\n"
     ]
    }
   ],
   "source": [
    "%%time\n",
    "rho_range = np.arange(100, 3200+100, 100)\n",
    "alpha_range = np.arange(100, 3200+100, 100)\n",
    "window = 500\n",
    "\n",
    "pipe = Pipe(Rb=0.16, alpha=4875, rho=7200)\n",
    "wavelets = []\n",
    "\n",
    "for a in alpha_range:\n",
    "    rock = delayed(Rock)(a, 3000)\n",
    "    theoretical = delayed(TheoreticalWavelet)(pipe, rock)\n",
    "    wavelets.append(delayed(theoretical.multiple_in_time_domain)(window, filtered=False))\n",
    "wavelets = compute(wavelets)"
   ]
  },
  {
   "cell_type": "code",
   "execution_count": 55,
   "metadata": {},
   "outputs": [
    {
     "data": {
      "text/plain": [
       "Delayed('multiple_in_time_domain-a14dd98a-ed37-4f6e-b121-5eae057eddb3')"
      ]
     },
     "execution_count": 55,
     "metadata": {},
     "output_type": "execute_result"
    }
   ],
   "source": [
    "theoretical.multiple_in_time_domain(window, filtered=True)"
   ]
  },
  {
   "cell_type": "code",
   "execution_count": 45,
   "metadata": {},
   "outputs": [],
   "source": [
    "%load_ext line_profiler"
   ]
  },
  {
   "cell_type": "code",
   "execution_count": 59,
   "metadata": {},
   "outputs": [
    {
     "name": "stdout",
     "output_type": "stream",
     "text": [
      "CPU times: user 1.19 s, sys: 1.76 s, total: 2.95 s\n",
      "Wall time: 409 ms\n"
     ]
    }
   ],
   "source": [
    "%%time\n",
    "rho_range = np.arange(100, 3200+100, 100)\n",
    "alpha_range = np.arange(100, 3200+100, 100)\n",
    "window = 500\n",
    "\n",
    "pipe = Pipe(Rb=0.16, alpha=4875, rho=7200)\n",
    "wavelets = []\n",
    "\n",
    "for i, a in enumerate(alpha_range):\n",
    "    rock = Rock(a, 3000)\n",
    "    theoretical = TheoreticalWavelet(pipe, rock)\n",
    "    wavelets.append(theoretical.multiple_in_time_domain(window, filtered=False))"
   ]
  },
  {
   "cell_type": "code",
   "execution_count": 134,
   "metadata": {},
   "outputs": [
    {
     "name": "stdout",
     "output_type": "stream",
     "text": [
      "CPU times: user 146 ms, sys: 194 ms, total: 341 ms\n",
      "Wall time: 44.3 ms\n"
     ]
    }
   ],
   "source": [
    "m = theoretical.multiple_in_time_domain(None, filtered=False)\n",
    "%time rm = signal.filtfilt(theoretical.fir_taps, 1, m)"
   ]
  },
  {
   "cell_type": "code",
   "execution_count": 127,
   "metadata": {},
   "outputs": [
    {
     "data": {
      "text/plain": [
       "(20000,)"
      ]
     },
     "execution_count": 127,
     "metadata": {},
     "output_type": "execute_result"
    }
   ],
   "source": [
    "m.shape"
   ]
  },
  {
   "cell_type": "code",
   "execution_count": 126,
   "metadata": {},
   "outputs": [
    {
     "data": {
      "text/plain": [
       "(3500,)"
      ]
     },
     "execution_count": 126,
     "metadata": {},
     "output_type": "execute_result"
    }
   ],
   "source": [
    "m2.shape"
   ]
  },
  {
   "cell_type": "code",
   "execution_count": 136,
   "metadata": {},
   "outputs": [
    {
     "data": {
      "text/plain": [
       "(1001,)"
      ]
     },
     "execution_count": 136,
     "metadata": {},
     "output_type": "execute_result"
    }
   ],
   "source": [
    "theoretical.f"
   ]
  },
  {
   "cell_type": "code",
   "execution_count": 142,
   "metadata": {},
   "outputs": [
    {
     "name": "stdout",
     "output_type": "stream",
     "text": [
      "CPU times: user 111 ms, sys: 139 ms, total: 250 ms\n",
      "Wall time: 32 ms\n"
     ]
    }
   ],
   "source": [
    "m = theoretical.multiple_in_time_domain(None, filtered=False)\n",
    "m2 = theoretical.get_window_from_center(3500, m)\n",
    "%time rm2 = signal.filtfilt(theoretical.fir_taps, 1, m2)"
   ]
  },
  {
   "cell_type": "code",
   "execution_count": 121,
   "metadata": {},
   "outputs": [
    {
     "data": {
      "text/plain": [
       "(-25, 25)"
      ]
     },
     "execution_count": 121,
     "metadata": {},
     "output_type": "execute_result"
    },
    {
     "data": {
      "image/png": "[encoded data removed]",
      "text/plain": [
       "<Figure size 1080x360 with 1 Axes>"
      ]
     },
     "metadata": {
      "needs_background": "light"
     },
     "output_type": "display_data"
    }
   ],
   "source": [
    "plt.plot(theoretical.get_time_range_for_window(theoretical.sampling_rate*2), rm)\n",
    "plt.scatter(theoretical.get_time_range_for_window(3500), rm2, s=4, c='r')\n",
    "plt.xlim(-25,25)"
   ]
  },
  {
   "cell_type": "code",
   "execution_count": 149,
   "metadata": {},
   "outputs": [],
   "source": [
    "from dcrhino3.signal_processing.filters import FIRLSFilter, ssig"
   ]
  },
  {
   "cell_type": "code",
   "execution_count": 148,
   "metadata": {},
   "outputs": [
    {
     "data": {
      "text/plain": [
       "Timer unit: 1e-06 s\n",
       "\n",
       "Total time: 0.033614 s\n",
       "File: /home/bruno/Documents/Work/DataCloud/repos/dcrhino_lib/dcrhino3/signal_processing/filters.py\n",
       "Function: make at line 73\n",
       "\n",
       "Line #      Hits         Time  Per Hit   % Time  Line Contents\n",
       "==============================================================\n",
       "    73                                               def make(self, sampling_rate):#data_key):\n",
       "    74                                                   \"\"\"\n",
       "    75                                                   Calculates nyquist frequency, creates corner_tuple, calls :func:`n_taps`,\n",
       "    76                                                   and loads desired_response_amplitude. Calculates the values of the filter\n",
       "    77                                                   coefficients using `scipy.signal.firls function. <https://docs.scipy.org/doc/scipy/reference/generated/scipy.signal.firls.html>`_\n",
       "    78                                                   Returns these coefficients (type: float32) \n",
       "    79                                                   \n",
       "    80                                                   Parameters:\n",
       "    81                                                       sampling_rate (float): the sampling rate (meas/sec)\n",
       "    82                                                   \n",
       "    83                                                   Returns:\n",
       "    84                                                       (list): filter coefficients of type float32 \n",
       "    85                                                   \"\"\"\n",
       "    86                                                   #self.nyquist = data_key.sampling_rate / 2.0\n",
       "    87         1          9.0      9.0      0.0          self.nyquist = sampling_rate / 2.0\n",
       "    88         1          6.0      6.0      0.0          corner_tuple = (0, self.corners[0], self.corners[1], self.corners[2],\n",
       "    89         1          4.0      4.0      0.0                          self.corners[3], self.nyquist)\n",
       "    90         1         39.0     39.0      0.1          taps = ssig.firls(self.n_taps, corner_tuple,\n",
       "    91         1      33544.0  33544.0     99.8                            self.desired_response_amplitude, nyq=self.nyquist)\n",
       "    92                                                   #taps = taps.astype('float32')\n",
       "    93         1         11.0     11.0      0.0          self.taps = taps.astype('float32')\n",
       "    94                                                   #plt.plot(taps); plt.title('Default_BandPassFilter');plt.show()\n",
       "    95         1          1.0      1.0      0.0          return self.taps"
      ]
     },
     "metadata": {},
     "output_type": "display_data"
    }
   ],
   "source": [
    "%lprun -f FIRLSFilter.make TheoreticalWavelet(pipe=pipe, rock=rock)"
   ]
  },
  {
   "cell_type": "code",
   "execution_count": 8,
   "metadata": {},
   "outputs": [
    {
     "data": {
      "text/plain": [
       "32"
      ]
     },
     "execution_count": 8,
     "metadata": {},
     "output_type": "execute_result"
    }
   ],
   "source": [
    "len(wavelets)"
   ]
  },
  {
   "cell_type": "code",
   "execution_count": 9,
   "metadata": {},
   "outputs": [],
   "source": [
    "from dask import delayed"
   ]
  },
  {
   "cell_type": "code",
   "execution_count": 10,
   "metadata": {},
   "outputs": [],
   "source": [
    "plt.rcParams['figure.figsize'] = (15, 5)"
   ]
  },
  {
   "cell_type": "code",
   "execution_count": 22,
   "metadata": {},
   "outputs": [
    {
     "name": "stdout",
     "output_type": "stream",
     "text": [
      "CPU times: user 204 ms, sys: 109 ms, total: 313 ms\n",
      "Wall time: 174 ms\n"
     ]
    }
   ],
   "source": [
    "%%time\n",
    "fig, ax = wiggle_plot(wavelets, alpha_range, theoretical.get_time_range_for_window(window), gain=30)\n",
    "ax.invert_yaxis()\n",
    "uri = mplfig_to_uri(fig)"
   ]
  },
  {
   "cell_type": "code",
   "execution_count": 19,
   "metadata": {},
   "outputs": [],
   "source": [
    "from rhino_theory.theory.app.utils import mplfig_to_uri"
   ]
  },
  {
   "cell_type": "code",
   "execution_count": 20,
   "metadata": {},
   "outputs": [
    {
     "name": "stdout",
     "output_type": "stream",
     "text": [
      "CPU times: user 157 ms, sys: 138 ms, total: 295 ms\n",
      "Wall time: 111 ms\n"
     ]
    }
   ],
   "source": [
    "%%time\n"
   ]
  },
  {
   "cell_type": "code",
   "execution_count": 13,
   "metadata": {},
   "outputs": [
    {
     "data": {
      "text/plain": [
       "<theory.core.MultipleWavelets at 0x7fe9ffeb50f0>"
      ]
     },
     "execution_count": 13,
     "metadata": {},
     "output_type": "execute_result"
    }
   ],
   "source": [
    "MultipleWavelets(rho_range, alpha_range, pipe=pipe)"
   ]
  },
  {
   "cell_type": "code",
   "execution_count": null,
   "metadata": {},
   "outputs": [],
   "source": []
  }
 ],
 "metadata": {
  "kernelspec": {
   "display_name": "Python 3",
   "language": "python",
   "name": "python3"
  },
  "language_info": {
   "codemirror_mode": {
    "name": "ipython",
    "version": 3
   },
   "file_extension": ".py",
   "mimetype": "text/x-python",
   "name": "python",
   "nbconvert_exporter": "python",
   "pygments_lexer": "ipython3",
   "version": "3.6.12"
  }
 },
 "nbformat": 4,
 "nbformat_minor": 4
}
