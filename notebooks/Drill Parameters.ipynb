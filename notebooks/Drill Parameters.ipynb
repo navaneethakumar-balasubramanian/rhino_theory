{
 "cells": [
  {
   "cell_type": "code",
   "execution_count": 4,
   "metadata": {},
   "outputs": [],
   "source": [
    "import numpy as np\n",
    "import pandas as pd\n",
    "import seaborn as sns\n",
    "import os\n",
    "from matplotlib import pyplot as plt\n",
    "\n",
    "os.chdir('/home/bruno/datacloud')\n",
    "\n",
    "plt.style.use('seaborn-dark')\n",
    "\n",
    "plt.rcParams['axes.grid'] = True\n",
    "plt.rcParams['figure.figsize'] = (7.5, 5)"
   ]
  },
  {
   "cell_type": "code",
   "execution_count": 5,
   "metadata": {},
   "outputs": [],
   "source": [
    "from theory.core import Pipe, Rock, TheoreticalWavelet"
   ]
  },
  {
   "cell_type": "code",
   "execution_count": 6,
   "metadata": {},
   "outputs": [],
   "source": [
    "pipe = Pipe()"
   ]
  },
  {
   "cell_type": "code",
   "execution_count": 7,
   "metadata": {},
   "outputs": [],
   "source": [
    "import pint\n",
    "import numpy as np"
   ]
  },
  {
   "cell_type": "code",
   "execution_count": 8,
   "metadata": {},
   "outputs": [],
   "source": [
    "from plotly import tools"
   ]
  },
  {
   "cell_type": "code",
   "execution_count": 9,
   "metadata": {},
   "outputs": [],
   "source": [
    "DEFAULT_INPUT_UNITS = {\n",
    "    \"length\": 'm',\n",
    "    \"outer_diameter\": 'in',\n",
    "    \"inner_diameter\": 'in',\n",
    "    \"weight\": 'kg',\n",
    "    \"alpha\": 'm/s',\n",
    "    \"beta\": 'm/s',\n",
    "    \"rho\": 'kg/m^3',\n",
    "}\n",
    "\n",
    "DEFAULT_OUTPUT_UNITS = {\n",
    "    \"length\": 'm',\n",
    "    \"outer_diameter\": 'm',\n",
    "    \"inner_diameter\": 'm',\n",
    "    \"weight\": 'kg',\n",
    "    \"alpha\": 'm/s',\n",
    "    \"beta\": 'm/s',\n",
    "    \"rho\": 'kg/m^3',\n",
    "}\n",
    "\n",
    "ureg = pint.UnitRegistry()\n",
    "\n",
    "class DrillComponent(object):\n",
    "    '''\n",
    "    A base class to be used as a component of the drill.\n",
    "    '''\n",
    "    def __init__(self, \n",
    "                 name=None,\n",
    "                 length=None, \n",
    "                 outer_diameter=None,\n",
    "                 inner_diameter=None, \n",
    "                 weight=None, \n",
    "                 rho=None,\n",
    "                 alpha=None,\n",
    "                 beta=None,\n",
    "                 product_id=None,\n",
    "                 catalogue_no=None,\n",
    "                 input_units=DEFAULT_INPUT_UNITS,\n",
    "                 output_units=DEFAULT_OUTPUT_UNITS,\n",
    "                ):\n",
    "        \n",
    "        self.name = name\n",
    "        self.component = component # axial or tangential\n",
    "        \n",
    "        # These are all physical or geometrical properties of the component wraped by pint to make it work with\n",
    "        # multiple units.\n",
    "        self._length = length * ureg(input_units['length'], force_ndarray=True).to('m') if length else None\n",
    "        self._outer_diameter = outer_diameter * ureg(input_units['outer_diameter'], force_ndarray=True).to('m') if outer_diameter else None\n",
    "        self._inner_diameter = inner_diameter * ureg(input_units['inner_diameter'], force_ndarray=True).to('m') if inner_diameter else None\n",
    "        self._weight = weight * ureg(input_units['weight'], force_ndarray=True).to('kg') if weight else None\n",
    "        self._rho = rho * ureg(input_units['rho'], force_ndarray=True).to('kg/m^3') if rho else None\n",
    "        self._alpha = alpha * ureg(input_units['alpha'], force_ndarray=True).to('m/s') if alpha else None\n",
    "        self._beta = beta * ureg(input_units['beta'], force_ndarray=True).to('m/s') if beta else None\n",
    "        \n",
    "        # Dictionaries holding units\n",
    "        self.input_units = input_units\n",
    "        self.output_units = output_units\n",
    "        \n",
    "        # Product information\n",
    "        self.product_id = product_id\n",
    "        self.catalogue_no = catalogue_no\n",
    "        \n",
    "        self.A1 = self.effective_area\n",
    "        self.Z1 = self.impedance\n",
    "        \n",
    "    def set_attribute_unit(self, attribute, unit):\n",
    "        '''\n",
    "        Set new unit for the output dict.\n",
    "        '''\n",
    "        self.output_units[attribute] = unit\n",
    "    \n",
    "    @property\n",
    "    def length(self):\n",
    "        '''\n",
    "        Length of the component.\n",
    "        '''\n",
    "        if self._length:\n",
    "            return self._length.to(self.output_units['length'])\n",
    "        else:\n",
    "            return np.nan\n",
    "        \n",
    "    @property\n",
    "    def outer_diameter(self):\n",
    "        '''\n",
    "        Outer diameter of the component.\n",
    "        '''\n",
    "        if self._outer_diameter:\n",
    "            return self._outer_diameter.to(self.output_units['outer_diameter'])\n",
    "        else:\n",
    "            return np.nan\n",
    "        \n",
    "    @property\n",
    "    def od(self):\n",
    "        '''\n",
    "        Outer diameter of the component.\n",
    "        '''\n",
    "        return self.outer_diameter\n",
    "        \n",
    "    @property\n",
    "    def inner_diameter(self):\n",
    "        '''\n",
    "        Inner diameter of the component.\n",
    "        '''\n",
    "        if self._inner_diameter:\n",
    "            return self._inner_diameter.to(self.output_units['inner_diameter'])\n",
    "        else:\n",
    "            if ~np.isnan(self.outer_diameter) & ~np.isnan(self.length) & ~np.isnan(self.weight) & ~np.isnan(self.rho):\n",
    "                return np.sqrt(((self.od**2)-((4*self.weight)/((self.density*np.pi*self.length))))).to(self.output_units['inner_diameter'])\n",
    "            pass\n",
    "    \n",
    "    def effective_area(self, component='axial'):                                                                  \n",
    "        \"\"\"                                                                        \n",
    "        Cross section area. (Old A1 - Effective drill stem area for axial.)\n",
    "        \"\"\"      \n",
    "        if component == 'axial':\n",
    "            return np.pi * (((self.outer_diameter / 2) ** 2) - ((self.inner_diameter / 2) ** 2))\n",
    "        if component == 'tangential':\n",
    "            return np.pi * (((self.outer_diameter / 2) ** 2) + ((self.inner_diameter / 2) ** 2))\n",
    "        \n",
    "    @property\n",
    "    def weight(self):\n",
    "        '''\n",
    "        Weight of the component.\n",
    "        '''\n",
    "        if self._weight:\n",
    "            return self._weight.to(self.output_units['weight'])\n",
    "        else:\n",
    "            return np.nan\n",
    "        \n",
    "    @property\n",
    "    def alpha(self):\n",
    "        '''\n",
    "        Compressional velocity of the component.\n",
    "        '''\n",
    "        if self._alpha:\n",
    "            return self._alpha.to(self.output_units['alpha'])\n",
    "        else:\n",
    "            return np.nan\n",
    "    \n",
    "    @property\n",
    "    def beta(self):\n",
    "        '''\n",
    "        Shear velocity of the component.\n",
    "        '''\n",
    "        if self._beta:\n",
    "            return self._beta.to(self.output_units['beta'])\n",
    "        else:\n",
    "            return np.nan\n",
    "    \n",
    "    @property\n",
    "    def rho(self):\n",
    "        '''\n",
    "        Density of the component.\n",
    "        '''\n",
    "        if self._rho:\n",
    "            return self._rho.to(self.output_units['rho'])\n",
    "        else:\n",
    "            return np.nan\n",
    "        \n",
    "    @property\n",
    "    def density(self):\n",
    "        '''\n",
    "        Density of the component.\n",
    "        '''\n",
    "        return self.rho\n",
    "    \n",
    "                                                                                   \n",
    "    @property                                                                      \n",
    "    def Ab(self):                                                                  \n",
    "        \"\"\"                                                                        \n",
    "        Area of the bit contacting rock.                                           \n",
    "        \"\"\"                                                                        \n",
    "        return np.pi * (self.Rb ** 2)\n",
    "                                                                                   \n",
    "    def impedance(self, component='axial'):                                                                  \n",
    "        \"\"\"                                                                        \n",
    "        Steel impedance. (Old Z1)                                                        \n",
    "        \"\"\"                                                                        \n",
    "        if component == 'axial':                                              \n",
    "            return self.Ab * self.rho * self.alpha * (3/4)                         \n",
    "        if component == 'tangential':                                         \n",
    "            return self.Ab * self.rho * self.beta \n",
    "\n",
    "        \n",
    "    def delay(self, component='axial'):\n",
    "        '''\n",
    "        '''\n",
    "        if component == 'axial':                                              \n",
    "            return 2 * self.length / self.alpha\n",
    "        if component == 'tangential':                                              \n",
    "            return 2 * self.length / self.beta\n",
    "    \n",
    "    def __repr__(self):\n",
    "        return '<Drill component: {} - OD: {}, ID: {}, Length: {}>'.format(\n",
    "            self.name, \n",
    "            str((np.round(self.od, 2))),\n",
    "            str((np.round(self.inner_diameter, 2))),\n",
    "            str((np.round(self.length, 2))),\n",
    "        )"
   ]
  },
  {
   "cell_type": "code",
   "execution_count": 10,
   "metadata": {},
   "outputs": [],
   "source": [
    "import pint"
   ]
  },
  {
   "cell_type": "code",
   "execution_count": null,
   "metadata": {},
   "outputs": [],
   "source": [
    "\"\"\"\n",
    "So for LCO pipe ID 7.75\" and sub ID 3.5\".  I think that is a good starting point for 10.75\" OD steel/subs.\n",
    "\"\"\""
   ]
  },
  {
   "cell_type": "code",
   "execution_count": 12,
   "metadata": {},
   "outputs": [
    {
     "name": "stdout",
     "output_type": "stream",
     "text": [
      "RC for axial: 0.3010625737898465\n",
      "delay for bitsub axial: 0.6669128205128205 millisecond\n",
      "delay for pipe axial: 8.128 millisecond\n",
      "\n",
      "RC for tangential: -0.15756951596292493\n",
      "delay for bitsub tangential: 1.372972972972973 millisecond\n",
      "delay for pipe tangential: 16.733108108108105 millisecond\n",
      "\n"
     ]
    }
   ],
   "source": [
    "for component in ['axial', 'tangential']:\n",
    "    bitsub = DrillComponent('bitsub',  length=64,  outer_diameter=10.75,  inner_diameter=3.5,  weight=930.6,\n",
    "                            rho=7850, alpha=4875, beta=2368,\n",
    "                    input_units={\n",
    "                          'length': 'in', \n",
    "                          'outer_diameter': 'in', \n",
    "                          'inner_diameter': 'in', \n",
    "                          'weight': 'lbs', \n",
    "                          'alpha': 'm/s', \n",
    "                          'beta': 'm/s', \n",
    "                          'rho': 'kg/m^3'\n",
    "                      })\n",
    "\n",
    "    pipe = DrillComponent('pipe',  length=65,  outer_diameter=10.75,  inner_diameter=7.75,  weight=1918.4,\n",
    "                            rho=7850, alpha=4875, beta=2368,\n",
    "                    input_units={\n",
    "                          'length': 'ft', \n",
    "                          'outer_diameter': 'in', \n",
    "                          'inner_diameter': 'in', \n",
    "                          'weight': 'lbs', \n",
    "                          'alpha': 'm/s', \n",
    "                          'beta': 'm/s', \n",
    "                          'rho': 'kg/m^3'\n",
    "                      })\n",
    "\n",
    "    RC = (np.asarray(bitsub.effective_area(component)) - np.asarray(pipe.effective_area(component))) / (np.asarray(bitsub.effective_area(component)) + np.asarray(pipe.effective_area(component)))\n",
    "    print('RC for {}: {}'.format(component, RC))\n",
    "    print('delay for bitsub {}: {}'.format(component, bitsub.delay(component).to('ms')))\n",
    "    print('delay for pipe {}: {}'.format(component, pipe.delay(component).to('ms')))    \n",
    "    print()"
   ]
  },
  {
   "cell_type": "code",
   "execution_count": 11,
   "metadata": {},
   "outputs": [],
   "source": [
    "class Drillstring(object):\n",
    "    def __init__(self, drill_components, sensor_position=None):\n",
    "        self.drill_components = drill_components\n",
    "        self._deduplication()\n",
    "        self.length = sum([component.length for component in drill_components])\n",
    "        self.sensor_position = sensor_position\n",
    "        \n",
    "        top_position = 0* ureg('m')\n",
    "        for component in self.drill_components:\n",
    "            component.top_position = top_position\n",
    "            component.bottom_position = top_position + component.length\n",
    "            top_position += component.length\n",
    "            \n",
    "        self.top_positions = [dc.top_position.magnitude for dc in self]\n",
    "        self.bottom_positions = [dc.bottom_position.magnitude for dc in self]\n",
    "        self.drill_components_dict = dict(zip([ds.name for ds in self.drill_components], self.drill_components))\n",
    "\n",
    "    def _deduplication(self):\n",
    "        from collections import Counter\n",
    "        counter_components = Counter([c.name for c in self.drill_components])\n",
    "        duplicated_components = [k for k, v in counter_components.items() if v > 1]\n",
    "\n",
    "        for duplicated_component in duplicated_components:\n",
    "            counter = 1\n",
    "            for i, component in enumerate(self.drill_components):\n",
    "                if component.name == duplicated_component:\n",
    "                    self.drill_components[i] = deepcopy(component)\n",
    "                    component = self.drill_components[i]\n",
    "                    component.name = component.name + ' #' + str(counter)\n",
    "                    counter += 1\n",
    "        \n",
    "    def get_component_on_position(self, position):\n",
    "        for i, (left, right) in enumerate(zip(self.top_positions, self.bottom_positions)):\n",
    "            if ((position >= left) & (position < right)):\n",
    "                return self.drill_components[i]\n",
    "        return None\n",
    "\n",
    "        \n",
    "    @property\n",
    "    def sensor_component(self):\n",
    "        return self.get_component_on_position(self.sensor_position)\n",
    "\n",
    "                    \n",
    "    def get_interfaces(self, traveling_up=True):\n",
    "        interfaces = []\n",
    "        drill_components = self.drill_components[::-1] if traveling_up else self.drill_components\n",
    "        for i, dc in enumerate(drill_components):\n",
    "            if (i + 1) < len(drill_components):\n",
    "                interfaces.append((dc.name, drill_components[i + 1].name))\n",
    "        return interfaces\n",
    "            \n",
    "    def get_interface_properties(self, traveling_up=True):\n",
    "\n",
    "        interfaces = self.get_interfaces(traveling_up=traveling_up)\n",
    "\n",
    "        interface_properties = {}\n",
    "        for interface in interfaces:\n",
    "            A = self[interface[0]]\n",
    "            B = self[interface[1]]\n",
    "\n",
    "            RC = (np.asarray(A.effective_area(component)) - np.asarray(B.effective_area(component))) / (np.asarray(A.effective_area(component)) + np.asarray(B.effective_area(component)))\n",
    "            TC = 1 - (RC if RC > 0 else 0)\n",
    "\n",
    "            previous_position = A.bottom_position.magnitude if traveling_up else A.top_position.magnitude\n",
    "            interface_position = A.top_position.magnitude if traveling_up else A.bottom_position.magnitude\n",
    "            forward_position = B.top_position.magnitude if traveling_up else B.bottom_position.magnitude\n",
    "\n",
    "            interface_properties[interface] = {\n",
    "                'RC': RC,\n",
    "                'TC': TC,\n",
    "                'forward_position': forward_position,\n",
    "                'interface_position': interface_position,\n",
    "                'previous_component': self.get_component_on_position(previous_position),\n",
    "            }\n",
    "        return interface_properties\n",
    "    \n",
    "    \n",
    "    def plot(self):\n",
    "        palette = sns.color_palette(\"pastel\", len(self.drill_components))\n",
    "        fig, ax = plt.subplots(1,1, figsize=(15,5))\n",
    "        for dc, color in zip(self.drill_components, palette):\n",
    "            width=dc.length.magnitude\n",
    "            xmin = dc.top_position.magnitude\n",
    "            xmax = xmin + width\n",
    "            patch = plt.Rectangle((xmin, (-dc.outer_diameter/2).magnitude), \n",
    "                                  width=dc.length.magnitude, \n",
    "                                  height=dc.outer_diameter.magnitude, color=color, label=dc.name)\n",
    "            ax.add_patch(patch)\n",
    "\n",
    "            ax.hlines([dc.inner_diameter.magnitude/2, -dc.inner_diameter.magnitude/2], xmin, xmax, linestyles='dashed')\n",
    "\n",
    "        ax.set_xlim(-1, ds.length.magnitude+1)\n",
    "        ax.set_ylim(-max([c.outer_diameter for c in self.drill_components]).magnitude*3, max([c.outer_diameter for c in self.drill_components]).magnitude*3)\n",
    "        ax.set_xlabel('Length ({})'.format(dc.length.units))\n",
    "        ax.set_ylabel('XSection ({})'.format(dc.od.units))\n",
    "        ax.legend()\n",
    "        \n",
    "    def __iter__(self):\n",
    "        for ds in self.drill_components:\n",
    "            yield ds\n",
    "            \n",
    "    def __getitem__(self, name):\n",
    "        if name in self.drill_components_dict:\n",
    "            return self.drill_components_dict[name]\n",
    "        raise KeyError('Component \"{}\" not found.'.format(name))\n",
    "        \n",
    "    def __repr__(self):\n",
    "        return '<Drill string - components: \"{}\">'.format('\", \"'.join([ds.name for ds in self.drill_components]))"
   ]
  },
  {
   "cell_type": "code",
   "execution_count": 12,
   "metadata": {},
   "outputs": [],
   "source": [
    "from copy import deepcopy"
   ]
  },
  {
   "cell_type": "code",
   "execution_count": 18,
   "metadata": {},
   "outputs": [],
   "source": [
    "ds = Drillstring([pipe, pipe, pipe, pipe, bitsub], sensor_position=0)"
   ]
  },
  {
   "cell_type": "code",
   "execution_count": 19,
   "metadata": {},
   "outputs": [
    {
     "data": {
      "text/plain": [
       "{('bitsub', 'pipe #4'): {'RC': -0.13595106218251568,\n",
       "  'TC': 1,\n",
       "  'forward_position': 22.86,\n",
       "  'interface_position': 30.48,\n",
       "  'previous_component': None},\n",
       " ('pipe #4', 'pipe #3'): {'RC': 0.0,\n",
       "  'TC': 1,\n",
       "  'forward_position': 15.24,\n",
       "  'interface_position': 22.86,\n",
       "  'previous_component': <Drill component: bitsub - OD: 0.19 meter, ID: 0.07 meter, Length: 2.11 meter>},\n",
       " ('pipe #3', 'pipe #2'): {'RC': 0.0,\n",
       "  'TC': 1,\n",
       "  'forward_position': 7.62,\n",
       "  'interface_position': 15.24,\n",
       "  'previous_component': <Drill component: pipe #4 - OD: 0.19 meter, ID: 0.14 meter, Length: 7.62 meter>},\n",
       " ('pipe #2', 'pipe #1'): {'RC': 0.0,\n",
       "  'TC': 1,\n",
       "  'forward_position': 0,\n",
       "  'interface_position': 7.62,\n",
       "  'previous_component': <Drill component: pipe #3 - OD: 0.19 meter, ID: 0.14 meter, Length: 7.62 meter>}}"
      ]
     },
     "execution_count": 19,
     "metadata": {},
     "output_type": "execute_result"
    }
   ],
   "source": [
    "ds.get_interface_properties()"
   ]
  },
  {
   "cell_type": "code",
   "execution_count": 20,
   "metadata": {},
   "outputs": [],
   "source": [
    "class TraceSimulation(object):\n",
    "    def __init__(self, drillstring):\n",
    "        self.drillstring = drillstring\n",
    "        \n",
    "    "
   ]
  },
  {
   "cell_type": "code",
   "execution_count": null,
   "metadata": {},
   "outputs": [],
   "source": [
    "connector = DrillComponent('pipe_connector',  length=300,  outer_diameter=7.63,  inner_diameter=5.42,  weight=1918.4,\n",
    "                        rho=7850, alpha=4875, beta=2368,\n",
    "                input_units={\n",
    "                      'length': 'in', \n",
    "                      'outer_diameter': 'in', \n",
    "                      'inner_diameter': 'in', \n",
    "                      'weight': 'lbs', \n",
    "                      'alpha': 'm/s', \n",
    "                      'beta': 'm/s', \n",
    "                      'rho': 'kg/m^3'\n",
    "                  })"
   ]
  },
  {
   "cell_type": "code",
   "execution_count": 22,
   "metadata": {},
   "outputs": [
    {
     "data": {
      "image/png": "[encoded data removed]",
      "text/plain": [
       "<Figure size 1080x360 with 1 Axes>"
      ]
     },
     "metadata": {},
     "output_type": "display_data"
    }
   ],
   "source": [
    "ds.plot()"
   ]
  },
  {
   "cell_type": "code",
   "execution_count": 175,
   "metadata": {},
   "outputs": [
    {
     "data": {
      "text/plain": [
       "<Drill component: pipe #2 - OD: 0.19 meter, ID: 0.14 meter, Length: 7.62 meter>"
      ]
     },
     "execution_count": 175,
     "metadata": {},
     "output_type": "execute_result"
    }
   ],
   "source": [
    "ds['pipe #2']"
   ]
  },
  {
   "cell_type": "code",
   "execution_count": 176,
   "metadata": {},
   "outputs": [],
   "source": [
    "def get_component_interfaces(self, traveling_up=True):\n",
    "    interfaces = {}\n",
    "    for i, dc in enumerate(ds):\n",
    "        if (i + 1) < len(ds.drill_components):\n",
    "            interfaces[dc.name] = ds.drill_components[i + 1].name"
   ]
  },
  {
   "cell_type": "code",
   "execution_count": 177,
   "metadata": {},
   "outputs": [
    {
     "data": {
      "text/plain": [
       "{'pipe #1': 'pipe #2', 'pipe #2': 'bitsub'}"
      ]
     },
     "execution_count": 177,
     "metadata": {},
     "output_type": "execute_result"
    }
   ],
   "source": [
    "interfaces"
   ]
  },
  {
   "cell_type": "code",
   "execution_count": 12,
   "metadata": {},
   "outputs": [
    {
     "data": {
      "image/png": "[encoded data removed]",
      "text/plain": [
       "<Figure size 1080x360 with 1 Axes>"
      ]
     },
     "metadata": {
      "needs_background": "light"
     },
     "output_type": "display_data"
    }
   ],
   "source": [
    "ds.plot()"
   ]
  },
  {
   "cell_type": "code",
   "execution_count": 91,
   "metadata": {},
   "outputs": [],
   "source": [
    "class WaveTrajectory(object):\n",
    "    def __init__(self, \n",
    "                 wave_type='primary',\n",
    "                 initial_time=0, \n",
    "                 start_position=0, \n",
    "                 end_time=10, \n",
    "                 end_position=10, \n",
    "                 sensor_position=8,\n",
    "                 velocity=1,\n",
    "                 order=0,\n",
    "                ):\n",
    "        self.start_position = start_position\n",
    "        self.initial_time = initial_time\n",
    "        self.end_position = end_position\n",
    "        self.velocity = velocity\n",
    "        self.wave_type = wave_type\n",
    "        self.sensor_position = sensor_position\n",
    "        self.order = order\n",
    "        \n",
    "        self.traveling_up = (self.end_position < self.start_position)\n",
    "        self.traveling_down = not(self.traveling_up)\n",
    "        \n",
    "        self.displacement = abs(self.end_position - self.start_position)\n",
    "        \n",
    "    def current_displacement(self, time):\n",
    "        return self.velocity * time\n",
    "    \n",
    "    def current_position(self, time):\n",
    "        displacement = self.current_displacement(time)\n",
    "        return self.start_position - displacement if self.traveling_up else self.start_position + displacement\n",
    "    \n",
    "    @property\n",
    "    def end_time(self):\n",
    "        return self.displacement / self.velocity\n",
    "    \n",
    "    @property\n",
    "    def displacement_to_sensor(self):\n",
    "        if self.hit_sensor:\n",
    "            return abs(self.sensor_position - self.start_position)\n",
    "        else:\n",
    "            return None        \n",
    "    \n",
    "    @property\n",
    "    def displacement_after_sensor(self):\n",
    "        if self.hit_sensor:\n",
    "            return abs(self.sensor_position - self.end_position)\n",
    "        else:\n",
    "            return None        \n",
    "    \n",
    "    @property\n",
    "    def hit_sensor(self):\n",
    "        if self.traveling_up:\n",
    "            if self.end_position <= self.sensor_position:\n",
    "                return True\n",
    "            else:\n",
    "                return False\n",
    "        if self.traveling_down:\n",
    "            if self.end_position >= self.sensor_position:\n",
    "                return True\n",
    "            else:\n",
    "                return False\n",
    "        \n",
    "    @property\n",
    "    def time_it_hits_sensor(self):\n",
    "        if self.hit_sensor:\n",
    "            return self.velocity * self.displacement_to_sensor + self.initial_time\n",
    "        else:\n",
    "            return None"
   ]
  },
  {
   "cell_type": "code",
   "execution_count": 121,
   "metadata": {},
   "outputs": [],
   "source": [
    "wt = WaveTrajectory(velocity=.5, initial_time=10, start_position=0, end_position=3, sensor_position=2.60)"
   ]
  },
  {
   "cell_type": "code",
   "execution_count": 124,
   "metadata": {},
   "outputs": [
    {
     "data": {
      "text/plain": [
       "0.3999999999999999"
      ]
     },
     "execution_count": 124,
     "metadata": {},
     "output_type": "execute_result"
    }
   ],
   "source": [
    "wt.displacement_after_sensor"
   ]
  }
 ],
 "metadata": {
  "kernelspec": {
   "display_name": "Python 3",
   "language": "python",
   "name": "python3"
  },
  "language_info": {
   "codemirror_mode": {
    "name": "ipython",
    "version": 3
   },
   "file_extension": ".py",
   "mimetype": "text/x-python",
   "name": "python",
   "nbconvert_exporter": "python",
   "pygments_lexer": "ipython3",
   "version": "3.7.4"
  }
 },
 "nbformat": 4,
 "nbformat_minor": 4
}
