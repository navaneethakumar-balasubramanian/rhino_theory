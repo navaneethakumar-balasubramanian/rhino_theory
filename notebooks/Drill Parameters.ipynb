{
 "cells": [
  {
   "cell_type": "code",
   "execution_count": 64,
   "metadata": {},
   "outputs": [],
   "source": [
    "import numpy as np\n",
    "import pandas as pd\n",
    "import seaborn as sns\n",
    "import os\n",
    "from matplotlib import pyplot as plt\n",
    "\n",
    "os.chdir('/home/bruno/datacloud')\n",
    "\n",
    "plt.style.use('seaborn-dark')\n",
    "\n",
    "plt.rcParams['axes.grid'] = True\n",
    "plt.rcParams['figure.figsize'] = (7.5, 5)"
   ]
  },
  {
   "cell_type": "code",
   "execution_count": 65,
   "metadata": {},
   "outputs": [],
   "source": [
    "from theory.core import Pipe, Rock, TheoreticalWavelet"
   ]
  },
  {
   "cell_type": "code",
   "execution_count": 66,
   "metadata": {},
   "outputs": [],
   "source": [
    "pipe = Pipe()"
   ]
  },
  {
   "cell_type": "code",
   "execution_count": 67,
   "metadata": {},
   "outputs": [],
   "source": [
    "import pint\n",
    "import numpy as np"
   ]
  },
  {
   "cell_type": "code",
   "execution_count": 68,
   "metadata": {},
   "outputs": [],
   "source": [
    "from plotly import tools"
   ]
  },
  {
   "cell_type": "code",
   "execution_count": 328,
   "metadata": {},
   "outputs": [],
   "source": [
    "DEFAULT_INPUT_UNITS = {\n",
    "    \"length\": 'm',\n",
    "    \"outer_diameter\": 'in',\n",
    "    \"inner_diameter\": 'in',\n",
    "    \"weight\": 'kg',\n",
    "    \"alpha\": 'm/s',\n",
    "    \"beta\": 'm/s',\n",
    "    \"rho\": 'kg/m^3',\n",
    "}\n",
    "\n",
    "DEFAULT_OUTPUT_UNITS = {\n",
    "    \"length\": 'm',\n",
    "    \"outer_diameter\": 'm',\n",
    "    \"inner_diameter\": 'm',\n",
    "    \"weight\": 'kg',\n",
    "    \"alpha\": 'm/s',\n",
    "    \"beta\": 'm/s',\n",
    "    \"rho\": 'kg/m^3',\n",
    "}\n",
    "\n",
    "ureg = pint.UnitRegistry()\n",
    "\n",
    "class DrillComponent(object):\n",
    "    '''\n",
    "    A base class to be used as a component of the drill.\n",
    "    '''\n",
    "    def __init__(self, \n",
    "                 name=None,\n",
    "                 length=None, \n",
    "                 outer_diameter=None,\n",
    "                 inner_diameter=None, \n",
    "                 weight=None, \n",
    "                 rho=None,\n",
    "                 alpha=None,\n",
    "                 beta=None,\n",
    "                 product_id=None,\n",
    "                 catalogue_no=None,\n",
    "                 input_units=DEFAULT_INPUT_UNITS,\n",
    "                 output_units=DEFAULT_OUTPUT_UNITS,\n",
    "                ):\n",
    "        \n",
    "        self.name = name\n",
    "        self.component = component # axial or tangential\n",
    "        \n",
    "        # These are all physical or geometrical properties of the component wraped by pint to make it work with\n",
    "        # multiple units.\n",
    "        self._length = length * ureg(input_units['length'], force_ndarray=True).to('m') if length else None\n",
    "        self._outer_diameter = outer_diameter * ureg(input_units['outer_diameter'], force_ndarray=True).to('m') if outer_diameter else None\n",
    "        self._inner_diameter = inner_diameter * ureg(input_units['inner_diameter'], force_ndarray=True).to('m') if inner_diameter else None\n",
    "        self._weight = weight * ureg(input_units['weight'], force_ndarray=True).to('kg') if weight else None\n",
    "        self._rho = rho * ureg(input_units['rho'], force_ndarray=True).to('kg/m^3') if rho else None\n",
    "        self._alpha = alpha * ureg(input_units['alpha'], force_ndarray=True).to('m/s') if alpha else None\n",
    "        self._beta = beta * ureg(input_units['beta'], force_ndarray=True).to('m/s') if beta else None\n",
    "        \n",
    "        # Dictionaries holding units\n",
    "        self.input_units = input_units\n",
    "        self.output_units = output_units\n",
    "        \n",
    "        # Product information\n",
    "        self.product_id = product_id\n",
    "        self.catalogue_no = catalogue_no\n",
    "        \n",
    "        self.A1 = self.effective_area\n",
    "        self.Z1 = self.impedance\n",
    "        \n",
    "    def set_attribute_unit(self, attribute, unit):\n",
    "        '''\n",
    "        Set new unit for the output dict.\n",
    "        '''\n",
    "        self.output_units[attribute] = unit\n",
    "    \n",
    "    @property\n",
    "    def length(self):\n",
    "        '''\n",
    "        Length of the component.\n",
    "        '''\n",
    "        if self._length:\n",
    "            return self._length.to(self.output_units['length'])\n",
    "        else:\n",
    "            return np.nan\n",
    "        \n",
    "    @property\n",
    "    def outer_diameter(self):\n",
    "        '''\n",
    "        Outer diameter of the component.\n",
    "        '''\n",
    "        if self._outer_diameter:\n",
    "            return self._outer_diameter.to(self.output_units['outer_diameter'])\n",
    "        else:\n",
    "            return np.nan\n",
    "        \n",
    "    @property\n",
    "    def od(self):\n",
    "        '''\n",
    "        Outer diameter of the component.\n",
    "        '''\n",
    "        return self.outer_diameter\n",
    "        \n",
    "    @property\n",
    "    def inner_diameter(self):\n",
    "        '''\n",
    "        Inner diameter of the component.\n",
    "        '''\n",
    "        if self._inner_diameter:\n",
    "            return self._inner_diameter.to(self.output_units['inner_diameter'])\n",
    "        else:\n",
    "            if ~np.isnan(self.outer_diameter) & ~np.isnan(self.length) & ~np.isnan(self.weight) & ~np.isnan(self.rho):\n",
    "                return np.sqrt(((self.od**2)-((4*self.weight)/((self.density*np.pi*self.length))))).to(self.output_units['inner_diameter'])\n",
    "            pass\n",
    "    \n",
    "    def effective_area(self, component='axial'):                                                                  \n",
    "        \"\"\"                                                                        \n",
    "        Cross section area. (Old A1 - Effective drill stem area for axial.)\n",
    "        \"\"\"      \n",
    "        if component == 'axial':\n",
    "            return np.pi * (((self.outer_diameter / 2) ** 2) - ((self.inner_diameter / 2) ** 2))\n",
    "        if component == 'tangential':\n",
    "            return np.pi * (((self.outer_diameter / 2) ** 2) + ((self.inner_diameter / 2) ** 2))\n",
    "        \n",
    "    @property\n",
    "    def weight(self):\n",
    "        '''\n",
    "        Weight of the component.\n",
    "        '''\n",
    "        if self._weight:\n",
    "            return self._weight.to(self.output_units['weight'])\n",
    "        else:\n",
    "            return np.nan\n",
    "        \n",
    "    @property\n",
    "    def alpha(self):\n",
    "        '''\n",
    "        Compressional velocity of the component.\n",
    "        '''\n",
    "        if self._alpha:\n",
    "            return self._alpha.to(self.output_units['alpha'])\n",
    "        else:\n",
    "            return np.nan\n",
    "    \n",
    "    @property\n",
    "    def beta(self):\n",
    "        '''\n",
    "        Shear velocity of the component.\n",
    "        '''\n",
    "        if self._beta:\n",
    "            return self._beta.to(self.output_units['beta'])\n",
    "        else:\n",
    "            return np.nan\n",
    "    \n",
    "    @property\n",
    "    def rho(self):\n",
    "        '''\n",
    "        Density of the component.\n",
    "        '''\n",
    "        if self._rho:\n",
    "            return self._rho.to(self.output_units['rho'])\n",
    "        else:\n",
    "            return np.nan\n",
    "        \n",
    "    @property\n",
    "    def density(self):\n",
    "        '''\n",
    "        Density of the component.\n",
    "        '''\n",
    "        return self.rho\n",
    "    \n",
    "    def velocity(self, component='axial'):\n",
    "        if component == 'axial':\n",
    "            return self.alpha\n",
    "        else:\n",
    "            return self.beta\n",
    "    \n",
    "                                                                                   \n",
    "    @property                                                                      \n",
    "    def Ab(self):                                                                  \n",
    "        \"\"\"                                                                        \n",
    "        Area of the bit contacting rock.                                           \n",
    "        \"\"\"                                                                        \n",
    "        return np.pi * (self.Rb ** 2)\n",
    "                                                                                   \n",
    "    def impedance(self, component='axial'):                                                                  \n",
    "        \"\"\"                                                                        \n",
    "        Steel impedance. (Old Z1)                                                        \n",
    "        \"\"\"                                                                        \n",
    "        if component == 'axial':                                              \n",
    "            return self.Ab * self.rho * self.alpha * (3/4)                         \n",
    "        if component == 'tangential':                                         \n",
    "            return self.Ab * self.rho * self.beta \n",
    "\n",
    "        \n",
    "    def delay(self, component='axial'):\n",
    "        '''\n",
    "        '''\n",
    "        if component == 'axial':                                              \n",
    "            return 2 * self.length / self.alpha\n",
    "        if component == 'tangential':                                              \n",
    "            return 2 * self.length / self.beta\n",
    "    \n",
    "    def __repr__(self):\n",
    "        return '<Drill component: {} - OD: {}, ID: {}, Length: {}>'.format(\n",
    "            self.name, \n",
    "            str((np.round(self.od or np.nan, 2))),\n",
    "            str((np.round(self.inner_diameter or np.nan, 2))),\n",
    "            str((np.round(self.length or np.nan, 2))),\n",
    "        )"
   ]
  },
  {
   "cell_type": "code",
   "execution_count": 329,
   "metadata": {},
   "outputs": [],
   "source": [
    "import pint"
   ]
  },
  {
   "cell_type": "code",
   "execution_count": 330,
   "metadata": {},
   "outputs": [
    {
     "data": {
      "text/plain": [
       "'\\nSo for LCO pipe ID 7.75\" and sub ID 3.5\".  I think that is a good starting point for 10.75\" OD steel/subs.\\n'"
      ]
     },
     "execution_count": 330,
     "metadata": {},
     "output_type": "execute_result"
    }
   ],
   "source": [
    "\"\"\"\n",
    "So for LCO pipe ID 7.75\" and sub ID 3.5\".  I think that is a good starting point for 10.75\" OD steel/subs.\n",
    "\"\"\""
   ]
  },
  {
   "cell_type": "code",
   "execution_count": 331,
   "metadata": {},
   "outputs": [
    {
     "name": "stdout",
     "output_type": "stream",
     "text": [
      "RC for axial: 0.3010625737898465\n",
      "delay for bitsub axial: 0.6669128205128205 millisecond\n",
      "delay for pipe axial: 8.128 millisecond\n",
      "\n",
      "RC for tangential: -0.15756951596292493\n",
      "delay for bitsub tangential: 1.372972972972973 millisecond\n",
      "delay for pipe tangential: 16.733108108108105 millisecond\n",
      "\n"
     ]
    },
    {
     "name": "stderr",
     "output_type": "stream",
     "text": [
      "/home/bruno/miniconda3/envs/rhino_dev/lib/python3.7/site-packages/pint/quantity.py:1377: UnitStrippedWarning:\n",
      "\n",
      "The unit of the quantity is stripped.\n",
      "\n"
     ]
    }
   ],
   "source": [
    "for component in ['axial', 'tangential']:\n",
    "    bitsub = DrillComponent('bitsub',  length=64,  outer_diameter=10.75,  inner_diameter=3.5,  weight=930.6,\n",
    "                            rho=7850, alpha=4875, beta=2368,\n",
    "                    input_units={\n",
    "                          'length': 'in', \n",
    "                          'outer_diameter': 'in', \n",
    "                          'inner_diameter': 'in', \n",
    "                          'weight': 'lbs', \n",
    "                          'alpha': 'm/s', \n",
    "                          'beta': 'm/s', \n",
    "                          'rho': 'kg/m^3'\n",
    "                      })\n",
    "\n",
    "    pipe = DrillComponent('pipe',  length=65,  outer_diameter=10.75,  inner_diameter=7.75,  weight=1918.4,\n",
    "                            rho=7850, alpha=4875, beta=2368,\n",
    "                    input_units={\n",
    "                          'length': 'ft', \n",
    "                          'outer_diameter': 'in', \n",
    "                          'inner_diameter': 'in', \n",
    "                          'weight': 'lbs', \n",
    "                          'alpha': 'm/s', \n",
    "                          'beta': 'm/s', \n",
    "                          'rho': 'kg/m^3'\n",
    "                      })\n",
    "\n",
    "    RC = (np.asarray(bitsub.effective_area(component)) - np.asarray(pipe.effective_area(component))) / (np.asarray(bitsub.effective_area(component)) + np.asarray(pipe.effective_area(component)))\n",
    "    print('RC for {}: {}'.format(component, RC))\n",
    "    print('delay for bitsub {}: {}'.format(component, bitsub.delay(component).to('ms')))\n",
    "    print('delay for pipe {}: {}'.format(component, pipe.delay(component).to('ms')))    \n",
    "    print()"
   ]
  },
  {
   "cell_type": "code",
   "execution_count": 332,
   "metadata": {},
   "outputs": [],
   "source": [
    "connector = DrillComponent('pipe_connector',  length=300,  outer_diameter=10.75,  inner_diameter=5.42,  weight=1918.4,\n",
    "                        rho=7850, alpha=4875, beta=2368,\n",
    "                input_units={\n",
    "                      'length': 'in', \n",
    "                      'outer_diameter': 'in', \n",
    "                      'inner_diameter': 'in', \n",
    "                      'weight': 'lbs', \n",
    "                      'alpha': 'm/s', \n",
    "                      'beta': 'm/s', \n",
    "                      'rho': 'kg/m^3'\n",
    "                  })"
   ]
  },
  {
   "cell_type": "code",
   "execution_count": 636,
   "metadata": {},
   "outputs": [],
   "source": [
    "rock_as_component = DrillComponent('rock',  length=30,  outer_diameter=50,  inner_diameter=0.01,  weight=1918.4,\n",
    "                        rho=7850, alpha=4875, beta=2368,\n",
    "                input_units={\n",
    "                      'length': 'in', \n",
    "                      'outer_diameter': 'in', \n",
    "                      'inner_diameter': 'in', \n",
    "                      'weight': 'lbs', \n",
    "                      'alpha': 'm/s', \n",
    "                      'beta': 'm/s', \n",
    "                      'rho': 'kg/m^3'\n",
    "                  })"
   ]
  },
  {
   "cell_type": "code",
   "execution_count": 637,
   "metadata": {},
   "outputs": [],
   "source": [
    "class Drillstring(object):\n",
    "    def __init__(self, drill_components, sensor_position=None):\n",
    "        self.drill_components = drill_components\n",
    "        self._deduplication()\n",
    "        self.length = sum([component.length for component in drill_components])\n",
    "        self.sensor_position = sensor_position\n",
    "        \n",
    "        top_position = 0* ureg('m')\n",
    "        for component in self.drill_components:\n",
    "            component.top_position = top_position\n",
    "            component.bottom_position = top_position + component.length\n",
    "            top_position += component.length\n",
    "            \n",
    "        self.top_positions = [dc.top_position.magnitude for dc in self]\n",
    "        self.bottom_positions = [dc.bottom_position.magnitude for dc in self]\n",
    "        self.drill_components_dict = dict(zip([ds.name for ds in self.drill_components], self.drill_components))\n",
    "\n",
    "    def _deduplication(self):\n",
    "        from collections import Counter\n",
    "        counter_components = Counter([c.name for c in self.drill_components])\n",
    "        duplicated_components = [k for k, v in counter_components.items() if v > 1]\n",
    "\n",
    "        for duplicated_component in duplicated_components:\n",
    "            counter = 1\n",
    "            for i, component in enumerate(self.drill_components):\n",
    "                if component.name == duplicated_component:\n",
    "                    self.drill_components[i] = deepcopy(component)\n",
    "                    component = self.drill_components[i]\n",
    "                    component.name = component.name + ' #' + str(counter)\n",
    "                    counter += 1\n",
    "                    \n",
    "    @property\n",
    "    def component_names(self):\n",
    "        return [i.name for i in self.drill_components]\n",
    "    \n",
    "    @property\n",
    "    def first_component(self):\n",
    "        return self.drill_components[0]\n",
    "    \n",
    "    @property\n",
    "    def last_component(self):\n",
    "        return self.drill_components[-1]\n",
    "    \n",
    "    def next_component_up(self, component_name):\n",
    "        if self.component_names.index(component_name) - 1 >= 0:\n",
    "            return self.component_names[self.component_names.index(component_name) - 1]\n",
    "    \n",
    "    def next_component_down(self, component_name):\n",
    "        if self.component_names.index(component_name) + 1 < len(self.drill_components):\n",
    "            return self.component_names[self.component_names.index(component_name) + 1]\n",
    "    \n",
    "    def get_component_on_position(self, position):\n",
    "        for i, (left, right) in enumerate(zip(self.top_positions, self.bottom_positions)):\n",
    "            if ((position >= left) & (position < right)):\n",
    "                return self.drill_components[i]\n",
    "        return None\n",
    "        \n",
    "    @property\n",
    "    def sensor_component(self):\n",
    "        return self.get_component_on_position(self.sensor_position)\n",
    "\n",
    "                    \n",
    "    def get_interfaces(self, traveling_up=True):\n",
    "        interfaces = []\n",
    "        drill_components = self.drill_components[::-1] if traveling_up else self.drill_components\n",
    "        for i, dc in enumerate(drill_components):\n",
    "            if (i + 1) < len(drill_components):\n",
    "                interfaces.append((dc.name, drill_components[i + 1].name))\n",
    "        return interfaces\n",
    "            \n",
    "    def get_interface_properties(self, traveling_up=True, component='axial'):\n",
    "\n",
    "        interfaces = self.get_interfaces(traveling_up=traveling_up)\n",
    "\n",
    "        interface_properties = {}\n",
    "        for interface in interfaces:\n",
    "            A = self[interface[0]]\n",
    "            B = self[interface[1]]\n",
    "\n",
    "            RC = (np.asarray(A.effective_area(component)) - np.asarray(B.effective_area(component))) / (np.asarray(A.effective_area(component)) + np.asarray(B.effective_area(component)))\n",
    "            TC = 1 - RC\n",
    "\n",
    "            previous_position = A.bottom_position.magnitude if traveling_up else A.top_position.magnitude\n",
    "            interface_position = A.top_position.magnitude if traveling_up else A.bottom_position.magnitude\n",
    "            forward_position = B.top_position.magnitude if traveling_up else B.bottom_position.magnitude\n",
    "\n",
    "            interface_properties[interface] = {\n",
    "                'RC': RC,\n",
    "                'TC': TC,\n",
    "                'previous_position': previous_position,\n",
    "                'forward_position': forward_position,\n",
    "                'interface_position': interface_position,\n",
    "                'previous_component': self.get_component_on_position(previous_position),\n",
    "                'forward_component': self.get_component_on_position(forward_position),\n",
    "            }\n",
    "        return interface_properties\n",
    "    \n",
    "    \n",
    "    def plot(self):\n",
    "        palette = sns.color_palette(\"pastel\", len(self.drill_components))\n",
    "        fig, ax = plt.subplots(1,1, figsize=(15,5))\n",
    "        for dc, color in zip(self.drill_components, palette):\n",
    "            width=dc.length.magnitude\n",
    "            xmin = dc.top_position.magnitude\n",
    "            xmax = xmin + width\n",
    "            patch = plt.Rectangle((xmin, (-dc.outer_diameter/2).magnitude), \n",
    "                                  width=dc.length.magnitude, \n",
    "                                  height=dc.outer_diameter.magnitude, color=color, label=dc.name)\n",
    "            ax.add_patch(patch)\n",
    "\n",
    "            ax.hlines([dc.inner_diameter.magnitude/2, -dc.inner_diameter.magnitude/2], xmin, xmax, linestyles='dashed')\n",
    "\n",
    "        ax.set_xlim(-1, ds.length.magnitude+1)\n",
    "        ax.set_ylim(-max([c.outer_diameter for c in self.drill_components]).magnitude*3, max([c.outer_diameter for c in self.drill_components]).magnitude*3)\n",
    "        ax.set_xlabel('Length ({})'.format(dc.length.units))\n",
    "        ax.set_ylabel('XSection ({})'.format(dc.od.units))\n",
    "        ax.legend()\n",
    "        return fig, ax\n",
    "        \n",
    "    def __iter__(self):\n",
    "        for ds in self.drill_components:\n",
    "            yield ds\n",
    "            \n",
    "    def __getitem__(self, name):\n",
    "        if name in self.drill_components_dict:\n",
    "            return self.drill_components_dict[name]\n",
    "        raise KeyError('Component \"{}\" not found.'.format(name))\n",
    "        \n",
    "    def __repr__(self):\n",
    "        return '<Drill string - components: \"{}\">'.format('\", \"'.join([ds.name for ds in self.drill_components]))"
   ]
  },
  {
   "cell_type": "code",
   "execution_count": 638,
   "metadata": {},
   "outputs": [],
   "source": [
    "from copy import deepcopy"
   ]
  },
  {
   "cell_type": "code",
   "execution_count": 639,
   "metadata": {},
   "outputs": [],
   "source": [
    "ds = Drillstring([pipe, bitsub, rock_as_component], sensor_position=0)"
   ]
  },
  {
   "cell_type": "code",
   "execution_count": 666,
   "metadata": {},
   "outputs": [
    {
     "data": {
      "text/plain": [
       "(-1, 1)"
      ]
     },
     "execution_count": 666,
     "metadata": {},
     "output_type": "execute_result"
    },
    {
     "data": {
      "image/png": "[encoded data removed]",
      "text/plain": [
       "<Figure size 1080x360 with 1 Axes>"
      ]
     },
     "metadata": {},
     "output_type": "display_data"
    }
   ],
   "source": [
    "fig, ax = ds.plot()\n",
    "ax.set_ylim(-1, 1)"
   ]
  },
  {
   "cell_type": "code",
   "execution_count": 701,
   "metadata": {},
   "outputs": [],
   "source": [
    "class WaveTrajectory(object):\n",
    "    def __init__(self, \n",
    "                 wave_type='primary',\n",
    "                 initial_time=0, \n",
    "                 start_position=0, \n",
    "                 end_position=10, \n",
    "                 sensor_position=8,\n",
    "                 velocity=1,\n",
    "                 order=0,\n",
    "                ):\n",
    "        self.start_position = start_position\n",
    "        self.initial_time = initial_time\n",
    "        self.end_position = end_position\n",
    "        self.velocity = velocity\n",
    "        self.wave_type = wave_type\n",
    "        self.sensor_position = sensor_position\n",
    "        self.order = order\n",
    "        \n",
    "        self.traveling_up = (self.end_position < self.start_position)\n",
    "        self.traveling_down = not(self.traveling_up)\n",
    "        \n",
    "        self.displacement = abs(self.end_position - self.start_position)\n",
    "        \n",
    "    def current_displacement(self, time):\n",
    "        return self.velocity * time\n",
    "    \n",
    "    def current_position(self, time):\n",
    "        displacement = self.current_displacement(time)\n",
    "        return self.start_position - displacement if self.traveling_up else self.start_position + displacement\n",
    "    \n",
    "    @property\n",
    "    def end_time(self):\n",
    "        return (self.displacement / self.velocity) + self.initial_time\n",
    "    \n",
    "    @property\n",
    "    def displacement_to_sensor(self):\n",
    "        if self.hit_sensor:\n",
    "            return abs(self.sensor_position - self.start_position)\n",
    "        else:\n",
    "            return None        \n",
    "    \n",
    "    @property\n",
    "    def displacement_after_sensor(self):\n",
    "        if self.hit_sensor:\n",
    "            return abs(self.sensor_position - self.end_position)\n",
    "        else:\n",
    "            return None        \n",
    "    \n",
    "    @property\n",
    "    def hit_sensor(self):\n",
    "        if self.traveling_up:\n",
    "            if self.end_position <= self.sensor_position:\n",
    "                return True\n",
    "            else:\n",
    "                return False\n",
    "        if self.traveling_down:\n",
    "            if self.end_position >= self.sensor_position:\n",
    "                return True\n",
    "            else:\n",
    "                return False\n",
    "        \n",
    "    @property\n",
    "    def time_it_hits_sensor(self):\n",
    "        if self.hit_sensor:\n",
    "            return self.velocity * self.displacement_to_sensor + self.initial_time\n",
    "        else:\n",
    "            return None\n",
    "        \n",
    "    def __repr__(self):\n",
    "        return '<Wave Trajectory \"{}\" traveling from {} to {} at {} - order: {}>'.format(\n",
    "            self.wave_type,\n",
    "            str(self.start_position), str(self.end_position), \n",
    "            str(self.velocity), self.order)"
   ]
  },
  {
   "cell_type": "code",
   "execution_count": 702,
   "metadata": {},
   "outputs": [],
   "source": [
    "class TraceSimulation(object):\n",
    "    def __init__(self, drillstring):\n",
    "        self.drillstring = drillstring"
   ]
  },
  {
   "cell_type": "code",
   "execution_count": 703,
   "metadata": {},
   "outputs": [
    {
     "name": "stderr",
     "output_type": "stream",
     "text": [
      "/home/bruno/miniconda3/envs/rhino_dev/lib/python3.7/site-packages/pint/quantity.py:1377: UnitStrippedWarning:\n",
      "\n",
      "The unit of the quantity is stripped.\n",
      "\n"
     ]
    }
   ],
   "source": [
    "traveling_up = True\n",
    "source = ds.last_component.bottom_position.magnitude\n",
    "\n",
    "traveling_up_properties = ds.get_interface_properties(traveling_up=traveling_up)\n",
    "traveling_down_properties = ds.get_interface_properties(traveling_up=not(traveling_up))\n",
    "\n",
    "sensor_position = 0\n",
    "\n",
    "current_component = ds.get_component_on_position(source-(1e-9) if traveling_up else source+(1e-9))"
   ]
  },
  {
   "cell_type": "code",
   "execution_count": 717,
   "metadata": {},
   "outputs": [],
   "source": [
    "def decompose_wave(source, traveling_up, drillstring=ds,\n",
    "                      traveling_up_properties=traveling_up_properties,\n",
    "                      traveling_down_properties=traveling_down_properties,\n",
    "                      sensor_position=0, initial_time=0, order=0, source_index=None, from_component='rock'):\n",
    "    current_component = drillstring.get_component_on_position(source-(1e-9) if traveling_up else source+(1e-9))\n",
    "    if traveling_up:\n",
    "        current_component = drillstring.get_component_on_position(source-(1e-9))\n",
    "        if current_component:\n",
    "            next_component_up = drillstring.next_component_up(current_component.name)\n",
    "            if next_component_up:\n",
    "                interface_it_hits = (current_component.name, next_component_up)\n",
    "                properties = traveling_up_properties[(current_component.name, next_component_up)]\n",
    "            else:\n",
    "                return None\n",
    "        else:\n",
    "            return None\n",
    "    else:\n",
    "        current_component = drillstring.get_component_on_position(source+(1e-9))\n",
    "        if current_component:\n",
    "            next_component_down = drillstring.next_component_down(current_component.name)\n",
    "            if next_component_down:\n",
    "                interface_it_hits = (current_component.name, next_component_down)\n",
    "                properties = traveling_down_properties[(current_component.name, next_component_down)]\n",
    "            else:\n",
    "                return None\n",
    "        else:\n",
    "            return None\n",
    "            \n",
    "    wt = WaveTrajectory(initial_time=initial_time, \n",
    "                        start_position=source, \n",
    "                        end_position=properties['interface_position'],\n",
    "                        velocity=current_component.velocity().magnitude,\n",
    "                        sensor_position=sensor_position,\n",
    "                        order=order)\n",
    "    \n",
    "    while order<3:\n",
    "        \n",
    "    return pd.DataFrame([[source_index, source, wt.end_position, traveling_up, order, initial_time, wt.end_time, from_component, interface_it_hits, wt.hit_sensor]], \n",
    "                        columns=['source_index', 'start_position', 'end_position', 'traveling_up', 'order', 'initial_time', 'end_time','source_interface', 'interface_it_hits', 'hit_sensor'])"
   ]
  },
  {
   "cell_type": "code",
   "execution_count": 718,
   "metadata": {},
   "outputs": [
    {
     "data": {
      "text/html": [
       "<div>\n",
       "<style scoped>\n",
       "    .dataframe tbody tr th:only-of-type {\n",
       "        vertical-align: middle;\n",
       "    }\n",
       "\n",
       "    .dataframe tbody tr th {\n",
       "        vertical-align: top;\n",
       "    }\n",
       "\n",
       "    .dataframe thead th {\n",
       "        text-align: right;\n",
       "    }\n",
       "</style>\n",
       "<table border=\"1\" class=\"dataframe\">\n",
       "  <thead>\n",
       "    <tr style=\"text-align: right;\">\n",
       "      <th></th>\n",
       "      <th>source_index</th>\n",
       "      <th>start_position</th>\n",
       "      <th>end_position</th>\n",
       "      <th>traveling_up</th>\n",
       "      <th>order</th>\n",
       "      <th>initial_time</th>\n",
       "      <th>end_time</th>\n",
       "      <th>source_interface</th>\n",
       "      <th>interface_it_hits</th>\n",
       "      <th>hit_sensor</th>\n",
       "    </tr>\n",
       "  </thead>\n",
       "  <tbody>\n",
       "    <tr>\n",
       "      <td>0</td>\n",
       "      <td>None</td>\n",
       "      <td>21.4376</td>\n",
       "      <td>19.812</td>\n",
       "      <td>True</td>\n",
       "      <td>0</td>\n",
       "      <td>0</td>\n",
       "      <td>0.000333</td>\n",
       "      <td>(rock, bitsub)</td>\n",
       "      <td>(bitsub, pipe)</td>\n",
       "      <td>False</td>\n",
       "    </tr>\n",
       "  </tbody>\n",
       "</table>\n",
       "</div>"
      ],
      "text/plain": [
       "  source_index  start_position  end_position  traveling_up  order  \\\n",
       "0         None         21.4376        19.812          True      0   \n",
       "\n",
       "   initial_time  end_time source_interface interface_it_hits  hit_sensor  \n",
       "0             0  0.000333   (rock, bitsub)    (bitsub, pipe)       False  "
      ]
     },
     "execution_count": 718,
     "metadata": {},
     "output_type": "execute_result"
    }
   ],
   "source": [
    "decompose_wave(21.437599999999996, traveling_up=True, from_component=('rock', 'bitsub'))"
   ]
  },
  {
   "cell_type": "code",
   "execution_count": 719,
   "metadata": {},
   "outputs": [
    {
     "data": {
      "text/html": [
       "<div>\n",
       "<style scoped>\n",
       "    .dataframe tbody tr th:only-of-type {\n",
       "        vertical-align: middle;\n",
       "    }\n",
       "\n",
       "    .dataframe tbody tr th {\n",
       "        vertical-align: top;\n",
       "    }\n",
       "\n",
       "    .dataframe thead th {\n",
       "        text-align: right;\n",
       "    }\n",
       "</style>\n",
       "<table border=\"1\" class=\"dataframe\">\n",
       "  <thead>\n",
       "    <tr style=\"text-align: right;\">\n",
       "      <th></th>\n",
       "      <th>source_index</th>\n",
       "      <th>start_position</th>\n",
       "      <th>end_position</th>\n",
       "      <th>traveling_up</th>\n",
       "      <th>order</th>\n",
       "      <th>initial_time</th>\n",
       "      <th>end_time</th>\n",
       "      <th>source_interface</th>\n",
       "      <th>interface_it_hits</th>\n",
       "      <th>hit_sensor</th>\n",
       "    </tr>\n",
       "  </thead>\n",
       "  <tbody>\n",
       "    <tr>\n",
       "      <td>0</td>\n",
       "      <td>0</td>\n",
       "      <td>19.812</td>\n",
       "      <td>21.4376</td>\n",
       "      <td>False</td>\n",
       "      <td>1</td>\n",
       "      <td>0.000333</td>\n",
       "      <td>0.000666</td>\n",
       "      <td>(bitsub, pipe)</td>\n",
       "      <td>(bitsub, rock)</td>\n",
       "      <td>True</td>\n",
       "    </tr>\n",
       "  </tbody>\n",
       "</table>\n",
       "</div>"
      ],
      "text/plain": [
       "   source_index  start_position  end_position  traveling_up  order  \\\n",
       "0             0          19.812       21.4376         False      1   \n",
       "\n",
       "   initial_time  end_time source_interface interface_it_hits  hit_sensor  \n",
       "0      0.000333  0.000666   (bitsub, pipe)    (bitsub, rock)        True  "
      ]
     },
     "execution_count": 719,
     "metadata": {},
     "output_type": "execute_result"
    }
   ],
   "source": [
    "decompose_wave(19.812, traveling_up=False, from_component=('bitsub', 'pipe'), source_index=0, initial_time=0.000333, order=1)"
   ]
  },
  {
   "cell_type": "code",
   "execution_count": 524,
   "metadata": {},
   "outputs": [],
   "source": [
    "df = pd.DataFrame()"
   ]
  },
  {
   "cell_type": "code",
   "execution_count": 519,
   "metadata": {},
   "outputs": [],
   "source": [
    "for k,v in properties.items():\n",
    "    if k[0] == current_component.name:\n"
   ]
  },
  {
   "cell_type": "code",
   "execution_count": 562,
   "metadata": {},
   "outputs": [],
   "source": [
    "wt = WaveTrajectory(initial_time=0, \n",
    "                    start_position=source, \n",
    "                    end_position=v['interface_position'],\n",
    "                    velocity=current_component.velocity().magnitude,\n",
    "                    sensor_position=0,\n",
    "                    order=0,\n",
    "                   )\n",
    "\n",
    "new_source = v['interface_position']\n",
    "forward_component = ds.get_component_on_position(new_source-(1e-9) if traveling_up else new_source+(1e-9))\n",
    "\n",
    "rwt = WaveTrajectory(initial_time=wt.end_time,\n",
    "                     start_position=v['interface_position'],\n",
    "                     end_position=source,\n",
    "                     velocity=current_component.velocity().magnitude,\n",
    "                     sensor_position=0,\n",
    "                     order=wt.order+1,\n",
    "                    )\n",
    "\n",
    "twt = WaveTrajectory(initial_time=wt.end_time,\n",
    "                     start_position=v['interface_position'],\n",
    "                     end_position=v['forward_position'],\n",
    "                     velocity=forward_component.velocity().magnitude,\n",
    "                     sensor_position=0,\n",
    "                     order=wt.order+1,\n",
    "                    )"
   ]
  },
  {
   "cell_type": "code",
   "execution_count": 563,
   "metadata": {},
   "outputs": [
    {
     "data": {
      "text/plain": [
       "103.7336"
      ]
     },
     "execution_count": 563,
     "metadata": {},
     "output_type": "execute_result"
    }
   ],
   "source": [
    "source"
   ]
  },
  {
   "cell_type": "code",
   "execution_count": 469,
   "metadata": {},
   "outputs": [
    {
     "data": {
      "text/plain": [
       "<Wave Trajectory \"primary\" traveling from 102.10799999999999 to 103.7336 at 4875.0 - order: 1>"
      ]
     },
     "execution_count": 469,
     "metadata": {},
     "output_type": "execute_result"
    }
   ],
   "source": [
    "rwt"
   ]
  },
  {
   "cell_type": "code",
   "execution_count": 428,
   "metadata": {},
   "outputs": [
    {
     "data": {
      "text/plain": [
       "{('bitsub', 'pipe #4'): {'RC': 0.3010625737898465,\n",
       "  'TC': 0.6989374262101535,\n",
       "  'forward_position': 82.29599999999999,\n",
       "  'interface_position': 102.10799999999999,\n",
       "  'previous_component': None},\n",
       " ('pipe #4', 'pipe_connector #3'): {'RC': -0.21657805529265045,\n",
       "  'TC': 1.2165780552926504,\n",
       "  'forward_position': 74.67599999999999,\n",
       "  'interface_position': 82.29599999999999,\n",
       "  'previous_component': <Drill component: bitsub - OD: 0.27 meter, ID: 0.09 meter, Length: 1.63 meter>},\n",
       " ('pipe_connector #3', 'pipe #3'): {'RC': 0.21657805529265045,\n",
       "  'TC': 0.7834219447073496,\n",
       "  'forward_position': 54.864,\n",
       "  'interface_position': 74.67599999999999,\n",
       "  'previous_component': <Drill component: pipe #4 - OD: 0.27 meter, ID: 0.2 meter, Length: 19.81 meter>},\n",
       " ('pipe #3', 'pipe_connector #2'): {'RC': -0.21657805529265045,\n",
       "  'TC': 1.2165780552926504,\n",
       "  'forward_position': 47.244,\n",
       "  'interface_position': 54.864,\n",
       "  'previous_component': <Drill component: pipe_connector #3 - OD: 0.27 meter, ID: 0.14 meter, Length: 7.62 meter>},\n",
       " ('pipe_connector #2', 'pipe #2'): {'RC': 0.21657805529265045,\n",
       "  'TC': 0.7834219447073496,\n",
       "  'forward_position': 27.432,\n",
       "  'interface_position': 47.244,\n",
       "  'previous_component': <Drill component: pipe #3 - OD: 0.27 meter, ID: 0.2 meter, Length: 19.81 meter>},\n",
       " ('pipe #2', 'pipe_connector #1'): {'RC': -0.21657805529265045,\n",
       "  'TC': 1.2165780552926504,\n",
       "  'forward_position': 19.811999999999998,\n",
       "  'interface_position': 27.432,\n",
       "  'previous_component': <Drill component: pipe_connector #2 - OD: 0.27 meter, ID: 0.14 meter, Length: 7.62 meter>},\n",
       " ('pipe_connector #1', 'pipe #1'): {'RC': 0.21657805529265045,\n",
       "  'TC': 0.7834219447073496,\n",
       "  'forward_position': 0,\n",
       "  'interface_position': 19.811999999999998,\n",
       "  'previous_component': <Drill component: pipe #2 - OD: 0.27 meter, ID: 0.2 meter, Length: 19.81 meter>}}"
      ]
     },
     "execution_count": 428,
     "metadata": {},
     "output_type": "execute_result"
    }
   ],
   "source": [
    "properties"
   ]
  },
  {
   "cell_type": "code",
   "execution_count": 474,
   "metadata": {},
   "outputs": [
    {
     "data": {
      "text/plain": [
       "{'RC': 0.21657805529265045,\n",
       " 'TC': 0.7834219447073496,\n",
       " 'forward_position': 0,\n",
       " 'interface_position': 19.811999999999998,\n",
       " 'previous_component': <Drill component: pipe #2 - OD: 0.27 meter, ID: 0.2 meter, Length: 19.81 meter>}"
      ]
     },
     "execution_count": 474,
     "metadata": {},
     "output_type": "execute_result"
    }
   ],
   "source": [
    "v"
   ]
  },
  {
   "cell_type": "code",
   "execution_count": 307,
   "metadata": {},
   "outputs": [
    {
     "data": {
      "text/plain": [
       "True"
      ]
     },
     "execution_count": 307,
     "metadata": {},
     "output_type": "execute_result"
    }
   ],
   "source": [
    "k[0] == current_component.name"
   ]
  },
  {
   "cell_type": "code",
   "execution_count": 305,
   "metadata": {},
   "outputs": [
    {
     "data": {
      "text/plain": [
       "'bitsub'"
      ]
     },
     "execution_count": 305,
     "metadata": {},
     "output_type": "execute_result"
    }
   ],
   "source": [
    "current_component.name"
   ]
  },
  {
   "cell_type": "code",
   "execution_count": 303,
   "metadata": {},
   "outputs": [
    {
     "data": {
      "text/plain": [
       "{'RC': 0.3010625737898465,\n",
       " 'TC': 0.6989374262101535,\n",
       " 'forward_position': 82.29599999999999,\n",
       " 'interface_position': 102.10799999999999,\n",
       " 'previous_component': None}"
      ]
     },
     "execution_count": 303,
     "metadata": {},
     "output_type": "execute_result"
    }
   ],
   "source": [
    "v"
   ]
  },
  {
   "cell_type": "code",
   "execution_count": 208,
   "metadata": {},
   "outputs": [
    {
     "data": {
      "text/html": [
       "103.7336 meter"
      ],
      "text/latex": [
       "$103.7336\\ \\mathrm{meter}$"
      ],
      "text/plain": [
       "103.7336 <Unit('meter')>"
      ]
     },
     "execution_count": 208,
     "metadata": {},
     "output_type": "execute_result"
    }
   ],
   "source": [
    "WaveTrajectory(start_position=source, end_position=)"
   ]
  },
  {
   "cell_type": "code",
   "execution_count": 204,
   "metadata": {},
   "outputs": [
    {
     "name": "stderr",
     "output_type": "stream",
     "text": [
      "/home/bruno/miniconda3/envs/rhino_dev/lib/python3.7/site-packages/pint/quantity.py:1377: UnitStrippedWarning:\n",
      "\n",
      "The unit of the quantity is stripped.\n",
      "\n"
     ]
    },
    {
     "data": {
      "text/plain": [
       "{('bitsub', 'pipe #4'): {'RC': 0.3010625737898465,\n",
       "  'TC': 0.6989374262101535,\n",
       "  'forward_position': 82.29599999999999,\n",
       "  'interface_position': 102.10799999999999,\n",
       "  'previous_component': None},\n",
       " ('pipe #4', 'pipe_connector #3'): {'RC': -0.21657805529265045,\n",
       "  'TC': 1.2165780552926504,\n",
       "  'forward_position': 74.67599999999999,\n",
       "  'interface_position': 82.29599999999999,\n",
       "  'previous_component': <Drill component: bitsub - OD: 0.27 meter, ID: 0.09 meter, Length: 1.63 meter>},\n",
       " ('pipe_connector #3', 'pipe #3'): {'RC': 0.21657805529265045,\n",
       "  'TC': 0.7834219447073496,\n",
       "  'forward_position': 54.864,\n",
       "  'interface_position': 74.67599999999999,\n",
       "  'previous_component': <Drill component: pipe #4 - OD: 0.27 meter, ID: 0.2 meter, Length: 19.81 meter>},\n",
       " ('pipe #3', 'pipe_connector #2'): {'RC': -0.21657805529265045,\n",
       "  'TC': 1.2165780552926504,\n",
       "  'forward_position': 47.244,\n",
       "  'interface_position': 54.864,\n",
       "  'previous_component': <Drill component: pipe_connector #3 - OD: 0.27 meter, ID: 0.14 meter, Length: 7.62 meter>},\n",
       " ('pipe_connector #2', 'pipe #2'): {'RC': 0.21657805529265045,\n",
       "  'TC': 0.7834219447073496,\n",
       "  'forward_position': 27.432,\n",
       "  'interface_position': 47.244,\n",
       "  'previous_component': <Drill component: pipe #3 - OD: 0.27 meter, ID: 0.2 meter, Length: 19.81 meter>},\n",
       " ('pipe #2', 'pipe_connector #1'): {'RC': -0.21657805529265045,\n",
       "  'TC': 1.2165780552926504,\n",
       "  'forward_position': 19.811999999999998,\n",
       "  'interface_position': 27.432,\n",
       "  'previous_component': <Drill component: pipe_connector #2 - OD: 0.27 meter, ID: 0.14 meter, Length: 7.62 meter>},\n",
       " ('pipe_connector #1', 'pipe #1'): {'RC': 0.21657805529265045,\n",
       "  'TC': 0.7834219447073496,\n",
       "  'forward_position': 0,\n",
       "  'interface_position': 19.811999999999998,\n",
       "  'previous_component': <Drill component: pipe #2 - OD: 0.27 meter, ID: 0.2 meter, Length: 19.81 meter>}}"
      ]
     },
     "execution_count": 204,
     "metadata": {},
     "output_type": "execute_result"
    }
   ],
   "source": [
    "ds.get_interface_properties()"
   ]
  },
  {
   "cell_type": "code",
   "execution_count": null,
   "metadata": {},
   "outputs": [],
   "source": []
  },
  {
   "cell_type": "code",
   "execution_count": null,
   "metadata": {},
   "outputs": [],
   "source": []
  }
 ],
 "metadata": {
  "kernelspec": {
   "display_name": "Python 3",
   "language": "python",
   "name": "python3"
  },
  "language_info": {
   "codemirror_mode": {
    "name": "ipython",
    "version": 3
   },
   "file_extension": ".py",
   "mimetype": "text/x-python",
   "name": "python",
   "nbconvert_exporter": "python",
   "pygments_lexer": "ipython3",
   "version": "3.7.4"
  }
 },
 "nbformat": 4,
 "nbformat_minor": 4
}
