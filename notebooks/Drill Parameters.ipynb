{
 "cells": [
  {
   "cell_type": "code",
   "execution_count": 2,
   "metadata": {},
   "outputs": [],
   "source": [
    "import numpy as np\n",
    "import pandas as pd\n",
    "import seaborn as sns\n",
    "import os\n",
    "from matplotlib import pyplot as plt\n",
    "\n",
    "os.chdir('/home/bruno/datacloud')\n",
    "\n",
    "plt.style.use('seaborn-dark')\n",
    "\n",
    "plt.rcParams['axes.grid'] = True\n",
    "plt.rcParams['figure.figsize'] = (7.5, 5)"
   ]
  },
  {
   "cell_type": "code",
   "execution_count": 3,
   "metadata": {},
   "outputs": [],
   "source": [
    "from theory.core import Pipe, Rock, TheoreticalWavelet, MultipleWavelets"
   ]
  },
  {
   "cell_type": "code",
   "execution_count": 4,
   "metadata": {},
   "outputs": [],
   "source": [
    "pipe = Pipe()"
   ]
  },
  {
   "cell_type": "code",
   "execution_count": 5,
   "metadata": {},
   "outputs": [],
   "source": [
    "import pint\n",
    "import numpy as np"
   ]
  },
  {
   "cell_type": "code",
   "execution_count": 6,
   "metadata": {},
   "outputs": [],
   "source": [
    "from plotly import tools"
   ]
  },
  {
   "cell_type": "code",
   "execution_count": 67,
   "metadata": {},
   "outputs": [],
   "source": [
    "DEFAULT_INPUT_UNITS = {\n",
    "    \"length\": 'm',\n",
    "    \"outer_diameter\": 'in',\n",
    "    \"inner_diameter\": 'in',\n",
    "    \"weight\": 'kg',\n",
    "    \"alpha\": 'm/s',\n",
    "    \"beta\": 'm/s',\n",
    "    \"rho\": 'kg/m^3',\n",
    "}\n",
    "\n",
    "DEFAULT_OUTPUT_UNITS = {\n",
    "    \"length\": 'm',\n",
    "    \"outer_diameter\": 'm',\n",
    "    \"inner_diameter\": 'm',\n",
    "    \"weight\": 'kg',\n",
    "    \"alpha\": 'm/s',\n",
    "    \"beta\": 'm/s',\n",
    "    \"rho\": 'kg/m^3',\n",
    "}\n",
    "\n",
    "ureg = pint.UnitRegistry()\n",
    "\n",
    "class DrillComponent(object):\n",
    "    '''\n",
    "    A base class to be used as a component of the drill.\n",
    "    '''\n",
    "    def __init__(self, \n",
    "                 name=None,\n",
    "                 length=None, \n",
    "                 outer_diameter=None,\n",
    "                 inner_diameter=None, \n",
    "                 weight=None, \n",
    "                 rho=None,\n",
    "                 alpha=None,\n",
    "                 beta=None,\n",
    "                 product_id=None,\n",
    "                 catalogue_no=None,\n",
    "                 input_units=DEFAULT_INPUT_UNITS,\n",
    "                 output_units=DEFAULT_OUTPUT_UNITS,\n",
    "                ):\n",
    "        \n",
    "        self.name = name\n",
    "        self.component = component # axial or tangential\n",
    "        \n",
    "        # These are all physical or geometrical properties of the component wraped by pint to make it work with\n",
    "        # multiple units.\n",
    "        self._length = length * ureg(input_units['length'], force_ndarray=True).to('m') if length else None\n",
    "        self._outer_diameter = outer_diameter * ureg(input_units['outer_diameter'], force_ndarray=True).to('m') if outer_diameter else None\n",
    "        self._inner_diameter = inner_diameter * ureg(input_units['inner_diameter'], force_ndarray=True).to('m') if inner_diameter else None\n",
    "        self._weight = weight * ureg(input_units['weight'], force_ndarray=True).to('kg') if weight else None\n",
    "        self._rho = rho * ureg(input_units['rho'], force_ndarray=True).to('kg/m^3') if rho else None\n",
    "        self._alpha = alpha * ureg(input_units['alpha'], force_ndarray=True).to('m/s') if alpha else None\n",
    "        self._beta = beta * ureg(input_units['beta'], force_ndarray=True).to('m/s') if beta else None\n",
    "        \n",
    "        # Dictionaries holding units\n",
    "        self.input_units = input_units\n",
    "        self.output_units = output_units\n",
    "        \n",
    "        # Product information\n",
    "        self.product_id = product_id\n",
    "        self.catalogue_no = catalogue_no\n",
    "        \n",
    "        self.A1 = self.effective_area\n",
    "        self.Z1 = self.impedance\n",
    "        \n",
    "    def set_attribute_unit(self, attribute, unit):\n",
    "        '''\n",
    "        Set new unit for the output dict.\n",
    "        '''\n",
    "        self.output_units[attribute] = unit\n",
    "    \n",
    "    @property\n",
    "    def length(self):\n",
    "        '''\n",
    "        Length of the component.\n",
    "        '''\n",
    "        if self._length:\n",
    "            return self._length.to(self.output_units['length'])\n",
    "        else:\n",
    "            return np.nan\n",
    "        \n",
    "    @property\n",
    "    def outer_diameter(self):\n",
    "        '''\n",
    "        Outer diameter of the component.\n",
    "        '''\n",
    "        if self._outer_diameter:\n",
    "            return self._outer_diameter.to(self.output_units['outer_diameter'])\n",
    "        else:\n",
    "            return np.nan\n",
    "        \n",
    "    @property\n",
    "    def od(self):\n",
    "        '''\n",
    "        Outer diameter of the component.\n",
    "        '''\n",
    "        return self.outer_diameter\n",
    "        \n",
    "    @property\n",
    "    def inner_diameter(self):\n",
    "        '''\n",
    "        Inner diameter of the component.\n",
    "        '''\n",
    "        if self._inner_diameter:\n",
    "            return self._inner_diameter.to(self.output_units['inner_diameter'])\n",
    "        else:\n",
    "            if ~np.isnan(self.outer_diameter) & ~np.isnan(self.length) & ~np.isnan(self.weight) & ~np.isnan(self.rho):\n",
    "                return np.sqrt(((self.od**2)-((4*self.weight)/((self.density*np.pi*self.length))))).to(self.output_units['inner_diameter'])\n",
    "            pass\n",
    "    \n",
    "    def effective_area(self, component='axial'):                                                                  \n",
    "        \"\"\"                                                                        \n",
    "        Cross section area. (Old A1 - Effective drill stem area for axial.)\n",
    "        \"\"\"      \n",
    "        if component == 'axial':\n",
    "            return np.pi * (((self.outer_diameter / 2) ** 2) - ((self.inner_diameter / 2) ** 2))\n",
    "        if component == 'tangential':\n",
    "            return np.pi * (((self.outer_diameter / 2) ** 2) + ((self.inner_diameter / 2) ** 2))\n",
    "        \n",
    "    @property\n",
    "    def weight(self):\n",
    "        '''\n",
    "        Weight of the component.\n",
    "        '''\n",
    "        if self._weight:\n",
    "            return self._weight.to(self.output_units['weight'])\n",
    "        else:\n",
    "            return np.nan\n",
    "        \n",
    "    @property\n",
    "    def alpha(self):\n",
    "        '''\n",
    "        Compressional velocity of the component.\n",
    "        '''\n",
    "        if self._alpha:\n",
    "            return self._alpha.to(self.output_units['alpha'])\n",
    "        else:\n",
    "            return np.nan\n",
    "    \n",
    "    @property\n",
    "    def beta(self):\n",
    "        '''\n",
    "        Shear velocity of the component.\n",
    "        '''\n",
    "        if self._beta:\n",
    "            return self._beta.to(self.output_units['beta'])\n",
    "        else:\n",
    "            return np.nan\n",
    "    \n",
    "    @property\n",
    "    def rho(self):\n",
    "        '''\n",
    "        Density of the component.\n",
    "        '''\n",
    "        if self._rho:\n",
    "            return self._rho.to(self.output_units['rho'])\n",
    "        else:\n",
    "            return np.nan\n",
    "        \n",
    "    @property\n",
    "    def density(self):\n",
    "        '''\n",
    "        Density of the component.\n",
    "        '''\n",
    "        return self.rho\n",
    "    \n",
    "                                                                                   \n",
    "    @property                                                                      \n",
    "    def Ab(self):                                                                  \n",
    "        \"\"\"                                                                        \n",
    "        Area of the bit contacting rock.                                           \n",
    "        \"\"\"                                                                        \n",
    "        return np.pi * (self.Rb ** 2)\n",
    "                                                                                   \n",
    "    def impedance(self, component='axial'):                                                                  \n",
    "        \"\"\"                                                                        \n",
    "        Steel impedance. (Old Z1)                                                        \n",
    "        \"\"\"                                                                        \n",
    "        if component == 'axial':                                              \n",
    "            return self.Ab * self.rho * self.alpha * (3/4)                         \n",
    "        if component == 'tangential':                                         \n",
    "            return self.Ab * self.rho * self.beta \n",
    "\n",
    "        \n",
    "    def delay(self, component='axial'):\n",
    "        '''\n",
    "        '''\n",
    "        if component == 'axial':                                              \n",
    "            return 2 * self.length / self.alpha\n",
    "        if component == 'tangential':                                              \n",
    "            return 2 * self.length / self.beta\n",
    "    \n",
    "    def __repr__(self):\n",
    "        return '<Drill component: {} - OD: {}, ID: {}, Length: {}>'.format(\n",
    "            self.name, \n",
    "            str((np.round(self.od, 2))),\n",
    "            str((np.round(self.inner_diameter, 2))),\n",
    "            str((np.round(self.length, 2))),\n",
    "        )"
   ]
  },
  {
   "cell_type": "code",
   "execution_count": 68,
   "metadata": {},
   "outputs": [],
   "source": [
    "import pint"
   ]
  },
  {
   "cell_type": "code",
   "execution_count": 419,
   "metadata": {},
   "outputs": [
    {
     "name": "stdout",
     "output_type": "stream",
     "text": [
      "RC for axial: 0.2721846729749403\n",
      "delay for bitsub axial: 0.5314461538461538 millisecond\n",
      "delay for pipe axial: 3.126153846153846 millisecond\n",
      "\n",
      "RC for tangential: -0.14094036603691706\n",
      "delay for bitsub tangential: 1.0940878378378378 millisecond\n",
      "delay for pipe tangential: 6.435810810810811 millisecond\n",
      "\n"
     ]
    },
    {
     "name": "stderr",
     "output_type": "stream",
     "text": [
      "/home/bruno/miniconda3/envs/dcpipe/lib/python3.6/site-packages/pint/quantity.py:1377: UnitStrippedWarning:\n",
      "\n",
      "The unit of the quantity is stripped.\n",
      "\n"
     ]
    }
   ],
   "source": [
    "for component in ['axial', 'tangential']:\n",
    "    bitsub = DrillComponent('bitsub',  length=51,  outer_diameter=7.625,  inner_diameter=2.77,  weight=2998,  \n",
    "                            rho=7850, alpha=4875, beta=2368,\n",
    "                    input_units={\n",
    "                          'length': 'in', \n",
    "                          'outer_diameter': 'in', \n",
    "                          'inner_diameter': 'in', \n",
    "                          'weight': 'lbs', \n",
    "                          'alpha': 'm/s', \n",
    "                          'beta': 'm/s', \n",
    "                          'rho': 'kg/m^3'\n",
    "                      })\n",
    "\n",
    "    pipe = DrillComponent('pipe',  length=300,  outer_diameter=7.625,  inner_diameter=5.41,  weight=4210,  \n",
    "                            rho=7850, alpha=4875, beta=2368,\n",
    "                    input_units={\n",
    "                          'length': 'in', \n",
    "                          'outer_diameter': 'in', \n",
    "                          'inner_diameter': 'in', \n",
    "                          'weight': 'lbs', \n",
    "                          'alpha': 'm/s', \n",
    "                          'beta': 'm/s', \n",
    "                          'rho': 'kg/m^3'\n",
    "                      })\n",
    "\n",
    "    RC = (np.asarray(bitsub.effective_area(component)) - np.asarray(pipe.effective_area(component))) / (np.asarray(bitsub.effective_area(component)) + np.asarray(pipe.effective_area(component)))\n",
    "    print('RC for {}: {}'.format(component, RC))\n",
    "    print('delay for bitsub {}: {}'.format(component, bitsub.delay(component).to('ms')))\n",
    "    print('delay for pipe {}: {}'.format(component, pipe.delay(component).to('ms')))    \n",
    "    print()"
   ]
  },
  {
   "cell_type": "code",
   "execution_count": 420,
   "metadata": {},
   "outputs": [],
   "source": [
    "class Drillstring(object):\n",
    "    def __init__(self, drill_components, device_location=None):\n",
    "        self.drill_components = drill_components\n",
    "        self.deduplication()\n",
    "        self.length = sum([component.length for component in drill_components])\n",
    "        \n",
    "        distance_from_top = 0* ureg('m')\n",
    "        for component in self.drill_components:\n",
    "            component.distance_from_top = distance_from_top\n",
    "            distance_from_top += component.length    \n",
    "\n",
    "    def deduplication(self):\n",
    "        from collections import Counter\n",
    "        counter_components = Counter([c.name for c in self.drill_components])\n",
    "        duplicated_components = [k for k, v in counter_components.items() if v > 1]\n",
    "\n",
    "        for duplicated_component in duplicated_components:\n",
    "            counter = 1\n",
    "            for i, component in enumerate(self.drill_components):\n",
    "                if component.name == duplicated_component:\n",
    "                    self.drill_components[i] = deepcopy(component)\n",
    "                    component = self.drill_components[i]\n",
    "                    component.name = component.name + ' #' + str(counter)\n",
    "                    counter += 1\n",
    "    \n",
    "    def plot(self):\n",
    "        palette = sns.color_palette(\"pastel\", len(self.drill_components))\n",
    "        fig, ax = plt.subplots(1,1, figsize=(15,5))\n",
    "        for dc, color in zip(self.drill_components, palette):\n",
    "            width=dc.length.magnitude\n",
    "            xmin = dc.distance_from_top.magnitude\n",
    "            xmax = xmin + width\n",
    "            patch = plt.Rectangle((xmin, (-dc.outer_diameter/2).magnitude), \n",
    "                                  width=dc.length.magnitude, \n",
    "                                  height=dc.outer_diameter.magnitude, color=color, label=dc.name)\n",
    "            ax.add_patch(patch)\n",
    "\n",
    "            ax.hlines([dc.inner_diameter.magnitude/2, -dc.inner_diameter.magnitude/2], xmin, xmax, linestyles='dashed')\n",
    "\n",
    "        ax.set_xlim(-1, ds.length.magnitude+1)\n",
    "        ax.set_ylim(-max([c.outer_diameter for c in self.drill_components]).magnitude*3, max([c.outer_diameter for c in self.drill_components]).magnitude*3)\n",
    "        ax.set_xlabel('Length ({})'.format(dc.length.units))\n",
    "        ax.set_ylabel('XSection ({})'.format(dc.od.units))\n",
    "        ax.legend()"
   ]
  },
  {
   "cell_type": "code",
   "execution_count": 421,
   "metadata": {},
   "outputs": [],
   "source": [
    "from copy import deepcopy"
   ]
  },
  {
   "cell_type": "code",
   "execution_count": 422,
   "metadata": {},
   "outputs": [],
   "source": [
    "ds = Drillstring([pipe1, pipe2, bitsub])"
   ]
  },
  {
   "cell_type": "code",
   "execution_count": 423,
   "metadata": {},
   "outputs": [
    {
     "data": {
      "image/png": "[encoded data removed]",
      "text/plain": [
       "<Figure size 1080x360 with 1 Axes>"
      ]
     },
     "metadata": {
      "needs_background": "light"
     },
     "output_type": "display_data"
    }
   ],
   "source": [
    "ds.plot()"
   ]
  },
  {
   "cell_type": "code",
   "execution_count": 133,
   "metadata": {},
   "outputs": [],
   "source": [
    "class WaveTrajectory(object):\n",
    "    def __init__(self, \n",
    "                 wave_type='primary',\n",
    "                 initial_time=0, \n",
    "                 start_position=0, \n",
    "                 end_time=10, \n",
    "                 end_position=10, \n",
    "                 sensor_position=8,\n",
    "                 velocity=1,\n",
    "                 order=0,\n",
    "                ):\n",
    "        self.start_position = start_position\n",
    "        self.initial_time = initial_time\n",
    "        self.end_position = end_position\n",
    "        self.velocity = velocity\n",
    "        self.wave_type = wave_type\n",
    "        self.sensor_position = sensor_position\n",
    "        self.order = order\n",
    "        \n",
    "        self.traveling_up = (self.end_position > self.start_position)\n",
    "        self.traveling_down = not(self.traveling_up)\n",
    "        \n",
    "        self.displacement = self.end_position - self.start_position\n",
    "        \n",
    "    def current_position(self, time=5):\n",
    "        return self.velocity * time\n",
    "    \n",
    "    @property\n",
    "    def end_time(self):\n",
    "        return self.displacement / self.velocity\n",
    "    \n",
    "    @property\n",
    "    def displacement_to_sensor(self):\n",
    "        return self.sensor_position - self.start_position\n",
    "    \n",
    "    @property\n",
    "    def hit_sensor(self):\n",
    "        if (self.end_position > self.sensor_position) & (self.start) & (self.traveling_up):\n",
    "            return True\n",
    "        elif (self.end_position < self.sensor_position) & (self.start) & (self.traveling_down):\n",
    "            return True\n",
    "        else:\n",
    "            return False\n",
    "        \n",
    "    @property\n",
    "    def time_it_hits_sensor(self):\n",
    "        if self.hit_sensor:\n",
    "            return self.velocity * self.displacement_to_sensor + self.initial_time\n",
    "        else:\n",
    "            return None\n",
    "        \n",
    "    "
   ]
  },
  {
   "cell_type": "code",
   "execution_count": 134,
   "metadata": {},
   "outputs": [],
   "source": [
    "wt = WaveTrajectory(velocity=.5, initial_time=10, start_position=0, sensor_position=-6)"
   ]
  },
  {
   "cell_type": "code",
   "execution_count": 135,
   "metadata": {},
   "outputs": [
    {
     "data": {
      "text/plain": [
       "20.0"
      ]
     },
     "execution_count": 135,
     "metadata": {},
     "output_type": "execute_result"
    }
   ],
   "source": [
    "wt.end_time"
   ]
  },
  {
   "cell_type": "code",
   "execution_count": 131,
   "metadata": {},
   "outputs": [
    {
     "data": {
      "text/plain": [
       "True"
      ]
     },
     "execution_count": 131,
     "metadata": {},
     "output_type": "execute_result"
    }
   ],
   "source": [
    "wt.hit_sensor"
   ]
  },
  {
   "cell_type": "code",
   "execution_count": 60,
   "metadata": {},
   "outputs": [
    {
     "data": {
      "text/plain": [
       "727.157675"
      ]
     },
     "execution_count": 60,
     "metadata": {},
     "output_type": "execute_result"
    }
   ],
   "source": [
    "wt.current_position(1454.31535)"
   ]
  },
  {
   "cell_type": "code",
   "execution_count": 61,
   "metadata": {},
   "outputs": [
    {
     "data": {
      "text/plain": [
       "8.0"
      ]
     },
     "execution_count": 61,
     "metadata": {},
     "output_type": "execute_result"
    }
   ],
   "source": [
    "wt.time_it_hits_sensor"
   ]
  }
 ],
 "metadata": {
  "kernelspec": {
   "display_name": "Python 3",
   "language": "python",
   "name": "python3"
  },
  "language_info": {
   "codemirror_mode": {
    "name": "ipython",
    "version": 3
   },
   "file_extension": ".py",
   "mimetype": "text/x-python",
   "name": "python",
   "nbconvert_exporter": "python",
   "pygments_lexer": "ipython3",
   "version": "3.6.8"
  }
 },
 "nbformat": 4,
 "nbformat_minor": 4
}
