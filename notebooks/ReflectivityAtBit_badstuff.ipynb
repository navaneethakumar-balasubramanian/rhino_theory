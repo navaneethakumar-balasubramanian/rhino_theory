{
 "cells": [
  {
   "cell_type": "code",
   "execution_count": null,
   "metadata": {},
   "outputs": [],
   "source": [
    "import numpy as np"
   ]
  },
  {
   "cell_type": "code",
   "execution_count": null,
   "metadata": {},
   "outputs": [],
   "source": [
    "class Pipe(object):\n",
    "    '''\n",
    "    Args:\n",
    "        Ro (np.array or float): Outer radius of pipe\n",
    "        Ri (np.array or float): Inner radius of pipe\n",
    "        Rb (np.array or float): Effective bit radius contacting rock (m)\n",
    "        alpha (np.array or float): Axial velocity of the drill stem.\n",
    "        rho (np.array or float): Density of the drill stem.\n",
    "    '''\n",
    "    def __init__(self, \n",
    "             Ro=.1365, \n",
    "             Ri=.0687, \n",
    "             Rb=.16,\n",
    "             alpha=4875,\n",
    "             rho=7800\n",
    "                ):\n",
    "        self.Ro = Ro\n",
    "        self.Ri = Ri\n",
    "        self.Rb = Rb\n",
    "        self.alpha = alpha\n",
    "        self.rho = rho\n",
    "        \n",
    "    @property\n",
    "    def A1(self):\n",
    "        '''\n",
    "        Effective drill stem area.\n",
    "        '''\n",
    "        return np.pi*((self.Ro**2)-(self.Ri**2))\n",
    "    \n",
    "    @property\n",
    "    def Ab(self):\n",
    "        '''\n",
    "        Area of the bit contacting rock.\n",
    "        '''\n",
    "        return np.pi * (self.Rb**2)\n",
    "        \n",
    "    @property\n",
    "    def Z1(self):\n",
    "        '''\n",
    "        Steel impedance.\n",
    "        '''\n",
    "        return self.Ab * self.rho * self.alpha * 0.00001\n",
    "\n",
    "class Rock(object):\n",
    "    '''\n",
    "    Args:\n",
    "        alpha (np.array or float): Velocity of the rock.\n",
    "        rho (np.array or float): Density of the rock.\n",
    "        modulus (np.array or float): Modulus of the rock.\n",
    "    '''\n",
    "    def __init__(self, alpha=None, rho=None, modulus=None):\n",
    "        self.alpha = alpha\n",
    "        self.rho = rho\n",
    "        self.modulus = modulus\n",
    "        \n",
    "#     @property\n",
    "#     def modulus(self):\n",
    "#         if self._modulus:\n",
    "#             return self._modulus\n",
    "#         return self._rho * self._alpha\n",
    "    \n",
    "#     @property\n",
    "#     def rho(self):\n",
    "#         if self._rho:\n",
    "#             return self._rho\n",
    "#         return self._rho * self._alpha"
   ]
  },
  {
   "cell_type": "code",
   "execution_count": null,
   "metadata": {},
   "outputs": [],
   "source": [
    "alpha=np.arange(1000, 3500 + 25, 25)\n",
    "rho=np.arange(1300, 2500 + 25, 25)"
   ]
  },
  {
   "cell_type": "code",
   "execution_count": null,
   "metadata": {},
   "outputs": [],
   "source": [
    "pipe = Pipe(Ro=.1365, Ri=.0687, Rb=.16, alpha=4875, rho=7800)\n",
    "rock = Rock(alpha, rho)"
   ]
  },
  {
   "cell_type": "code",
   "execution_count": null,
   "metadata": {},
   "outputs": [],
   "source": [
    "from scipy import signal"
   ]
  },
  {
   "cell_type": "code",
   "execution_count": null,
   "metadata": {},
   "outputs": [],
   "source": [
    "def lowpass_filter(s, cutoff=30, sampling_frequency=0.3):\n",
    "    fc = cutoff # Cut-off frequency of the filter\n",
    "    fs = sampling_frequency\n",
    "#     w = fc / (fs / 2) # Normalize the frequency\n",
    "    w = 0.02\n",
    "    b, a = signal.butter(5, 0.05, 'low')\n",
    "    return signal.filtfilt(b, a, s)\n",
    "\n",
    "def amplitude_and_phase(pipe, rock, f):\n",
    "    '''\n",
    "    From a given pipe and rock instances and a range of frequencies compute amplitude and phase.\n",
    "    '''\n",
    "    k = 2 * np.pi * f / rock.alpha\n",
    "    cot_phi = -1 * (k * pipe.Rb * (1+6*np.sqrt(3))/12)\n",
    "    \n",
    "    Zb = ((pipe.Ab * rock.rho * rock.alpha) / (k * pipe.Rb)) / (1j - cot_phi) * .00001\n",
    "    \n",
    "    RC_complex = (pipe.Z1 - Zb) / (pipe.Z1 + Zb)\n",
    "\n",
    "    RC = np.abs(RC_complex)\n",
    "    \n",
    "    RC_tanphi = RC_complex.imag / RC_complex.real\n",
    "    \n",
    "    phi = np.arctan(RC_tanphi)\n",
    "    return RC_complex, RC, phi\n",
    "\n",
    "def inverse_transform(amplitude, phase):\n",
    "    freq_domain = np.nan_to_num(amplitude * np.cos(phase) + (amplitude * np.sin(phase))* 1j)\n",
    "    freq_domain_real = freq_domain.real\n",
    "    freq_domain_imag = freq_domain.imag\n",
    "    inverse = np.fft.ifft(freq_domain_real + freq_domain_imag*1j)\n",
    "    return np.fft.fftshift(inverse)"
   ]
  },
  {
   "cell_type": "code",
   "execution_count": null,
   "metadata": {},
   "outputs": [],
   "source": [
    "from obspy import read, Trace, Stream, UTCDateTime\n",
    "from obspy.core import AttribDict\n",
    "from obspy.io.segy.segy import SEGYTraceHeader, SEGYBinaryFileHeader\n",
    "from obspy.io.segy.core import _read_segy\n",
    "import numpy as np\n",
    "import matplotlib.pyplot as plt"
   ]
  },
  {
   "cell_type": "code",
   "execution_count": null,
   "metadata": {},
   "outputs": [],
   "source": [
    "frequency_resolution = 0.05\n",
    "N = 100000"
   ]
  },
  {
   "cell_type": "code",
   "execution_count": null,
   "metadata": {},
   "outputs": [],
   "source": [
    "f = np.fft.fftfreq(N, frequency_resolution)"
   ]
  },
  {
   "cell_type": "code",
   "execution_count": null,
   "metadata": {},
   "outputs": [],
   "source": [
    "samples_from_center = 100"
   ]
  },
  {
   "cell_type": "code",
   "execution_count": null,
   "metadata": {},
   "outputs": [],
   "source": [
    "import seaborn as sns"
   ]
  },
  {
   "cell_type": "code",
   "execution_count": null,
   "metadata": {},
   "outputs": [],
   "source": [
    "r, a = 1700, 1700\n",
    "\n",
    "RC_complex, amp, phase = amplitude_and_phase(pipe, Rock(r, a), f)\n",
    "\n",
    "fig, (ax1, ax2, ax3) = plt.subplots(3, 1)\n",
    "\n",
    "freq_domain = amp * np.cos(phase) + (amp * np.sin(phase))* 1j\n",
    "\n",
    "# huge_step = np.argmax(np.diff(freq_domain)[1:])+1\n",
    "\n",
    "# freq_domain.real[huge_step:] = (0-freq_domain.real[huge_step:])\n",
    "# freq_domain.imag[huge_step:] = freq_domain.imag.max() - (freq_domain.imag[huge_step:]) - freq_domain.imag.max()\n",
    "\n",
    "# freq_domain_real = np.r_[freq_domain.real, freq_domain.real[::-1]][:-1]\n",
    "# freq_domain_imag = np.r_[freq_domain.imag, freq_domain.imag[::-1]][:-1]\n",
    "\n",
    "# freq_domain_imag[int(len(freq_domain_imag)/2):] = - freq_domain_imag[int(len(freq_domain_imag)/2):]\n",
    "\n",
    "# freq_domain_real = freq_domain.real\n",
    "# freq_domain_imag = freq_domain.imag\n",
    "\n",
    "inverse = np.fft.ifft(freq_domain_real + freq_domain_imag*1j)\n",
    "\n",
    "ax1.plot(f, amp)\n",
    "ax2.plot(f, phase)\n",
    "\n",
    "ax3.plot(np.fft.fftshift(inverse.real)[(int(N/2))-samples_from_center:(int(N/2))+samples_from_center])\n",
    "ax3.plot(np.fft.fftshift(inverse.imag)[(int(N/2))-samples_from_center:(int(N/2))+samples_from_center])\n",
    "\n",
    "\n",
    "ax1.set_ylabel('amplitude')\n",
    "ax2.set_ylabel('phase')\n",
    "ax3.set_ylabel('')\n",
    "ax3.set_xlabel('')\n",
    "# ax3.set_ylim(0)\n",
    "for ax in [ax1, ax2, ax3]:\n",
    "    ax.grid()\n",
    "fig.suptitle('rho={}, alpha={}'.format(r, a))\n",
    "fig = plt.gcf()\n",
    "fig.set_size_inches(15,7.5)\n",
    "fig.dpi = 200"
   ]
  },
  {
   "cell_type": "code",
   "execution_count": null,
   "metadata": {},
   "outputs": [],
   "source": [
    "f"
   ]
  },
  {
   "cell_type": "code",
   "execution_count": null,
   "metadata": {},
   "outputs": [],
   "source": [
    "((pipe.Ab * r * a) / (k * pipe.Rb))"
   ]
  },
  {
   "cell_type": "code",
   "execution_count": null,
   "metadata": {},
   "outputs": [],
   "source": [
    "(k * pipe.Rb) / (1j - cot_phi)"
   ]
  },
  {
   "cell_type": "code",
   "execution_count": null,
   "metadata": {},
   "outputs": [],
   "source": [
    "RC_complex[1]"
   ]
  },
  {
   "cell_type": "code",
   "execution_count": null,
   "metadata": {},
   "outputs": [],
   "source": [
    "k = 2 * np.pi * f / a\n",
    "cot_phi = -1 * (k * pipe.Rb * (1+6*np.sqrt(3))/12)\n",
    "\n",
    "Zb = ((pipe.Ab * r * a) / (k * pipe.Rb)) / (1j - cot_phi) * .00001\n",
    "\n",
    "RC_complex = (pipe.Z1 - Zb) / (pipe.Z1 + Zb)\n",
    "RC_complex[0] = -1+0j\n",
    "RC = np.abs(RC_complex)\n",
    "\n",
    "RC_tanphi = RC_complex.imag / RC_complex.real\n",
    "\n",
    "phi = np.arctan(RC_tanphi)"
   ]
  },
  {
   "cell_type": "code",
   "execution_count": null,
   "metadata": {},
   "outputs": [],
   "source": [
    "plt.plot(RC_complex)"
   ]
  },
  {
   "cell_type": "code",
   "execution_count": null,
   "metadata": {},
   "outputs": [],
   "source": [
    "print('3 first real for freq domain: ', (amp[:3]))\n",
    "print('3 last real for freq domain: ', (amp[-3:]))\n",
    "print('3 first imag for freq domain: ', (phase[:3]))\n",
    "print('3 last imag for freq domain: ', (phase[-3:]))"
   ]
  },
  {
   "cell_type": "code",
   "execution_count": null,
   "metadata": {},
   "outputs": [],
   "source": [
    "print('3 first real for freq domain: ', (freq_domain_real[:3]))\n",
    "print('3 last real for freq domain: ', (freq_domain_real[-3:]))\n",
    "print('3 first imag for freq domain: ', (freq_domain_imag[:3]))\n",
    "print('3 last imag for freq domain: ', (freq_domain_imag[-3:]))"
   ]
  },
  {
   "cell_type": "code",
   "execution_count": null,
   "metadata": {},
   "outputs": [],
   "source": [
    "import numpy as np"
   ]
  },
  {
   "cell_type": "code",
   "execution_count": null,
   "metadata": {},
   "outputs": [],
   "source": [
    "from dcrhino3.signal_processing.filters import FIRLSFilter\n",
    "\n",
    "my_filter = FIRLSFilter([15, 30, 100, 150], 0.1)\n",
    "my_filter.make(5000.0)\n",
    "bb = my_filter.taps\n",
    "aa = np.asarray([1.0,])"
   ]
  },
  {
   "cell_type": "code",
   "execution_count": null,
   "metadata": {},
   "outputs": [],
   "source": [
    "w, h = signal.freqs(bb, aa)\n",
    "plt.semilogx(w/(2*np.pi), 20 * np.log10(abs(h)))\n",
    "plt.title('Butterworth filter frequency response')\n",
    "plt.xlabel('Frequency [Hz]')\n",
    "plt.ylabel('Amplitude [dB]')\n",
    "plt.grid(which='both', axis='both')\n",
    "plt.axvline(100, color='green') # cutoff frequency\n",
    "plt.show()"
   ]
  },
  {
   "cell_type": "code",
   "execution_count": null,
   "metadata": {},
   "outputs": [],
   "source": [
    "samples_from_center = 25"
   ]
  },
  {
   "cell_type": "code",
   "execution_count": null,
   "metadata": {},
   "outputs": [],
   "source": [
    "fig, (ax1, ax2) = plt.subplots(2, 1, sharey=True, squeeze=True)\n",
    "# b_filt, a_filt = signal.butter(5, np.array([30/5000, 100/5000]), btype='bandpass')\n",
    "\n",
    "for r in range(1300, 2500+500, 500):\n",
    "    amp, phase = amplitude_and_phase(pipe, Rock(1700, r), f)\n",
    "    ampm, phase = amp, phase\n",
    "    array = inverse_transform(amp, phase)\n",
    "#     array = array[8000:10250]\n",
    "#     array = signal.resample(array, 1000)\n",
    "#     array = signal.resample(array, 10000)\n",
    "#     array = signal.filtfilt(bb, aa, array)\n",
    "    array = array[(int(N/2))-samples_from_center:(int(N/2))+samples_from_center]\n",
    "    \n",
    "#     peaks = signal.find_peaks(array, distance=10)[0]\n",
    "#     left, right = peaks[array[peaks].argsort()[-2:]]\n",
    "#     peaks = signal.find_peaks(0-array, distance=10)[0]\n",
    "#     center = peaks[np.argmin(array[peaks])]\n",
    "    \n",
    "    ax1.plot(array, label='alpha = 1700; rho = {}'.format(r), lw=1)\n",
    "#     ax1.scatter(np.r_[right, left, center], array[np.r_[right, left, center]])\n",
    "    \n",
    "for a in range(1000, 3500+500, 500):\n",
    "    amp, phase = amplitude_and_phase(pipe, Rock(a, 1500), f)\n",
    "    amp, phase = amp, phase\n",
    "    array = inverse_transform(amp, phase)\n",
    "#     array = array[8000:10250]\n",
    "#     array = signal.resample(array, 1000)\n",
    "#     array = signal.resample(array, 10000)\n",
    "#     array = signal.filtfilt(bb, aa, array)\n",
    "    array = array[(int(N/2))-samples_from_center:(int(N/2))+samples_from_center]\n",
    "    \n",
    "#     peaks = signal.find_peaks(array, distance=10)[0]\n",
    "#     left, right = peaks[array[peaks].argsort()[-2:]]\n",
    "#     peaks = signal.find_peaks(0-array, distance=10)[0]\n",
    "#     center = peaks[np.argmin(array[peaks])]\n",
    "    \n",
    "    ax2.plot(array, label='alpha = {}; rho = 1500'.format(a), lw=1)\n",
    "#     ax2.scatter(np.r_[right, left, center], array[np.r_[right, left, center]])\n",
    "    \n",
    "for ax in [ax1, ax2]:\n",
    "    ax.legend()\n",
    "    ax.grid()\n",
    "    \n",
    "fig.subplots_adjust(wspace=0)\n",
    "fig.set_size_inches(25,10)"
   ]
  },
  {
   "cell_type": "code",
   "execution_count": null,
   "metadata": {},
   "outputs": [],
   "source": [
    "array.shape"
   ]
  },
  {
   "cell_type": "code",
   "execution_count": null,
   "metadata": {},
   "outputs": [],
   "source": [
    "np.pad(array, 200, mode='constant', constant_values=0).shape"
   ]
  },
  {
   "cell_type": "code",
   "execution_count": null,
   "metadata": {},
   "outputs": [],
   "source": [
    "1 / f.max()"
   ]
  },
  {
   "cell_type": "code",
   "execution_count": null,
   "metadata": {},
   "outputs": [],
   "source": [
    "np.pad([1,1,1], [6, 0], mode='constant', constant_values=0)"
   ]
  },
  {
   "cell_type": "code",
   "execution_count": null,
   "metadata": {},
   "outputs": [],
   "source": [
    "fig, (ax1, ax2) = plt.subplots(2, 1, sharey=True, squeeze=True)\n",
    "b_filt, a_filt = signal.butter(3, np.array([30/5000, 100/5000]), btype='bandpass')\n",
    "\n",
    "for r in range(1300, 2500+500, 500):\n",
    "    \n",
    "    amp, phase = amplitude_and_phase(pipe, Rock(1000, r), f)\n",
    "    ampm, phase = amp, phase\n",
    "    array = inverse_transform(amp, phase, n=20000)\n",
    "    array = array[9950:10050]\n",
    "    array = np.pad(array, 200, mode='constant', constant_values=0)\n",
    "#     array = array[8000:10250]\n",
    "#     array = signal.resample(array, 1000)\n",
    "#     array = signal.resample(array, 10000)\n",
    "    array = signal.filtfilt(b_filt, a_filt, array)\n",
    "    \n",
    "    ac_array = signal.convolve(array, array, mode='same', method='direct')\n",
    "\n",
    "    ac_array = signal.filtfilt(b_filt, a_filt, ac_array)\n",
    "    ac_array = np.pad(ac_array, [69, 0], mode='constant', constant_values=0)[:500]\n",
    "    ac_array = (ac_array * (max(array) / max(ac_array)))\n",
    "#     peaks = signal.find_peaks(array, distance=10)[0]\n",
    "#     left, right = peaks[array[peaks].argsort()[-2:]]\n",
    "#     peaks = signal.find_peaks(0-array, distance=10)[0]\n",
    "#     center = peaks[np.argmin(array[peaks])]\n",
    "    jazzbass = array + ac_array\n",
    "    jazzbass = (jazzbass * -1) / 0.0049954532781795284\n",
    "    ax1.plot((jazzbass), label='alpha = 1000; rho = {}'.format(r), lw=1)\n",
    "#     ax1.scatter(np.r_[right, left, center], array[np.r_[right, left, center]])\n",
    "    \n",
    "for a in range(1000, 3500+500, 500):\n",
    "    amp, phase = amplitude_and_phase(pipe, Rock(a, 1300), f)\n",
    "    amp, phase = amp, phase\n",
    "    array = inverse_transform(amp, phase, n=20000)\n",
    "    array = array[9950:10050]\n",
    "    array = np.pad(array, 200, mode='constant', constant_values=0)\n",
    "#     array = array[8000:10250]\n",
    "#     array = signal.resample(array, 1000)\n",
    "#     array = signal.resample(array, 10000)\n",
    "    array = signal.filtfilt(b_filt, a_filt, array)\n",
    "    \n",
    "    ac_array = signal.convolve(array, array, mode='same', method='direct')\n",
    "\n",
    "    ac_array = signal.filtfilt(b_filt, a_filt, ac_array)\n",
    "    ac_array = np.pad(ac_array, [69, 0], mode='constant', constant_values=0)[:500]\n",
    "    ac_array = (ac_array * (max(array) / max(ac_array))) \n",
    "#     peaks = signal.find_peaks(array, distance=10)[0]\n",
    "#     left, right = peaks[array[peaks].argsort()[-2:]]\n",
    "#     peaks = signal.find_peaks(0-array, distance=10)[0]\n",
    "#     center = peaks[np.argmin(array[peaks])]\n",
    "    jazzbass = array + ac_array\n",
    "    jazzbass = (jazzbass * -1) / 0.0049954532781795284\n",
    "    ax2.plot((jazzbass), label='alpha = {}; rho = 1300'.format(a), lw=1)\n",
    "#     ax2.scatter(np.r_[right, left, center], array[np.r_[right, left, center]])\n",
    "    \n",
    "for ax in [ax1, ax2]:\n",
    "    ax.legend()\n",
    "    ax.grid()\n",
    "    \n",
    "fig.subplots_adjust(wspace=0)\n",
    "fig.set_size_inches(25,10)"
   ]
  },
  {
   "cell_type": "code",
   "execution_count": null,
   "metadata": {},
   "outputs": [],
   "source": [
    "alpha=np.arange(1000, 3500 + 25, 25)\n",
    "rho=np.arange(1300, 2500 + 25, 25)"
   ]
  },
  {
   "cell_type": "code",
   "execution_count": null,
   "metadata": {},
   "outputs": [],
   "source": [
    "pipe.rho"
   ]
  },
  {
   "cell_type": "code",
   "execution_count": null,
   "metadata": {},
   "outputs": [],
   "source": [
    "plt.plot(data[9950:10050])"
   ]
  },
  {
   "cell_type": "code",
   "execution_count": null,
   "metadata": {},
   "outputs": [],
   "source": [
    "plt.plot(data[9950:10050])"
   ]
  },
  {
   "cell_type": "code",
   "execution_count": null,
   "metadata": {},
   "outputs": [],
   "source": [
    "import itertools\n",
    "\n",
    "outputs = dict()\n",
    "order = 1\n",
    "\n",
    "b_filt, a_filt = signal.butter(3, np.array([30/5000, 100/5000]), btype='bandpass')\n",
    "\n",
    "for _i, (r, a) in enumerate(itertools.product(rho, alpha)):\n",
    "    if _i % 1000 == 0:\n",
    "        print('rho {:.3f}, alpha {:.3f}'.format(r, a))\n",
    "    \n",
    "    amp, phase = amplitude_and_phase(pipe, Rock(a, r), f)\n",
    "    amp, phase = amp**order, phase*order\n",
    "    data = inverse_transform(amp, phase, n=20000)\n",
    "    \n",
    "    array = data[9950:10050]\n",
    "    array = np.pad(array, 200, mode='constant', constant_values=0)\n",
    "    array = signal.filtfilt(b_filt, a_filt, array)\n",
    "    \n",
    "    ac_array = signal.convolve(array, array, mode='same', method='direct')\n",
    "\n",
    "    ac_array = signal.filtfilt(b_filt, a_filt, ac_array)\n",
    "    \n",
    "    ac_array = np.pad(ac_array, [69, 0], mode='constant', constant_values=0)[:500]\n",
    "    ac_array = (ac_array * (max(array) / max(ac_array))) \n",
    "    \n",
    "    jazzbass = array + ac_array\n",
    "    jazzbass = (jazzbass * -1) / 0.0049954532781795284\n",
    "    \n",
    "    peaks = signal.find_peaks(jazzbass, distance=10)[0]\n",
    "    right, left, center = peaks[jazzbass[peaks].argsort()[-3:]]\n",
    "   \n",
    "    outputs.setdefault('pipe_outer_radius', list()).append(pipe.Ro)\n",
    "    outputs.setdefault('pipe_inner_radius', list()).append(pipe.Ri)\n",
    "    outputs.setdefault('pipe_effective_bit_radius', list()).append(pipe.Rb)\n",
    "    outputs.setdefault('pipe_rho', list()).append(pipe.rho)\n",
    "    outputs.setdefault('pipe_alpha', list()).append(pipe.alpha)\n",
    "    \n",
    "    outputs.setdefault('rock_rho', list()).append(r)\n",
    "    outputs.setdefault('rock_alpha', list()).append(a)\n",
    "\n",
    "    outputs.setdefault('amplitude_and_phase_order', list()).append(order)\n",
    "\n",
    "#     outputs.setdefault('rock_amplitude_left', list()).append(abs(jazzbass[left]))\n",
    "#     outputs.setdefault('rock_amplitude_right', list()).append(abs(jazzbass[right]))\n",
    "#     outputs.setdefault('rock_amplitude_center', list()).append(abs(jazzbass[center]))\n",
    "#     outputs.setdefault('rock_jazz_bass', list()).append(abs(jazzbass[right]) - abs(jazzbass[center]) - abs(jazzbass[left]))\n",
    "    outputs.setdefault('rock_modulus', list()).append((r)*(a**2))\n",
    "    \n",
    "    outputs.setdefault('modeled_wavelet', list()).append(jazzbass.tolist())\n",
    "    \n",
    "outputs['rock_modulus'] = np.array(outputs['rock_modulus'])*1.2e-9"
   ]
  },
  {
   "cell_type": "code",
   "execution_count": null,
   "metadata": {},
   "outputs": [],
   "source": [
    "frequency_resolution"
   ]
  },
  {
   "cell_type": "code",
   "execution_count": null,
   "metadata": {},
   "outputs": [],
   "source": [
    "delta_t = 0.0001"
   ]
  },
  {
   "cell_type": "code",
   "execution_count": null,
   "metadata": {},
   "outputs": [],
   "source": [
    "data[9950:10050]"
   ]
  },
  {
   "cell_type": "code",
   "execution_count": null,
   "metadata": {},
   "outputs": [],
   "source": [
    "import pandas as pd"
   ]
  },
  {
   "cell_type": "code",
   "execution_count": null,
   "metadata": {},
   "outputs": [],
   "source": [
    "import seaborn as sns"
   ]
  },
  {
   "cell_type": "code",
   "execution_count": null,
   "metadata": {},
   "outputs": [],
   "source": [
    "dataframe = pd.DataFrame(outputs)"
   ]
  },
  {
   "cell_type": "code",
   "execution_count": null,
   "metadata": {},
   "outputs": [],
   "source": [
    "sns.scatterplot('rock_modulus', 'rock_jazz_bass', data=data)"
   ]
  },
  {
   "cell_type": "code",
   "execution_count": null,
   "metadata": {},
   "outputs": [],
   "source": [
    "import os"
   ]
  },
  {
   "cell_type": "code",
   "execution_count": null,
   "metadata": {},
   "outputs": [],
   "source": [
    "os.makedirs('/data/datacloud/theoretical_rhino/', exist_ok=True)\n",
    "data.to_csv('/data/datacloud/theoretical_rhino/modeled_wavelets.csv', index=False)"
   ]
  },
  {
   "cell_type": "code",
   "execution_count": null,
   "metadata": {},
   "outputs": [],
   "source": [
    "peaks = signal.find_peaks(jazzbass, distance=10)[0]\n",
    "right, left, center = peaks[jazzbass[peaks].argsort()[-3:]]\n",
    "\n",
    "plt.plot(jazzbass)\n",
    "plt.scatter(center, jazzbass[center])\n",
    "plt.scatter(left, jazzbass[left])\n",
    "plt.scatter(right, jazzbass[right])\n",
    "plt.grid()\n",
    "plt.gcf().set_size_inches(25, 6)"
   ]
  },
  {
   "cell_type": "code",
   "execution_count": null,
   "metadata": {},
   "outputs": [],
   "source": [
    "import pandas as pd"
   ]
  },
  {
   "cell_type": "code",
   "execution_count": null,
   "metadata": {},
   "outputs": [],
   "source": [
    "pd.Series(phases).describe()"
   ]
  },
  {
   "cell_type": "code",
   "execution_count": null,
   "metadata": {},
   "outputs": [],
   "source": [
    "x = np.linspace(np.array(phases).min(), np.array(phases).max(), 100)\n",
    "\n",
    "poly = np.poly1d(np.polyfit(phases, modulus, 4))\n",
    "\n",
    "poly"
   ]
  },
  {
   "cell_type": "code",
   "execution_count": null,
   "metadata": {},
   "outputs": [],
   "source": [
    "np.poly1d([  0.5849666 ,   6.62621535,  27.40729208,  52.01668517,  46.29158229])"
   ]
  },
  {
   "cell_type": "code",
   "execution_count": null,
   "metadata": {},
   "outputs": [],
   "source": [
    "import seaborn as sns"
   ]
  },
  {
   "cell_type": "code",
   "execution_count": null,
   "metadata": {},
   "outputs": [],
   "source": [
    "sns.distplot(phases)"
   ]
  },
  {
   "cell_type": "code",
   "execution_count": null,
   "metadata": {},
   "outputs": [],
   "source": [
    "['{:.3f}'.format(c) for c in poly]"
   ]
  },
  {
   "cell_type": "code",
   "execution_count": null,
   "metadata": {},
   "outputs": [],
   "source": [
    "plt.style.use('seaborn-dark')"
   ]
  },
  {
   "cell_type": "code",
   "execution_count": null,
   "metadata": {},
   "outputs": [],
   "source": [
    "fig, axes = plt.subplots(1, 3, figsize=(25,5))\n",
    "\n",
    "for ax, curve, y_label in zip(axes.ravel(), [modulus, rhos, alphas], ['Modulus (GPa)', 'Density (g/cm³)', 'Velocity (m/s)']):\n",
    "    x = np.linspace(np.array(phases).min(), np.array(phases).max(), 100)\n",
    "    poly = np.poly1d(np.polyfit(phases, curve, 4))\n",
    "    ax.scatter(phases, curve, s=.5)\n",
    "    ax.plot(x, poly(x), c='r')\n",
    "    ax.set_ylabel(y_label)\n",
    "    ax.set_xlabel('JazzBass')\n",
    "\n",
    "    ax.grid()"
   ]
  },
  {
   "cell_type": "code",
   "execution_count": null,
   "metadata": {},
   "outputs": [],
   "source": [
    "import inflect\n",
    "p = inflect.engine()\n",
    "\n",
    "from obspy import read, Trace, Stream, UTCDateTime\n",
    "from obspy.core import AttribDict\n",
    "from obspy.io.segy.segy import SEGYTraceHeader, SEGYBinaryFileHeader\n",
    "from obspy.io.segy.core import _read_segy\n",
    "import numpy as np\n",
    "import sys\n",
    "import itertools\n",
    "\n",
    "order = 1\n",
    "resampled = True\n",
    "\n",
    "for order, resampled  in zip([1, 1, 2, 2, 3, 3, 4, 4], [True, False] * 4):\n",
    "    stream = Stream()\n",
    "    \n",
    "    resampled_string = 'RESAMPLED' if resampled else 'RAW'\n",
    "\n",
    "    for _i, (r, a) in enumerate(itertools.product(rho, alpha)):\n",
    "        if _i % 1000 == 0:\n",
    "            print('rho {:.3f}, alpha {:.3f}'.format(r, a))\n",
    "        amp, phase = amplitude_and_phase(pipe, Rock(a, r), f)\n",
    "        amp, phase = amp**order, phase*order\n",
    "        data = inverse_transform(amp, phase, n=20000)\n",
    "        data = data[9950:10050]\n",
    "        if resampled:\n",
    "            data = signal.resample(data, 1000)\n",
    "        # Create some random data.\n",
    "        data = np.require(data, dtype=np.float32)\n",
    "        trace = Trace(data=data)\n",
    "\n",
    "        # Attributes in trace.stats will overwrite everything in\n",
    "        # trace.stats.segy.trace_header\n",
    "        trace.stats.sampling_rate = 300\n",
    "    #     trace.stats.delta = 3\n",
    "\n",
    "        # SEGY does not support microsecond precision! Any microseconds will\n",
    "        # be discarded.\n",
    "        trace.stats.starttime = UTCDateTime(2019, 4,30,0,0,0)\n",
    "\n",
    "        # If you want to set some additional attributes in the trace header,\n",
    "        # add one and only set the attributes you want to be set. Otherwise the\n",
    "        # header will be created for you with default values.\n",
    "        if not hasattr(trace.stats, 'segy.trace_header'):\n",
    "            trace.stats.segy = {}\n",
    "        trace.stats.segy.trace_header = SEGYTraceHeader(unpack_headers=False)\n",
    "        trace.stats.segy.trace_header.trace_sequence_number_within_line = _i + 1\n",
    "        trace.stats.segy.trace_header.rho = int(r)\n",
    "        trace.stats.segy.trace_header.alpha = int(a)\n",
    "\n",
    "        # Add trace to stream\n",
    "        stream.append(trace)\n",
    "\n",
    "    # A SEGY file has file wide headers. This can be attached to the stream\n",
    "    # object.  If these are not set, they will be autocreated with default\n",
    "    # values.\n",
    "    stream.stats = AttribDict()\n",
    "    stream.stats.textual_file_header = 'Textual Header!'\n",
    "    stream.stats.binary_file_header = SEGYBinaryFileHeader()\n",
    "    stream.stats.binary_file_header.trace_sorting_code = 5\n",
    "\n",
    "    print(\"Stream object before writing...\")\n",
    "    print(stream)\n",
    "\n",
    "    stream.write(\"rhino_theoretical_wavelets_{}order_{}.sgy\".format(p.ordinal(order), resampled_string), format=\"SEGY\", data_encoding=1,\n",
    "                 byteorder=sys.byteorder)\n",
    "    print(\"Stream object after writing. Will have some segy attributes...\")\n",
    "    print(stream)\n",
    "\n",
    "# print(\"Reading using obspy.io.segy...\")\n",
    "# st1 = _read_segy(\"rhino_theoretical_wavelets.sgy\", unpack_trace_headers=False)\n",
    "# print(st1)"
   ]
  },
  {
   "cell_type": "code",
   "execution_count": null,
   "metadata": {},
   "outputs": [],
   "source": []
  }
 ],
 "metadata": {
  "kernelspec": {
   "display_name": "Python 2",
   "language": "python",
   "name": "python2"
  },
  "language_info": {
   "codemirror_mode": {
    "name": "ipython",
    "version": 2
   },
   "file_extension": ".py",
   "mimetype": "text/x-python",
   "name": "python",
   "nbconvert_exporter": "python",
   "pygments_lexer": "ipython2",
   "version": "2.7.15"
  }
 },
 "nbformat": 4,
 "nbformat_minor": 2
}
