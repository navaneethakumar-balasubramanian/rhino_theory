{
 "cells": [
  {
   "cell_type": "code",
   "execution_count": 1,
   "metadata": {},
   "outputs": [],
   "source": [
    "import numpy as np\n",
    "import pandas as pd\n",
    "import seaborn as sns\n",
    "import os\n",
    "from matplotlib import pyplot as plt\n",
    "import matplotlib\n",
    "from matplotlib.cm import get_cmap\n",
    "\n",
    "cmap = get_cmap('bwr')\n",
    "\n",
    "plt.style.use('seaborn-dark')\n",
    "\n",
    "plt.rcParams['axes.grid'] = True\n",
    "plt.rcParams['figure.figsize'] = (15, 5)\n",
    "\n",
    "from scipy import signal\n",
    "from itertools import product\n",
    "\n",
    "import warnings\n",
    "warnings.filterwarnings(\"ignore\")\n",
    "\n",
    "from tqdm import tqdm\n",
    "import matplotlib.ticker as ticker\n",
    "\n"
   ]
  },
  {
   "cell_type": "code",
   "execution_count": 2,
   "metadata": {},
   "outputs": [],
   "source": [
    "from theory.core import TheoreticalWavelet, Pipe, Rock"
   ]
  },
  {
   "cell_type": "markdown",
   "metadata": {},
   "source": [
    "## Set local relative directory name"
   ]
  },
  {
   "cell_type": "code",
   "execution_count": null,
   "metadata": {},
   "outputs": [],
   "source": [
    "os.chdir('/data/Orica_project/measurements/LOGPROC/swc/modeling-multipass/20-100Hz/Multiple_convolved_rock-bit')"
   ]
  },
  {
   "cell_type": "markdown",
   "metadata": {},
   "source": [
    "# This is a function where our feature extraction is happening"
   ]
  },
  {
   "cell_type": "code",
   "execution_count": null,
   "metadata": {},
   "outputs": [],
   "source": [
    "def feature_extractor(wavelet, time, \n",
    "                      left_window=None, \n",
    "                      center_window=None, \n",
    "                      right_window=None,\n",
    "                      left_pick='min',\n",
    "                      center_pick='max',\n",
    "                      right_pick='min',\n",
    "                      upsample_to=100000):\n",
    "    time = np.linspace(time.min(), time.max(), upsample_to)\n",
    "    wavelet = signal.resample(wavelet, upsample_to)\n",
    "\n",
    "    extracted_features = {}\n",
    "    for pick, window, window_name in  zip([center_pick, left_pick, right_pick], [center_window, left_window, right_window], ['center', 'left', 'right']):\n",
    "        if window:\n",
    "            constrained_indices = np.where((time > window[0]) & (time < window[1]))\n",
    "\n",
    "            constrained_wavelet = np.zeros_like(wavelet)\n",
    "            constrained_wavelet[constrained_indices] = wavelet[constrained_indices]\n",
    "            if pick == 'max':\n",
    "                feature_index = np.argmax(constrained_wavelet)\n",
    "            elif pick == 'min':\n",
    "                feature_index = np.argmin(constrained_wavelet)\n",
    "            else:\n",
    "                raise ValueError('picks must be \"min\" or \"max\"')\n",
    "\n",
    "            delay = time[feature_index]\n",
    "            amplitude = wavelet[feature_index]\n",
    "            extracted_features[window_name] = {\n",
    "                'delay': delay,\n",
    "                'amplitude': amplitude,\n",
    "                'feature_index': feature_index,\n",
    "            }\n",
    "    try:\n",
    "        extracted_features['center_to_left_ratio'] = extracted_features['center']['amplitude'] / extracted_features['left']['amplitude']\n",
    "        extracted_features['right_to_left_ratio'] = extracted_features['right']['amplitude'] / extracted_features['left']['amplitude']\n",
    "    except:\n",
    "        pass\n",
    "    return extracted_features"
   ]
  },
  {
   "cell_type": "markdown",
   "metadata": {},
   "source": [
    "# PLAYGROUND BEFORE MODELING "
   ]
  },
  {
   "cell_type": "markdown",
   "metadata": {},
   "source": [
    "This is where we can visualize the wavelets with the pick on top of it given a range of values.\n",
    "Its useful to visualize what times to expect and plan the windows boundaries."
   ]
  },
  {
   "cell_type": "markdown",
   "metadata": {},
   "source": [
    "# CRITICAL --   These are the user selected values carried through the Notebook."
   ]
  },
  {
   "cell_type": "code",
   "execution_count": null,
   "metadata": {},
   "outputs": [],
   "source": [
    "COMPONENT = 'axial'\n",
    "ALPHA_OR_BETA_RANGE = np.arange(500, 2250 + 50, 50)\n",
    "#ALPHA_OR_BETA_RANGE = np.arange(1000, 4000 + 50, 40)\n",
    "\n",
    "#COMPONENT = 'tangential'\n",
    "#ALPHA_OR_BETA_RANGE = np.arange(300, 2000 + 50, 25)\n",
    "\n",
    "WINDOW = 510 # window in time domain by number of samples\n",
    "\n",
    "# RHO_RANGE = np.arange(1500, 3000 + 500, 500)\n",
    "RHO_RANGE = np.asarray([2000])\n",
    "\n",
    "# BIT RADIUS\n",
    "Rb = 0.14 # radius of the bit contacting rock\n",
    "\n",
    "BANDPASS_FILTER = [10 , 20, 100, 120]\n",
    "#BANDPASS_FILTER = [30 , 45, 160, 200]\n",
    "\n",
    "#  Set the value for number of pipes in multipass.   You need a copy of the Notebook for each value of NUM_PIPES.\n",
    "#NUM_PIPES = 1\n",
    "NUM_PIPES = 6\n",
    "\n",
    "RC_AXIAL_BITSUB = 0.293 # reflection coefficient\n",
    "DELAY_AXIAL_BITSUB = 0.421 # in ms\n",
    "RC_AXIAL_Connector = 0.086 # reflection coefficient  (equals RC bitsub squared)\n",
    "DELAY_AXIAL_Connector = 0.250 # in ms\n",
    "\n",
    "RC_AXIAL_TOPSUB = -0.55\n",
    "DELAY_AXIAL_PIPE = 5.627 # in ms\n",
    "\n",
    "RC_AXIAL_M1A = -0.293 # reflection coefficient\n",
    "RC_AXIAL_M1B = 0.707 # includes transmission coefficient through pipe-bitsub ; using RC parameter to account for TC scalar effect\n",
    "RC_AXIAL_M1C = 0.207 # includes RC=0.293 of bitsub-pipe interface mutplied by TC=0.707 for wavelet coming down through pipe-bitsub\n",
    "DELAY_AXIAL_M1A = 6.095 # in ms     two-way in pipe and topsub or bullsub, etc\n",
    "DELAY_AXIAL_M1B = 6.516 # in ms     two-way in pipe and topsub plus two-way in bitsub\n",
    "DELAY_AXIAL_M1C = 6.937 # in ms     two-way in pipe and topsub plus twice two-way in bitsub\n",
    "\n",
    "\n",
    "RC_TANGENTIAL_BITSUB = -0.120  # reflection coefficient\n",
    "DELAY_TANGENTIAL_BITSUB = 0.867 # in ms\n",
    "RC_TANGENTIAL_Connector = 0.0144  # reflection coefficient\n",
    "DELAY_TANGENTIAL_Connector = 0.515 # in ms\n",
    "\n",
    "RC_TANGENTIAL_TOPSUB = 0.55\n",
    "DELAY_TANGENTIAL_PIPE = 11.584  # in ms\n",
    "\n",
    "RC_TANGENTIAL_M1A = 0.120 # reflection coefficient\n",
    "RC_TANGENTIAL_M1B = 0.880 # includes transmission coefficient through pipe-bitsub ; using RC parameter to account for TC scalar effect\n",
    "RC_TANGENTIAL_M1C = 0.106 # product of RC=0.120 of bitsub-pipe interface multiplied by TC=0.880 for wavelet coming down through pipe-bitsub\n",
    "DELAY_TANGENTIAL_M1A = 12.548 # in ms    two-way in pipe + top-sub\n",
    "DELAY_TANGENTIAL_M1B = 13.415 # in ms    two-way in pipe plus two-way in bitsub\n",
    "DELAY_TANGENTIAL_M1C = 14.282 # in ms    two-way in pipe plus twice two-way in bitsub\n",
    "\n",
    "\n",
    "\n",
    "AXIAL_FEATURE_EXTRACTOR = dict(\n",
    "    left_window=  (-.010, -.003), \n",
    "    center_window=(-.003, 0.006), \n",
    "    right_window= (0.006, 0.018),\n",
    "    center_pick='max',\n",
    "    left_pick='min',\n",
    "    right_pick='min',\n",
    ")\n",
    "\n",
    "TANGENTIAL_FEATURE_EXTRACTOR = dict(\n",
    "    left_window=  (-.01, -.001), \n",
    "    center_window=(-.004, 0.004), \n",
    "    right_window= (0.002, 0.015),\n",
    "    center_pick='max',\n",
    "    left_pick='min',\n",
    "    right_pick='min',\n",
    ")\n",
    "\n",
    "PIPE_ALPHA = 5100 # velocity of the pipe\n",
    "PIPE_BETA = 2668\n",
    "PIPE_RHO = 7300 # density of the pipe\n",
    "\n",
    "CONTACT_FACTOR_AXIAL=1\n",
    "CONTACT_FACTOR_TANGENTIAL=1"
   ]
  },
  {
   "cell_type": "code",
   "execution_count": null,
   "metadata": {},
   "outputs": [],
   "source": [
    "mod_range = (np.product(list(product((ALPHA_OR_BETA_RANGE/1000)**2, (RHO_RANGE/1000))), axis=1))\n",
    "min_mod, max_mod = mod_range.min(), mod_range.max()\n",
    "\n",
    "if COMPONENT == 'axial':\n",
    "    pipe = Pipe(Rb=Rb, alpha=PIPE_ALPHA, rho=PIPE_RHO, beta=PIPE_BETA, contact_factor=CONTACT_FACTOR_AXIAL)\n",
    "else:\n",
    "    pipe = Pipe(Rb=Rb, alpha=PIPE_ALPHA, rho=PIPE_RHO, beta=PIPE_BETA, contact_factor=CONTACT_FACTOR_TANGENTIAL)\n",
    "    \n",
    "ax = plt.axes()\n",
    "for a, r in tqdm(product(ALPHA_OR_BETA_RANGE, RHO_RANGE), total=len(list(product(ALPHA_OR_BETA_RANGE, RHO_RANGE)))):\n",
    "    mod = ((r/1000)*((a/1000)**2))\n",
    "    rock = Rock(alpha=a, beta=a, rho=r)\n",
    "\n",
    "    theoretical = TheoreticalWavelet(pipe, rock, component=COMPONENT, nyquist=5000, filterby=BANDPASS_FILTER)\n",
    "    time = theoretical.get_time_range_for_window(WINDOW)/1000\n",
    "##\n",
    "    raw_primary = theoretical.primary_in_time_domain()\n",
    "    raw_reflected = theoretical.reflected_in_time_domain()\n",
    "##    \n",
    "    if COMPONENT == 'axial':\n",
    "        pegleg = (theoretical.pegleg_rocksteel(delay_in_ms=DELAY_AXIAL_BITSUB, RC=RC_AXIAL_BITSUB, window=None)) \n",
    "        p0     = raw_primary + pegleg\n",
    "\n",
    "#    \n",
    "#  This creates first component of Multiple1 ( p0 Primary goes from Rhino down to pipe-bitsub, reflects back to Rhino)\n",
    "#  this function scales p0 by RC and shifts by DELAY\n",
    "        m1a = theoretical.apply_time_shift(p0 * RC_AXIAL_M1A, delay_in_ms=DELAY_AXIAL_M1A)          \n",
    "#            \n",
    "#  This creates second component of Multiple1 ( p0 Primary goes from Rhino down to bit-rock, reflects back to Rhino)\n",
    "        m1b_wavelet = signal.convolve(p0, raw_reflected, mode=\"same\")\n",
    "        m1b_full = theoretical.apply_time_shift(m1b_wavelet * RC_AXIAL_M1B, delay_in_ms=DELAY_AXIAL_M1B)          \n",
    "#\n",
    "#  This creates third component of Multiple1\n",
    "#    function simply applies Theoretical rock/bit convolution, then time shifts for delay including two-way bit-sub transit\n",
    "#    and RC=0.261 for coefficient off bottom of bit-sub/pipe\n",
    "        m1c_wavelet = signal.convolve(m1b_wavelet, raw_reflected, mode=\"same\")\n",
    "        m1c_full = theoretical.apply_time_shift(m1c_wavelet * RC_AXIAL_M1C, delay_in_ms=DELAY_AXIAL_M1C)          \n",
    "#\n",
    "#  You can select the wavelet to plot below.  Does not affect anything else. \n",
    "#  Must activate only ONE, and must be from this set IF AXIAL\n",
    "\n",
    "#        wave = raw_primary\n",
    "#        wave = raw_reflected * -1.0\n",
    "#        wave = pegleg\n",
    "#        wave = p0\n",
    "#        wave = m1b_wavelet\n",
    "#        wave = m1c_wavelet\n",
    "#        wave = m1a * RC_AXIAL_TOPSUB\n",
    "#        wave = m1b_full * RC_AXIAL_TOPSUB\n",
    "#        wave = m1c_full * RC_AXIAL_TOPSUB\n",
    "#        wave = (m1a + m1b_full + m1c_full) * RC_AXIAL_TOPSUB\n",
    "        wave = (p0 + (m1a + m1b_full + m1c_full) * RC_AXIAL_TOPSUB)\n",
    "        \n",
    "    else:\n",
    "#\n",
    "# TANGENTIAL -- Applying derivative to tangential primary per Jamie (Slack direct message Nov 4, 9:00 am)\n",
    "#\n",
    "        raw_primary = theoretical.apply_derivative(raw_primary)\n",
    "        pegleg = (theoretical.pegleg_rocksteel(delay_in_ms=DELAY_TANGENTIAL_BITSUB, RC=RC_TANGENTIAL_BITSUB, window=None)) \n",
    "        pegleg = theoretical.apply_derivative(pegleg)        \n",
    "        p0 = pegleg + raw_primary\n",
    "#  \n",
    "#  This creates first component of Multiple1 (p0 contiues up to CushionSub, reflects down to pipe-bitsub, reflects back up to Rhino)\n",
    "#  this function scales W by RC and shifts by DELAY\n",
    "        m1a = theoretical.apply_time_shift(p0 * RC_TANGENTIAL_M1A, delay_in_ms=DELAY_TANGENTIAL_M1A)          \n",
    "#        \n",
    "#  This creates second component of Multiple1 ( p0 Primary goes from Rhino down to bit-rock, reflects back to Rhino)\n",
    "        m1b_wavelet = signal.convolve(p0, raw_reflected, mode=\"same\")\n",
    "        m1b_full = theoretical.apply_time_shift(m1b_wavelet * RC_TANGENTIAL_M1B, delay_in_ms=DELAY_TANGENTIAL_M1B)          \n",
    "#\n",
    "#  This creates third component of Multiple1\n",
    "#    function simply applies Theoretical rock/bit convolution, then time shifts for delay including two-way bit-sub transit\n",
    "#    and RC=0.nnn for coefficient off bottom of bit-sub/pipe\n",
    "        m1c_wavelet = signal.convolve(m1b_wavelet, raw_reflected, mode=\"same\")\n",
    "        m1c_full = theoretical.apply_time_shift(m1c_wavelet * RC_TANGENTIAL_M1C, delay_in_ms=DELAY_TANGENTIAL_M1C)          \n",
    "#\n",
    "#\n",
    "#  You can select the wavelet to plot below.  Does not affect anything else. \n",
    "#  Must activate only ONE, and must be from this set IF TANGENTIAL\n",
    "\n",
    "#\n",
    "#        wave = raw_primary\n",
    "#        wave = raw_reflected\n",
    "#        wave = pegleg\n",
    "#        wave = p0\n",
    "#        wave = m1b_wavelet\n",
    "#        wave = m1c_wavelet\n",
    "#        wave = m1a * RC_TANGENTIAL_TOPSUB\n",
    "#        wave = m1b_full * RC_TANGENTIAL_TOPSUB\n",
    "#        wave = m1c_full * RC_TANGENTIAL_TOPSUB\n",
    "#        wave = (m1a + m1b_full + m1c_full) * RC_TANGENTIAL_TOPSUB\n",
    "#        wave = (p0 + (m1a + m1b_full + m1c_full) * RC_TANGENTIAL_TOPSUB)\n",
    "#\n",
    "\n",
    "    w = signal.filtfilt(theoretical.fir_taps, 1, wave)                                                                                                                                      \n",
    "    wavelet_full = theoretical.get_window_from_center(WINDOW, w)\n",
    "    \n",
    "    if COMPONENT == 'axial':\n",
    "        extracted_features = feature_extractor(wavelet_full, time, **AXIAL_FEATURE_EXTRACTOR)\n",
    "    else:\n",
    "        extracted_features = feature_extractor(wavelet_full, time, **TANGENTIAL_FEATURE_EXTRACTOR)\n",
    "    \n",
    "    ax.plot(time, wavelet_full, color=cmap((mod-min_mod)/max_mod), zorder=5, label='rho: {:.2f}, velocity: {:.2f}, modulus: {:.2f}'.format(r, a, mod))\n",
    "    ax.scatter(extracted_features['center']['delay'], extracted_features['center']['amplitude'], s=20, c='k', zorder=10)\n",
    "    ax.scatter(extracted_features['left']['delay'], extracted_features['left']['amplitude'], s=20, c='k', zorder=10, marker=\"<\")\n",
    "    ax.scatter(extracted_features['right']['delay'], extracted_features['right']['amplitude'], s=20, c='k', zorder=10, marker=\">\")\n",
    "\n",
    "ax.figure.dpi = 100\n",
    "ax.figure.set_size_inches(20,10)\n",
    "ax.legend(loc='left', frameon=True)\n",
    "\n",
    "if COMPONENT == 'axial':\n",
    "    ax.vlines(AXIAL_FEATURE_EXTRACTOR['center_window'], w.min(), w.max())\n",
    "    ax.vlines(AXIAL_FEATURE_EXTRACTOR['left_window'], w.min(), w.max())\n",
    "    ax.vlines(AXIAL_FEATURE_EXTRACTOR['right_window'], w.min(), w.max())\n",
    "    ax.set_title('component: {}  -  bandpass: {}'.format(COMPONENT, BANDPASS_FILTER, 3))\n",
    "else:\n",
    "    ax.vlines(TANGENTIAL_FEATURE_EXTRACTOR['center_window'], w.min(), w.max())\n",
    "    ax.vlines(TANGENTIAL_FEATURE_EXTRACTOR['left_window'], w.min(), w.max())\n",
    "    ax.vlines(TANGENTIAL_FEATURE_EXTRACTOR['right_window'], w.min(), w.max())\n",
    "    ax.set_title('component: {}  -  bandpass: {}'.format(COMPONENT, BANDPASS_FILTER, 3))\n",
    "    \n",
    "ax.xaxis.set_major_locator(ticker.MultipleLocator(0.002))\n",
    "ax.xaxis.set_major_formatter(ticker.ScalarFormatter())\n",
    "    \n",
    "t = ax.set_xlabel('Time (s)')"
   ]
  },
  {
   "cell_type": "markdown",
   "metadata": {},
   "source": [
    "# PARAMETERS FOR THE MODELING"
   ]
  },
  {
   "cell_type": "markdown",
   "metadata": {},
   "source": [
    "###  Note parameters \"RC_xxx_Connector\" and \"DELAY_xxx_Connector\" related to pipe-to-pipe connection that generates another pegleg multiple.\n",
    "###  This pegleg is introduced in model with this call in the Modeling cell (next after the cell below):\n"
   ]
  },
  {
   "cell_type": "code",
   "execution_count": null,
   "metadata": {},
   "outputs": [],
   "source": [
    "MINE = 'South Walker Creek'\n",
    "\n",
    "PIPE_ALPHA = 5100   # velocity of the pipe\n",
    "PIPE_BETA = 2668\n",
    "PIPE_RHO = 7300     # density of the pipe\n",
    "\n",
    "ROCK_ALPHA_RANGE = (500, 4000, 50)        # range of the c velocity modeling\n",
    "ROCK_BETA_RANGE = (300, 2000, 25)          # range of the s velocity modeling\n",
    "ROCK_RHO_RANGE = (1500, 3000 + 500, 500)   # range of the density modeling\n",
    "\n",
    "CONTACT_FACTOR_AXIAL = 1\n",
    "CONTACT_FACTOR_TANGENTIAL = 1"
   ]
  },
  {
   "cell_type": "markdown",
   "metadata": {},
   "source": [
    "# Modeling Axial Times  -  fundamental and bitsub pegleg only here"
   ]
  },
  {
   "cell_type": "code",
   "execution_count": null,
   "metadata": {},
   "outputs": [],
   "source": [
    "alpha_range = np.arange(*ROCK_ALPHA_RANGE)\n",
    "RHO_RANGE = np.arange(*ROCK_RHO_RANGE)\n",
    "\n",
    "#   Calculate multipass delays for number of pipes\n",
    "DELAY_AXIAL_M1A = DELAY_AXIAL_M1A + (NUM_PIPES - 1) * DELAY_AXIAL_PIPE\n",
    "DELAY_AXIAL_M1B = DELAY_AXIAL_M1B + (NUM_PIPES - 1) * DELAY_AXIAL_PIPE\n",
    "DELAY_AXIAL_M1C = DELAY_AXIAL_M1C + (NUM_PIPES - 1) * DELAY_AXIAL_PIPE\n",
    "#\n",
    "window = 310\n",
    "axial_delays = []\n",
    "axial_modulus = []\n",
    "axial_right_to_left_ratio = []\n",
    "axial_center_to_left_ratio = []\n",
    "\n",
    "pipe = Pipe(Rb=Rb, alpha=PIPE_ALPHA, rho=PIPE_RHO, beta=PIPE_BETA, contact_factor=CONTACT_FACTOR_AXIAL)\n",
    "    \n",
    "axial_wavelets = []\n",
    "for a, r in tqdm(product(alpha_range, RHO_RANGE), total=len(list(product(alpha_range, RHO_RANGE)))):\n",
    "    mod = ((r/1000)*((a/1000)**2))\n",
    "    rock = Rock(alpha=a, beta=a, rho=r)\n",
    "\n",
    "    theoretical = TheoreticalWavelet(pipe, rock, component=COMPONENT, nyquist=5000, filterby=BANDPASS_FILTER)\n",
    "    time = theoretical.get_time_range_for_window(WINDOW)/1000\n",
    "##\n",
    "    raw_primary = theoretical.primary_in_time_domain()\n",
    "    raw_reflected = theoretical.reflected_in_time_domain()    \n",
    "#\n",
    "    pegleg = (theoretical.pegleg_rocksteel(delay_in_ms=DELAY_AXIAL_BITSUB, RC=RC_AXIAL_BITSUB, window=None)) \n",
    "    p0     = raw_primary + pegleg\n",
    "#    \n",
    "# The call below generates a pegleg for pipe-to-pipe connection. NUM_PIPE is number of steels in drillstring. \n",
    "#\n",
    "    count = NUM_PIPES\n",
    "    while (count > 1):\n",
    "        p0 += theoretical.apply_time_shift(p0 * RC_AXIAL_Connector, delay_in_ms=DELAY_AXIAL_Connector)\n",
    "        count = count - 1\n",
    "#\n",
    "#  This creates first component of Multiple1 ( p0 Primary goes from Rhino down to pipe-bitsub, reflects back to Rhino)\n",
    "#  this function scales p0 by RC and shifts by DELAY\n",
    "    m1a = theoretical.apply_time_shift(p0 * RC_AXIAL_M1A, delay_in_ms=DELAY_AXIAL_M1A)          \n",
    "#            \n",
    "#  This creates second component of Multiple1 ( p0 Primary goes from Rhino down to bit-rock, reflects back to Rhino)\n",
    "    m1b_wavelet = signal.convolve(p0, raw_reflected, mode=\"same\")\n",
    "    m1b_full = theoretical.apply_time_shift(m1b_wavelet * RC_AXIAL_M1B, delay_in_ms=DELAY_AXIAL_M1B)          \n",
    "#\n",
    "#  This creates third component of Multiple1\n",
    "#    function simply applies Theoretical rock/bit convolution, then time shifts for delay including two-way bit-sub transit\n",
    "#    and RC=0.261 for coefficient off bottom of bit-sub/pipe\n",
    "    m1c_wavelet = signal.convolve(m1b_wavelet, raw_reflected, mode=\"same\")\n",
    "    m1c_full = theoretical.apply_time_shift(m1c_wavelet * RC_AXIAL_M1C, delay_in_ms=DELAY_AXIAL_M1C)          \n",
    "#\n",
    "\n",
    "#  You can select the wavelet to plot below.  Does not affect anything else.\n",
    "#    wave = raw_primary\n",
    "#    wave = raw_reflected\n",
    "#    wave = pegleg\n",
    "#    wave = p0\n",
    "#    wave = m1b_wavelet\n",
    "#    wave = m1c_wavelet\n",
    "#    wave = m1a * RC_AXIAL_TOPSUB\n",
    "#    wave = m1b_full * RC_AXIAL_TOPSUB\n",
    "#    wave = m1c_full * RC_AXIAL_TOPSUB\n",
    "#    wave = (m1a + m1b_full + m1c_full) * RC_AXIAL_TOPSUB\n",
    "    wave = (p0 + (m1a + m1b_full + m1c_full) * RC_AXIAL_TOPSUB)\n",
    "\n",
    "    \n",
    "    axial_to_pipeline = wave.copy()\n",
    "    w = signal.filtfilt(theoretical.fir_taps, 1, wave)                                                                                                                                      \n",
    "    w = theoretical.get_window_from_center(WINDOW, w)\n",
    "        \n",
    "    extracted_features = feature_extractor(w, time, **AXIAL_FEATURE_EXTRACTOR)\n",
    "    delay = extracted_features['center']['delay']\n",
    "    amplitude = extracted_features['center']['amplitude']\n",
    "    right_to_left_ratio = extracted_features['right_to_left_ratio']\n",
    "    center_to_left_ratio = extracted_features['center_to_left_ratio']\n",
    "    \n",
    "    \n",
    "    axial_delays.append(delay)\n",
    "    axial_right_to_left_ratio.append(right_to_left_ratio)\n",
    "    axial_center_to_left_ratio.append(center_to_left_ratio)\n",
    "    \n",
    "    mod = ((r/1000)*((a/1000)**2))\n",
    "    axial_modulus.append(mod)\n",
    "    axial_wavelets.append(axial_to_pipeline)\n",
    "    \n",
    "axial_delays = np.asarray(axial_delays)\n",
    "# axial_delays = axial_delays + (0.0000001 - axial_delays.min())\n",
    "\n",
    "axial_modulus = np.asarray(axial_modulus)\n",
    "axial_right_to_left_ratio = np.asarray(axial_right_to_left_ratio)\n",
    "axial_center_to_left_ratio = np.asarray(axial_center_to_left_ratio)"
   ]
  },
  {
   "cell_type": "code",
   "execution_count": null,
   "metadata": {},
   "outputs": [],
   "source": [
    "axial_wavelets = [i.tolist() for i in axial_wavelets]"
   ]
  },
  {
   "cell_type": "markdown",
   "metadata": {},
   "source": [
    "## Quick QC Axial"
   ]
  },
  {
   "cell_type": "code",
   "execution_count": null,
   "metadata": {},
   "outputs": [],
   "source": [
    "fig, axes = plt.subplots(1, 4, figsize=(15+15, 5))\n",
    "axes[0].plot(time, w)\n",
    "axes[0].scatter(delay, amplitude, s=50, c='r')\n",
    "axes[0].scatter(extracted_features['left']['delay'], extracted_features['left']['amplitude'], s=50, c='r', marker=\"<\")\n",
    "axes[0].scatter(extracted_features['right']['delay'], extracted_features['right']['amplitude'], s=50, c='r', marker=\">\")\n",
    "axes[0].set_title('Example Wavelet - alpha: {}, rho: {}'.format(a, r))\n",
    "axes[1].scatter(axial_delays, axial_modulus)\n",
    "axes[1].set_xlabel('Picked Times (s)'); axes[1].set_ylabel('CompressionalModulus(GPa)')\n",
    "axes[1].set_xlim(axial_delays.min(), axial_delays.max())\n",
    "axes[1].set_title('Time vs Modulus')\n",
    "axes[2].scatter(axial_right_to_left_ratio, axial_modulus)\n",
    "axes[2].set_xlabel('RHS/LHS'); axes[2].set_ylabel('CompressionalModulus(GPa)')\n",
    "axes[2].set_xlim(axial_right_to_left_ratio.min(), axial_right_to_left_ratio.max())\n",
    "axes[2].set_title('RHS/LHS vs Modulus')\n",
    "axes[3].scatter(axial_center_to_left_ratio, axial_modulus)\n",
    "axes[3].set_xlabel('CENTER/LHS'); axes[3].set_ylabel('CompressionalModulus(GPa)')\n",
    "axes[3].set_xlim(axial_center_to_left_ratio.min(), axial_center_to_left_ratio.max())\n",
    "axes[3].set_title('CENTER/LHS vs Modulus')"
   ]
  },
  {
   "cell_type": "markdown",
   "metadata": {},
   "source": [
    "# Modeling Tangential Times  -  fundamental and bitsub pegleg only here"
   ]
  },
  {
   "cell_type": "code",
   "execution_count": null,
   "metadata": {},
   "outputs": [],
   "source": [
    "beta_range = np.arange(*ROCK_BETA_RANGE)\n",
    "RHO_RANGE = np.arange(*ROCK_RHO_RANGE)\n",
    "\n",
    "#   Calculate multipass delays for number of pipes\n",
    "DELAY_TANGENTIAL_M1A = DELAY_TANGENTIAL_M1A + (NUM_PIPES - 1) * DELAY_TANGENTIAL_PIPE\n",
    "DELAY_TANGENTIAL_M1B = DELAY_TANGENTIAL_M1B + (NUM_PIPES - 1) * DELAY_TANGENTIAL_PIPE\n",
    "DELAY_TANGENTIAL_M1C = DELAY_TANGENTIAL_M1C + (NUM_PIPES - 1) * DELAY_TANGENTIAL_PIPE\n",
    "        \n",
    "window = 310\n",
    "tangential_delays = []\n",
    "tangential_modulus = []\n",
    "tangential_right_to_left_ratio = []\n",
    "tangential_center_to_left_ratio = []\n",
    "\n",
    "\n",
    "pipe = Pipe(Rb=Rb, alpha=PIPE_ALPHA, rho=PIPE_RHO, beta=PIPE_BETA, contact_factor=CONTACT_FACTOR_TANGENTIAL)\n",
    "\n",
    "wavelets = []\n",
    "for b, r in tqdm(product(beta_range, RHO_RANGE), total=len(list(product(beta_range, RHO_RANGE)))):\n",
    "    rock = Rock(beta=b, rho=r, component='tangential')\n",
    "    theoretical = TheoreticalWavelet(pipe, rock, component='tangential', nyquist=5000, filterby=BANDPASS_FILTER)\n",
    "    time = theoretical.get_time_range_for_window(WINDOW)/1000\n",
    "#\n",
    "    raw_primary = theoretical.primary_in_time_domain()\n",
    "    raw_reflected = theoretical.reflected_in_time_domain()\n",
    "    raw_primary = theoretical.apply_derivative(raw_primary)\n",
    "    pegleg = (theoretical.pegleg_rocksteel(delay_in_ms=DELAY_TANGENTIAL_BITSUB, RC=RC_TANGENTIAL_BITSUB, window=None)) \n",
    "    pegleg = theoretical.apply_derivative(pegleg)        \n",
    "    p0 = pegleg + raw_primary\n",
    "#\n",
    "\n",
    "# The call below generates a pegleg for pipe-to-pipe connection. NUM_PIPE is number of steels in drillstring. \n",
    "#\n",
    "    count = NUM_PIPES\n",
    "    while (count > 1):\n",
    "        p0 += theoretical.apply_time_shift( p0 * RC_TANGENTIAL_Connector, delay_in_ms=DELAY_TANGENTIAL_Connector)\n",
    "        count = count - 1\n",
    "#\n",
    "    m1a = theoretical.apply_time_shift(p0 * RC_TANGENTIAL_M1A, delay_in_ms=DELAY_TANGENTIAL_M1A)                  \n",
    "    m1b_wavelet = signal.convolve(p0, raw_reflected, mode=\"same\")\n",
    "    m1b_full = theoretical.apply_time_shift(m1b_wavelet * RC_TANGENTIAL_M1B, delay_in_ms=DELAY_TANGENTIAL_M1B)          \n",
    "    m1c_wavelet = signal.convolve(m1b_wavelet, raw_reflected, mode=\"same\")\n",
    "    m1c_full = theoretical.apply_time_shift(m1c_wavelet * RC_TANGENTIAL_M1C, delay_in_ms=DELAY_TANGENTIAL_M1C)          \n",
    "#    \n",
    "#\n",
    "#  You can select the wavelet to plot below.  Does not affect anything else.\n",
    "#    wave = raw_primary\n",
    "#    wave = raw_reflected\n",
    "#    wave = pegleg\n",
    "#    wave = p0\n",
    "#    wave = m1b_wavelet\n",
    "#    wave = m1c_wavelet\n",
    "#    wave = m1a * RC_TANGENTIAL_TOPSUB\n",
    "#    wave = m1b_full * RC_TANGENTIAL_TOPSUB\n",
    "#    wave = m1c_full * RC_TANGENTIAL_TOPSUB\n",
    "#    wave = (m1a + m1b_full + m1c_full) * RC_TANGENTIAL_TOPSUB\n",
    "    wave = (p0 + (m1a + m1b_full + m1c_full) * RC_TANGENTIAL_TOPSUB)\n",
    "#\n",
    "\n",
    "    w = signal.filtfilt(theoretical.fir_taps, 1, wave)                                                                                                                                      \n",
    "    w = theoretical.get_window_from_center(WINDOW, w)\n",
    "        \n",
    "    extracted_features = feature_extractor(w, time, **TANGENTIAL_FEATURE_EXTRACTOR)\n",
    "    delay = extracted_features['center']['delay']\n",
    "    amplitude = extracted_features['center']['amplitude']\n",
    "    right_to_left_ratio = extracted_features['right_to_left_ratio']\n",
    "    center_to_left_ratio = extracted_features['center_to_left_ratio']\n",
    "    \n",
    "    \n",
    "    tangential_delays.append(delay)\n",
    "    tangential_right_to_left_ratio.append(right_to_left_ratio)\n",
    "    tangential_center_to_left_ratio.append(center_to_left_ratio)\n",
    "    \n",
    "    mod = ((r/1000)*((b/1000)**2))\n",
    "    tangential_modulus.append(mod)\n",
    "    \n",
    "tangential_delays = np.asarray(tangential_delays)\n",
    "\n",
    "tangential_modulus = np.asarray(tangential_modulus)\n",
    "tangential_right_to_left_ratio = np.asarray(tangential_right_to_left_ratio)\n",
    "tangential_center_to_left_ratio = np.asarray(tangential_center_to_left_ratio)"
   ]
  },
  {
   "cell_type": "markdown",
   "metadata": {},
   "source": [
    "## Quick QC Tangential"
   ]
  },
  {
   "cell_type": "code",
   "execution_count": null,
   "metadata": {},
   "outputs": [],
   "source": [
    "fig, axes = plt.subplots(1, 4, figsize=(15+15, 5))\n",
    "axes[0].plot(time, w)\n",
    "axes[0].scatter(delay, amplitude, s=50, c='r')\n",
    "axes[0].scatter(extracted_features['left']['delay'], extracted_features['left']['amplitude'], s=50, c='r', marker=\"<\")\n",
    "axes[0].scatter(extracted_features['right']['delay'], extracted_features['right']['amplitude'], s=50, c='r', marker=\">\")\n",
    "axes[0].set_title('Example Wavelet - beta: {}, rho: {}'.format(a, r))\n",
    "axes[1].scatter(tangential_delays, tangential_modulus)\n",
    "axes[1].set_xlabel('Picked Times (s)'); axes[1].set_ylabel('ShearModulus(GPa)')\n",
    "axes[1].set_xlim(tangential_delays.min(), tangential_delays.max())\n",
    "axes[1].set_title('Time vs Modulus')\n",
    "axes[2].scatter(tangential_right_to_left_ratio, tangential_modulus)\n",
    "axes[2].set_xlabel('RHS/LHS'); axes[2].set_ylabel('ShearModulus(GPa)')\n",
    "axes[2].set_xlim(tangential_right_to_left_ratio.min(), tangential_right_to_left_ratio.max())\n",
    "axes[2].set_title('RHS/LHS vs Modulus')\n",
    "axes[3].scatter(tangential_center_to_left_ratio, tangential_modulus)\n",
    "axes[3].set_xlabel('CENTER/LHS'); axes[3].set_ylabel('ShearModulus(GPa)')\n",
    "axes[3].set_xlim(tangential_center_to_left_ratio.min(), tangential_center_to_left_ratio.max())\n",
    "axes[3].set_title('CENTER/LHS vs Modulus')"
   ]
  },
  {
   "cell_type": "markdown",
   "metadata": {},
   "source": [
    "# Check Distribution of Axial Delays and Tangential Delays "
   ]
  },
  {
   "cell_type": "code",
   "execution_count": null,
   "metadata": {},
   "outputs": [],
   "source": [
    "fig, (ax1,ax2) = plt.subplots(1, 2, figsize=(15,5))\n",
    "\n",
    "sns.distplot(axial_delays, label='axial_time', ax=ax1, kde=False, bins=35)\n",
    "sns.distplot(tangential_delays, label='tangential_time', ax=ax2, kde=False, bins=35)"
   ]
  },
  {
   "cell_type": "markdown",
   "metadata": {},
   "source": [
    "## A bigger plot of the picked times.  You may need to change range of axes[n].set.xlim at bottom of cell."
   ]
  },
  {
   "cell_type": "code",
   "execution_count": null,
   "metadata": {},
   "outputs": [],
   "source": [
    "import matplotlib.ticker as ticker\n",
    "\n",
    "fig, axes = plt.subplots(1, 2, figsize=(25,15), dpi=200, sharey=False)\n",
    "sns.scatterplot(axial_delays, axial_modulus, ax=axes[0])\n",
    "sns.scatterplot(tangential_delays, tangential_modulus, ax=axes[1])\n",
    "\n",
    "#    ax.yaxis.set_major_locator(ticker.MultipleLocator(1))\n",
    "#    ax.xaxis.set_major_locator(ticker.MultipleLocator(0.00025))\n",
    "#    ax.xaxis.set_major_formatter(ticker.ScalarFormatter())\n",
    "\n",
    "axes[0].set_xlabel('primary time')\n",
    "axes[0].set_ylabel('Compressional Modulus (GPa)')\n",
    "\n",
    "axes[1].set_xlabel('primary time')\n",
    "axes[1].set_ylabel('Shear Modulus (GPa)')\n",
    "\n",
    "axes[0].set_xlim(-0.0010, 0.008)\n",
    "axes[1].set_xlim(-0.0035, -0.0005)"
   ]
  },
  {
   "cell_type": "markdown",
   "metadata": {},
   "source": [
    "Modulus is a function of time."
   ]
  },
  {
   "cell_type": "markdown",
   "metadata": {},
   "source": [
    "# Modeling"
   ]
  },
  {
   "cell_type": "markdown",
   "metadata": {},
   "source": [
    "## This is a bunch of functions we can fit our model to. "
   ]
  },
  {
   "cell_type": "code",
   "execution_count": null,
   "metadata": {},
   "outputs": [],
   "source": [
    "from theory.function_handler import ModelingFunction"
   ]
  },
  {
   "cell_type": "code",
   "execution_count": null,
   "metadata": {},
   "outputs": [],
   "source": [
    "line_function = ModelingFunction('a * x + b')\n",
    "\n",
    "power_func = ModelingFunction('a * (x + b)**(c)')\n",
    "power_func2 = ModelingFunction('(((a * (((x)+b)**c) + d) + (e*x) + f) / (g  * ((x) ** (2)) + h * x + i) * j)')\n",
    "power_func3 = ModelingFunction('((a * (((x)+b)**c) + d) / (e  * ((x) ** (2)) + f * x + g) * h)')\n",
    "power_func4 = ModelingFunction('((a * (((x)+b)**c) + d)  / (e * (x) + f) * g)')\n",
    "exponential_func = ModelingFunction('a * np.exp(-b * np.asarray(x)) + c')\n",
    "quadratic_func = ModelingFunction('(a * x**2) + (b * x) + c')\n",
    "cubic_func = ModelingFunction('(a * x**3) + (b * x**2) + (c * x) + d')\n",
    "quartic_func = ModelingFunction('(a * x**4) + (b * x**3) + (c * x**2) + (d * x) + e')"
   ]
  },
  {
   "cell_type": "markdown",
   "metadata": {},
   "source": [
    "## SELECT WHICH FUNCTION TO USE.  Work in conjunction with range of moduli to fit (next active cell)"
   ]
  },
  {
   "cell_type": "code",
   "execution_count": null,
   "metadata": {},
   "outputs": [],
   "source": [
    "# SELECT FUNCTION TO USE\n",
    "\n",
    "from copy import copy \n",
    "#current_axial_func = copy(quadratic_func)\n",
    "#current_axial_func = copy(quartic_func)\n",
    "current_axial_func = copy(power_func4)\n",
    "current_tangential_func = copy(power_func3)"
   ]
  },
  {
   "cell_type": "markdown",
   "metadata": {},
   "source": [
    "## Removing modulus for the fitting  --  MUST CHECK FOR APPROPRIATE RANGE AND ENTER BELOW"
   ]
  },
  {
   "cell_type": "code",
   "execution_count": null,
   "metadata": {},
   "outputs": [],
   "source": [
    "axial_delays_clipped = axial_delays[((axial_modulus) < 10) & (axial_modulus > 0.9)]\n",
    "axial_modulus_clipped = axial_modulus[((axial_modulus) < 10) & (axial_modulus > 0.9)]\n",
    "                                      \n",
    "tangential_delays_clipped = tangential_delays[((tangential_modulus) < 12) & (tangential_modulus > 1.5)]\n",
    "tangential_modulus_clipped = tangential_modulus[((tangential_modulus) < 12) & (tangential_modulus > 1.5)]"
   ]
  },
  {
   "cell_type": "code",
   "execution_count": null,
   "metadata": {},
   "outputs": [],
   "source": [
    "current_axial_func.fit( \n",
    "    axial_delays_clipped,\n",
    "    axial_modulus_clipped)\n",
    "\n",
    "current_tangential_func.fit( \n",
    "    tangential_delays_clipped,\n",
    "    tangential_modulus_clipped,)"
   ]
  },
  {
   "cell_type": "markdown",
   "metadata": {},
   "source": [
    "## Look at the equations "
   ]
  },
  {
   "cell_type": "code",
   "execution_count": null,
   "metadata": {},
   "outputs": [],
   "source": [
    "print('axial: ', current_axial_func.get_fitted_string())\n",
    "print()\n",
    "print('tangential: ', current_tangential_func.get_fitted_string())"
   ]
  },
  {
   "cell_type": "code",
   "execution_count": null,
   "metadata": {},
   "outputs": [],
   "source": [
    "import matplotlib.ticker as ticker\n",
    "import matplotlib"
   ]
  },
  {
   "cell_type": "code",
   "execution_count": null,
   "metadata": {},
   "outputs": [],
   "source": [
    "matplotlib.use('agg')"
   ]
  },
  {
   "cell_type": "markdown",
   "metadata": {},
   "source": [
    "## Plot curves and evaluate the fit."
   ]
  },
  {
   "cell_type": "code",
   "execution_count": null,
   "metadata": {},
   "outputs": [],
   "source": [
    "fig, axes = plt.subplots(1, 2, figsize=(25,15), dpi=200, sharey=True)\n",
    "sns.scatterplot(axial_delays_clipped, axial_modulus_clipped, ax=axes[0])\n",
    "sns.scatterplot(tangential_delays_clipped, tangential_modulus_clipped, ax=axes[1])\n",
    "for ax in axes.ravel():\n",
    "    ax.yaxis.set_major_locator(ticker.MultipleLocator(1))\n",
    "    ax.xaxis.set_major_locator(ticker.MultipleLocator(0.0005))\n",
    "    ax.xaxis.set_major_formatter(ticker.ScalarFormatter())\n",
    "    \n",
    "axes[0].plot(np.linspace(axial_delays_clipped.min(), axial_delays_clipped.max()), current_axial_func(np.linspace(axial_delays_clipped.min(), axial_delays_clipped.max())), '-', color='r')\n",
    "axes[1].plot(np.linspace(tangential_delays_clipped.min(), tangential_delays_clipped.max()), current_tangential_func(np.linspace(tangential_delays_clipped.min(), tangential_delays_clipped.max())), '-', color='r')\n",
    "\n",
    "\n",
    "axes[0].set_xlabel('Primary Time')\n",
    "axes[0].set_ylabel('CompressionalModulus(GPa)')\n",
    "axes[1].set_xlabel('Primary Time')\n",
    "axes[1].set_ylabel('ShearModulus(GPa)')\n",
    "\n",
    "axes[0].set_xlim(-0.0008, axial_delays.max())\n",
    "axes[1].set_xlim(-0.0035, tangential_delays.max())\n",
    "\n",
    "# for ax in axes.ravel():\n",
    "#    ax.set_ylim(0, MODULUS_RANGE[1])\n",
    "#     ax.set_yscale('log')\n",
    "\n",
    "axes[0].set_xlim(-0.0008, 0.008)\n",
    "# axes[1].set_xlim(-.002, -.0015)\n",
    "fig.suptitle(MINE)"
   ]
  },
  {
   "cell_type": "markdown",
   "metadata": {},
   "source": [
    "## Need to carefully evaluate curve fit.  May take multiple attempts changing min/max moduli and selected function."
   ]
  },
  {
   "cell_type": "markdown",
   "metadata": {},
   "source": [
    "## Output the functions   -   Bandpass is automatic.\n",
    "### -   Identify Mine/Project, Drill number, and NUM_PIPES.   \n",
    "### -   Would be good to have automatic substitution for output file naming."
   ]
  },
  {
   "cell_type": "code",
   "execution_count": null,
   "metadata": {},
   "outputs": [],
   "source": [
    "bandpass_str = '-'.join([str(s) for s in BANDPASS_FILTER])\n",
    "\n",
    "current_axial_func.save('SWC_Axial_Primary+Mult1+Drill16+Pipes6_{}.model'.format(bandpass_str))\n",
    "current_tangential_func.save('SWC_Tangential_Primary+Mult1+Drill16+Pipes6_{}.model'.format(bandpass_str))"
   ]
  },
  {
   "cell_type": "code",
   "execution_count": null,
   "metadata": {},
   "outputs": [],
   "source": [
    "axial_lookup_table = pd.DataFrame(np.c_[np.asarray(list(product(alpha_range, RHO_RANGE))), axial_modulus, axial_delays], columns=['alpha', 'rho', 'modulus', 'primary_time'])\n",
    "axial_lookup_table.to_csv('SWC_Axial_Primary+Mult1+Drill16+Pipes6_{}_lookup.csv'.format(bandpass_str), index=False)\n",
    "\n",
    "tangential_lookup_table = pd.DataFrame(np.c_[np.asarray(list(product(beta_range, RHO_RANGE))), tangential_modulus, tangential_delays], columns=['beta', 'rho', 'modulus', 'primary_time'])\n",
    "tangential_lookup_table.to_csv('SWC_Tangential_Primary+Mult1+Drill16+Pipes6_{}_lookup.csv'.format(bandpass_str), index=False)"
   ]
  },
  {
   "cell_type": "markdown",
   "metadata": {},
   "source": [
    "# Read the Lookup Table back in and plot it to verify"
   ]
  },
  {
   "cell_type": "code",
   "execution_count": null,
   "metadata": {},
   "outputs": [],
   "source": [
    "from scipy.interpolate import interp1d\n",
    "\n",
    "def lookup_table(shifted_time, modulus):\n",
    "    return interp1d(shifted_time, modulus, fill_value=\"extrapolate\")"
   ]
  },
  {
   "cell_type": "code",
   "execution_count": null,
   "metadata": {},
   "outputs": [],
   "source": [
    "axial_lookup = pd.read_csv('SWC_Axial_Primary+Mult1+Drill16+Pipes6_{}_lookup.csv'.format(bandpass_str))\n",
    "tangential_lookup = pd.read_csv('SWC_Tangential_Primary+Mult1+Drill16+Pipes6_{}_lookup.csv'.format(bandpass_str))\n",
    "\n",
    "ALookupTable = lookup_table(axial_lookup.primary_time, axial_lookup.modulus)\n",
    "TLookupTable = lookup_table(tangential_lookup.primary_time, tangential_lookup.modulus)"
   ]
  },
  {
   "cell_type": "code",
   "execution_count": null,
   "metadata": {},
   "outputs": [],
   "source": [
    "fig, axes = plt.subplots(1, 2, figsize=(25,15), dpi=200, sharey=True)\n",
    "sns.scatterplot(axial_delays, axial_modulus, ax=axes[0])\n",
    "sns.scatterplot(tangential_delays, tangential_modulus, ax=axes[1])\n",
    "\n",
    "axes[0].plot(np.linspace(axial_delays.min(), axial_delays.max()), ALookupTable(np.linspace(axial_delays.min(), axial_delays.max()).reshape(-1, 1)), '-', color='r')\n",
    "axes[1].plot(np.linspace(tangential_delays.min(), tangential_delays.max()), TLookupTable(np.linspace(tangential_delays.min(), tangential_delays.max()).reshape(-1, 1)), '-', color='r')\n",
    "\n",
    "axes[0].set_xlabel('Primary Time')\n",
    "axes[0].set_ylabel('CompressionalModulus(GPa)')\n",
    "axes[1].set_xlabel('Primary Time')\n",
    "axes[1].set_ylabel('ShearModulus(GPa)')"
   ]
  },
  {
   "cell_type": "code",
   "execution_count": null,
   "metadata": {},
   "outputs": [],
   "source": []
  },
  {
   "cell_type": "code",
   "execution_count": null,
   "metadata": {},
   "outputs": [],
   "source": []
  }
 ],
 "metadata": {
  "kernelspec": {
   "display_name": "Python 3",
   "language": "python",
   "name": "python3"
  },
  "language_info": {
   "codemirror_mode": {
    "name": "ipython",
    "version": 3
   },
   "file_extension": ".py",
   "mimetype": "text/x-python",
   "name": "python",
   "nbconvert_exporter": "python",
   "pygments_lexer": "ipython3",
   "version": "3.7.5"
  }
 },
 "nbformat": 4,
 "nbformat_minor": 4
}
